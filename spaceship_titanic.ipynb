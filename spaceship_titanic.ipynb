{
 "cells": [
  {
   "cell_type": "markdown",
   "metadata": {
    "id": "e09a1b81",
    "pycharm": {
     "name": "#%% md\n"
    }
   },
   "source": [
    "## Imports"
   ]
  },
  {
   "cell_type": "code",
   "execution_count": null,
   "metadata": {
    "colab": {
     "base_uri": "https://localhost:8080/"
    },
    "id": "dc8af478",
    "outputId": "9439b085-24c1-4d7c-8bb1-d084a949f338",
    "pycharm": {
     "name": "#%%\n"
    }
   },
   "outputs": [
    {
     "output_type": "stream",
     "name": "stdout",
     "text": [
      "Populating the interactive namespace from numpy and matplotlib\n"
     ]
    }
   ],
   "source": [
    "from typing import List\n",
    "\n",
    "\n",
    "%pylab inline\n",
    "import matplotlib.pyplot as plt\n",
    "import numpy as np\n",
    "import pandas as pd\n",
    "import seaborn as sns\n",
    "import sklearn as sk\n",
    "import requests\n",
    "import pandas_profiling as pp\n",
    "import os\n",
    "import graphviz\n",
    "from sklearn.compose import ColumnTransformer\n",
    "from sklearn.decomposition import PCA\n",
    "from sklearn.experimental import enable_iterative_imputer\n",
    "from sklearn.feature_selection import RFE\n",
    "from sklearn.feature_selection import SelectFromModel\n",
    "from sklearn.feature_selection import SelectKBest\n",
    "from sklearn.feature_selection import SelectPercentile\n",
    "from sklearn.feature_selection import SequentialFeatureSelector\n",
    "from sklearn.impute import IterativeImputer, KNNImputer, SimpleImputer\n",
    "from sklearn.linear_model import Lasso, LinearRegression\n",
    "from sklearn.metrics import classification_report, confusion_matrix\n",
    "from sklearn.model_selection import (\n",
    "    GridSearchCV,\n",
    "    StratifiedKFold,\n",
    "    cross_val_score,\n",
    "    train_test_split,\n",
    ")\n",
    "from sklearn.pipeline import Pipeline\n",
    "from sklearn.preprocessing import StandardScaler, OneHotEncoder, OrdinalEncoder, FunctionTransformer\n",
    "from sklearn.tree import DecisionTreeClassifier, export_graphviz\n",
    "from sklearn.svm import SVC\n",
    "# from pandas_profiling.utils.cache import cache_file\n",
    "\n",
    "import tensorflow as tf\n",
    "from tensorflow.keras.layers import Dense\n",
    "from tensorflow.keras.models import Sequential"
   ]
  },
  {
   "cell_type": "markdown",
   "metadata": {
    "id": "e1693a1a",
    "pycharm": {
     "name": "#%% md\n"
    }
   },
   "source": [
    "---\n",
    "# Load Data"
   ]
  },
  {
   "cell_type": "markdown",
   "metadata": {
    "id": "DXb8zJK273XN",
    "pycharm": {
     "name": "#%% md\n"
    }
   },
   "source": [
    "## Constants"
   ]
  },
  {
   "cell_type": "markdown",
   "metadata": {
    "id": "FlQQlRzwYnDw",
    "pycharm": {
     "name": "#%% md\n"
    }
   },
   "source": [
    "We define some constants used in the whole notebook"
   ]
  },
  {
   "cell_type": "code",
   "execution_count": null,
   "metadata": {
    "id": "rk3VLvxw8LDj",
    "pycharm": {
     "name": "#%%\n"
    }
   },
   "outputs": [],
   "source": [
    "DATA_PATH = \"https://raw.githubusercontent.com/Citoci/SpaceshipTitanic/master/data/\"\n",
    "OUTPUT_PATH = \"/content/\"\n",
    "RANDOM_STATE = 3993"
   ]
  },
  {
   "cell_type": "markdown",
   "metadata": {
    "id": "076yI24k8O7L",
    "pycharm": {
     "name": "#%% md\n"
    }
   },
   "source": [
    "## Dataset"
   ]
  },
  {
   "cell_type": "markdown",
   "metadata": {
    "id": "nUENHRJGYreP",
    "pycharm": {
     "name": "#%% md\n"
    }
   },
   "source": [
    "We load the dataset and the target (that will be used to train the models)"
   ]
  },
  {
   "cell_type": "code",
   "execution_count": null,
   "metadata": {
    "colab": {
     "base_uri": "https://localhost:8080/"
    },
    "id": "53cc8ac5",
    "outputId": "73637dd5-2c22-427a-dad8-17a6f525ab2e",
    "pycharm": {
     "name": "#%%\n"
    }
   },
   "outputs": [
    {
     "output_type": "execute_result",
     "data": {
      "text/plain": [
       "              Age     Cabin CryoSleep    Destination  FoodCourt HomePlanet  \\\n",
       "PassengerId                                                                  \n",
       "0001_01      39.0     B/0/P     False    TRAPPIST-1e        0.0     Europa   \n",
       "0002_01      24.0     F/0/S     False    TRAPPIST-1e        9.0      Earth   \n",
       "0003_01      58.0     A/0/S     False    TRAPPIST-1e     3576.0     Europa   \n",
       "0003_02      33.0     A/0/S     False    TRAPPIST-1e     1283.0     Europa   \n",
       "0004_01      16.0     F/1/S     False    TRAPPIST-1e       70.0      Earth   \n",
       "...           ...       ...       ...            ...        ...        ...   \n",
       "9276_01      41.0    A/98/P     False    55 Cancri e     6819.0     Europa   \n",
       "9278_01      18.0  G/1499/S      True  PSO J318.5-22        0.0      Earth   \n",
       "9279_01      26.0  G/1500/S     False    TRAPPIST-1e        0.0      Earth   \n",
       "9280_01      32.0   E/608/S     False    55 Cancri e     1049.0     Europa   \n",
       "9280_02      44.0   E/608/S     False    TRAPPIST-1e     4688.0     Europa   \n",
       "\n",
       "                          Name  RoomService  ShoppingMall     Spa    VIP  \\\n",
       "PassengerId                                                                \n",
       "0001_01        Maham Ofracculy          0.0           0.0     0.0  False   \n",
       "0002_01           Juanna Vines        109.0          25.0   549.0  False   \n",
       "0003_01          Altark Susent         43.0           0.0  6715.0   True   \n",
       "0003_02           Solam Susent          0.0         371.0  3329.0  False   \n",
       "0004_01      Willy Santantines        303.0         151.0   565.0  False   \n",
       "...                        ...          ...           ...     ...    ...   \n",
       "9276_01      Gravior Noxnuther          0.0           0.0  1643.0   True   \n",
       "9278_01        Kurta Mondalley          0.0           0.0     0.0  False   \n",
       "9279_01           Fayey Connon          0.0        1872.0     1.0  False   \n",
       "9280_01       Celeon Hontichre          0.0           0.0   353.0  False   \n",
       "9280_02       Propsh Hontichre        126.0           0.0     0.0  False   \n",
       "\n",
       "             VRDeck  \n",
       "PassengerId          \n",
       "0001_01         0.0  \n",
       "0002_01        44.0  \n",
       "0003_01        49.0  \n",
       "0003_02       193.0  \n",
       "0004_01         2.0  \n",
       "...             ...  \n",
       "9276_01        74.0  \n",
       "9278_01         0.0  \n",
       "9279_01         0.0  \n",
       "9280_01      3235.0  \n",
       "9280_02        12.0  \n",
       "\n",
       "[8693 rows x 12 columns]"
      ],
      "text/html": [
       "\n",
       "  <div id=\"df-36c5c345-caa1-4bf5-9220-0dab6204097a\">\n",
       "    <div class=\"colab-df-container\">\n",
       "      <div>\n",
       "<style scoped>\n",
       "    .dataframe tbody tr th:only-of-type {\n",
       "        vertical-align: middle;\n",
       "    }\n",
       "\n",
       "    .dataframe tbody tr th {\n",
       "        vertical-align: top;\n",
       "    }\n",
       "\n",
       "    .dataframe thead th {\n",
       "        text-align: right;\n",
       "    }\n",
       "</style>\n",
       "<table border=\"1\" class=\"dataframe\">\n",
       "  <thead>\n",
       "    <tr style=\"text-align: right;\">\n",
       "      <th></th>\n",
       "      <th>Age</th>\n",
       "      <th>Cabin</th>\n",
       "      <th>CryoSleep</th>\n",
       "      <th>Destination</th>\n",
       "      <th>FoodCourt</th>\n",
       "      <th>HomePlanet</th>\n",
       "      <th>Name</th>\n",
       "      <th>RoomService</th>\n",
       "      <th>ShoppingMall</th>\n",
       "      <th>Spa</th>\n",
       "      <th>VIP</th>\n",
       "      <th>VRDeck</th>\n",
       "    </tr>\n",
       "    <tr>\n",
       "      <th>PassengerId</th>\n",
       "      <th></th>\n",
       "      <th></th>\n",
       "      <th></th>\n",
       "      <th></th>\n",
       "      <th></th>\n",
       "      <th></th>\n",
       "      <th></th>\n",
       "      <th></th>\n",
       "      <th></th>\n",
       "      <th></th>\n",
       "      <th></th>\n",
       "      <th></th>\n",
       "    </tr>\n",
       "  </thead>\n",
       "  <tbody>\n",
       "    <tr>\n",
       "      <th>0001_01</th>\n",
       "      <td>39.0</td>\n",
       "      <td>B/0/P</td>\n",
       "      <td>False</td>\n",
       "      <td>TRAPPIST-1e</td>\n",
       "      <td>0.0</td>\n",
       "      <td>Europa</td>\n",
       "      <td>Maham Ofracculy</td>\n",
       "      <td>0.0</td>\n",
       "      <td>0.0</td>\n",
       "      <td>0.0</td>\n",
       "      <td>False</td>\n",
       "      <td>0.0</td>\n",
       "    </tr>\n",
       "    <tr>\n",
       "      <th>0002_01</th>\n",
       "      <td>24.0</td>\n",
       "      <td>F/0/S</td>\n",
       "      <td>False</td>\n",
       "      <td>TRAPPIST-1e</td>\n",
       "      <td>9.0</td>\n",
       "      <td>Earth</td>\n",
       "      <td>Juanna Vines</td>\n",
       "      <td>109.0</td>\n",
       "      <td>25.0</td>\n",
       "      <td>549.0</td>\n",
       "      <td>False</td>\n",
       "      <td>44.0</td>\n",
       "    </tr>\n",
       "    <tr>\n",
       "      <th>0003_01</th>\n",
       "      <td>58.0</td>\n",
       "      <td>A/0/S</td>\n",
       "      <td>False</td>\n",
       "      <td>TRAPPIST-1e</td>\n",
       "      <td>3576.0</td>\n",
       "      <td>Europa</td>\n",
       "      <td>Altark Susent</td>\n",
       "      <td>43.0</td>\n",
       "      <td>0.0</td>\n",
       "      <td>6715.0</td>\n",
       "      <td>True</td>\n",
       "      <td>49.0</td>\n",
       "    </tr>\n",
       "    <tr>\n",
       "      <th>0003_02</th>\n",
       "      <td>33.0</td>\n",
       "      <td>A/0/S</td>\n",
       "      <td>False</td>\n",
       "      <td>TRAPPIST-1e</td>\n",
       "      <td>1283.0</td>\n",
       "      <td>Europa</td>\n",
       "      <td>Solam Susent</td>\n",
       "      <td>0.0</td>\n",
       "      <td>371.0</td>\n",
       "      <td>3329.0</td>\n",
       "      <td>False</td>\n",
       "      <td>193.0</td>\n",
       "    </tr>\n",
       "    <tr>\n",
       "      <th>0004_01</th>\n",
       "      <td>16.0</td>\n",
       "      <td>F/1/S</td>\n",
       "      <td>False</td>\n",
       "      <td>TRAPPIST-1e</td>\n",
       "      <td>70.0</td>\n",
       "      <td>Earth</td>\n",
       "      <td>Willy Santantines</td>\n",
       "      <td>303.0</td>\n",
       "      <td>151.0</td>\n",
       "      <td>565.0</td>\n",
       "      <td>False</td>\n",
       "      <td>2.0</td>\n",
       "    </tr>\n",
       "    <tr>\n",
       "      <th>...</th>\n",
       "      <td>...</td>\n",
       "      <td>...</td>\n",
       "      <td>...</td>\n",
       "      <td>...</td>\n",
       "      <td>...</td>\n",
       "      <td>...</td>\n",
       "      <td>...</td>\n",
       "      <td>...</td>\n",
       "      <td>...</td>\n",
       "      <td>...</td>\n",
       "      <td>...</td>\n",
       "      <td>...</td>\n",
       "    </tr>\n",
       "    <tr>\n",
       "      <th>9276_01</th>\n",
       "      <td>41.0</td>\n",
       "      <td>A/98/P</td>\n",
       "      <td>False</td>\n",
       "      <td>55 Cancri e</td>\n",
       "      <td>6819.0</td>\n",
       "      <td>Europa</td>\n",
       "      <td>Gravior Noxnuther</td>\n",
       "      <td>0.0</td>\n",
       "      <td>0.0</td>\n",
       "      <td>1643.0</td>\n",
       "      <td>True</td>\n",
       "      <td>74.0</td>\n",
       "    </tr>\n",
       "    <tr>\n",
       "      <th>9278_01</th>\n",
       "      <td>18.0</td>\n",
       "      <td>G/1499/S</td>\n",
       "      <td>True</td>\n",
       "      <td>PSO J318.5-22</td>\n",
       "      <td>0.0</td>\n",
       "      <td>Earth</td>\n",
       "      <td>Kurta Mondalley</td>\n",
       "      <td>0.0</td>\n",
       "      <td>0.0</td>\n",
       "      <td>0.0</td>\n",
       "      <td>False</td>\n",
       "      <td>0.0</td>\n",
       "    </tr>\n",
       "    <tr>\n",
       "      <th>9279_01</th>\n",
       "      <td>26.0</td>\n",
       "      <td>G/1500/S</td>\n",
       "      <td>False</td>\n",
       "      <td>TRAPPIST-1e</td>\n",
       "      <td>0.0</td>\n",
       "      <td>Earth</td>\n",
       "      <td>Fayey Connon</td>\n",
       "      <td>0.0</td>\n",
       "      <td>1872.0</td>\n",
       "      <td>1.0</td>\n",
       "      <td>False</td>\n",
       "      <td>0.0</td>\n",
       "    </tr>\n",
       "    <tr>\n",
       "      <th>9280_01</th>\n",
       "      <td>32.0</td>\n",
       "      <td>E/608/S</td>\n",
       "      <td>False</td>\n",
       "      <td>55 Cancri e</td>\n",
       "      <td>1049.0</td>\n",
       "      <td>Europa</td>\n",
       "      <td>Celeon Hontichre</td>\n",
       "      <td>0.0</td>\n",
       "      <td>0.0</td>\n",
       "      <td>353.0</td>\n",
       "      <td>False</td>\n",
       "      <td>3235.0</td>\n",
       "    </tr>\n",
       "    <tr>\n",
       "      <th>9280_02</th>\n",
       "      <td>44.0</td>\n",
       "      <td>E/608/S</td>\n",
       "      <td>False</td>\n",
       "      <td>TRAPPIST-1e</td>\n",
       "      <td>4688.0</td>\n",
       "      <td>Europa</td>\n",
       "      <td>Propsh Hontichre</td>\n",
       "      <td>126.0</td>\n",
       "      <td>0.0</td>\n",
       "      <td>0.0</td>\n",
       "      <td>False</td>\n",
       "      <td>12.0</td>\n",
       "    </tr>\n",
       "  </tbody>\n",
       "</table>\n",
       "<p>8693 rows × 12 columns</p>\n",
       "</div>\n",
       "      <button class=\"colab-df-convert\" onclick=\"convertToInteractive('df-36c5c345-caa1-4bf5-9220-0dab6204097a')\"\n",
       "              title=\"Convert this dataframe to an interactive table.\"\n",
       "              style=\"display:none;\">\n",
       "        \n",
       "  <svg xmlns=\"http://www.w3.org/2000/svg\" height=\"24px\"viewBox=\"0 0 24 24\"\n",
       "       width=\"24px\">\n",
       "    <path d=\"M0 0h24v24H0V0z\" fill=\"none\"/>\n",
       "    <path d=\"M18.56 5.44l.94 2.06.94-2.06 2.06-.94-2.06-.94-.94-2.06-.94 2.06-2.06.94zm-11 1L8.5 8.5l.94-2.06 2.06-.94-2.06-.94L8.5 2.5l-.94 2.06-2.06.94zm10 10l.94 2.06.94-2.06 2.06-.94-2.06-.94-.94-2.06-.94 2.06-2.06.94z\"/><path d=\"M17.41 7.96l-1.37-1.37c-.4-.4-.92-.59-1.43-.59-.52 0-1.04.2-1.43.59L10.3 9.45l-7.72 7.72c-.78.78-.78 2.05 0 2.83L4 21.41c.39.39.9.59 1.41.59.51 0 1.02-.2 1.41-.59l7.78-7.78 2.81-2.81c.8-.78.8-2.07 0-2.86zM5.41 20L4 18.59l7.72-7.72 1.47 1.35L5.41 20z\"/>\n",
       "  </svg>\n",
       "      </button>\n",
       "      \n",
       "  <style>\n",
       "    .colab-df-container {\n",
       "      display:flex;\n",
       "      flex-wrap:wrap;\n",
       "      gap: 12px;\n",
       "    }\n",
       "\n",
       "    .colab-df-convert {\n",
       "      background-color: #E8F0FE;\n",
       "      border: none;\n",
       "      border-radius: 50%;\n",
       "      cursor: pointer;\n",
       "      display: none;\n",
       "      fill: #1967D2;\n",
       "      height: 32px;\n",
       "      padding: 0 0 0 0;\n",
       "      width: 32px;\n",
       "    }\n",
       "\n",
       "    .colab-df-convert:hover {\n",
       "      background-color: #E2EBFA;\n",
       "      box-shadow: 0px 1px 2px rgba(60, 64, 67, 0.3), 0px 1px 3px 1px rgba(60, 64, 67, 0.15);\n",
       "      fill: #174EA6;\n",
       "    }\n",
       "\n",
       "    [theme=dark] .colab-df-convert {\n",
       "      background-color: #3B4455;\n",
       "      fill: #D2E3FC;\n",
       "    }\n",
       "\n",
       "    [theme=dark] .colab-df-convert:hover {\n",
       "      background-color: #434B5C;\n",
       "      box-shadow: 0px 1px 3px 1px rgba(0, 0, 0, 0.15);\n",
       "      filter: drop-shadow(0px 1px 2px rgba(0, 0, 0, 0.3));\n",
       "      fill: #FFFFFF;\n",
       "    }\n",
       "  </style>\n",
       "\n",
       "      <script>\n",
       "        const buttonEl =\n",
       "          document.querySelector('#df-36c5c345-caa1-4bf5-9220-0dab6204097a button.colab-df-convert');\n",
       "        buttonEl.style.display =\n",
       "          google.colab.kernel.accessAllowed ? 'block' : 'none';\n",
       "\n",
       "        async function convertToInteractive(key) {\n",
       "          const element = document.querySelector('#df-36c5c345-caa1-4bf5-9220-0dab6204097a');\n",
       "          const dataTable =\n",
       "            await google.colab.kernel.invokeFunction('convertToInteractive',\n",
       "                                                     [key], {});\n",
       "          if (!dataTable) return;\n",
       "\n",
       "          const docLinkHtml = 'Like what you see? Visit the ' +\n",
       "            '<a target=\"_blank\" href=https://colab.research.google.com/notebooks/data_table.ipynb>data table notebook</a>'\n",
       "            + ' to learn more about interactive tables.';\n",
       "          element.innerHTML = '';\n",
       "          dataTable['output_type'] = 'display_data';\n",
       "          await google.colab.output.renderOutput(dataTable, element);\n",
       "          const docLink = document.createElement('div');\n",
       "          docLink.innerHTML = docLinkHtml;\n",
       "          element.appendChild(docLink);\n",
       "        }\n",
       "      </script>\n",
       "    </div>\n",
       "  </div>\n",
       "  "
      ]
     },
     "metadata": {},
     "execution_count": 3
    }
   ],
   "source": [
    "dataset = pd.read_csv(DATA_PATH + \"train.csv\")\n",
    "\n",
    "# Save the target column and drop the target\n",
    "target = dataset.Transported\n",
    "dataset.drop(columns=\"Transported\", inplace=True)\n",
    "\n",
    "# Set the index\n",
    "dataset.set_index('PassengerId', inplace=True)\n",
    "\n",
    "# Sort columns by name\n",
    "dataset.sort_index(axis=\"columns\", inplace=True)\n",
    "\n",
    "original_dataset = dataset.copy()\n",
    "\n",
    "dataset"
   ]
  },
  {
   "cell_type": "markdown",
   "metadata": {
    "id": "edfa17bf",
    "pycharm": {
     "name": "#%% md\n"
    }
   },
   "source": [
    "---\n",
    "# Global Data Analysis and Preprocessing"
   ]
  },
  {
   "cell_type": "markdown",
   "metadata": {
    "id": "P1BSFuiQZYoL",
    "pycharm": {
     "name": "#%% md\n"
    }
   },
   "source": [
    "## Helper Transformers"
   ]
  },
  {
   "cell_type": "markdown",
   "metadata": {
    "id": "r1iRVVwndKAp",
    "pycharm": {
     "name": "#%% md\n"
    }
   },
   "source": [
    "Defining some helper transformers to be used in the pipelines"
   ]
  },
  {
   "cell_type": "code",
   "execution_count": null,
   "metadata": {
    "id": "OJz8d0HsdIab",
    "pycharm": {
     "name": "#%%\n"
    }
   },
   "outputs": [],
   "source": [
    "# used to sort the columns in a pipeline to avoid transforming problems\n",
    "columns_sorter = FunctionTransformer(lambda ds: ds.sort_index(axis='columns'))"
   ]
  },
  {
   "cell_type": "code",
   "execution_count": null,
   "metadata": {
    "id": "1c294624",
    "pycharm": {
     "name": "#%%\n"
    }
   },
   "outputs": [],
   "source": [
    "def array_to_dataframe(arr: np.ndarray, columns: List[str]):\n",
    "    return pd.DataFrame(data=arr, columns=columns)\n",
    "\n",
    "# used to transform an array to a dataset inside a pipeline\n",
    "def array_to_dataframer(columns=None):\n",
    "  if columns!=None:\n",
    "    return FunctionTransformer(lambda ds: array_to_dataframe(ds, columns))\n",
    "  else:\n",
    "    return FunctionTransformer(lambda ds: array_to_dataframe(ds, [f\"col{i}\" for i in range(ds.shape[1])]))"
   ]
  },
  {
   "cell_type": "markdown",
   "metadata": {
    "id": "b2d22e5d",
    "pycharm": {
     "name": "#%% md\n"
    }
   },
   "source": [
    "## Missing Values\n",
    "\n",
    "\n",
    "\n",
    "\n"
   ]
  },
  {
   "cell_type": "markdown",
   "metadata": {
    "id": "kInmyHv4tPr3",
    "pycharm": {
     "name": "#%% md\n"
    }
   },
   "source": [
    "### Helper functions for missing values"
   ]
  },
  {
   "cell_type": "code",
   "execution_count": null,
   "metadata": {
    "id": "d78c0cf8",
    "pycharm": {
     "name": "#%%\n"
    }
   },
   "outputs": [],
   "source": [
    "def count_missing(ds: pd.DataFrame):\n",
    "    return ds.shape[0] - ds.count()"
   ]
  },
  {
   "cell_type": "code",
   "execution_count": null,
   "metadata": {
    "id": "0a3a2cee",
    "pycharm": {
     "name": "#%%\n"
    }
   },
   "outputs": [],
   "source": [
    "def get_sample_with_nans(ds: pd.DataFrame):\n",
    "    return ds.loc[ds.isna().any(axis=1)]"
   ]
  },
  {
   "cell_type": "code",
   "execution_count": null,
   "metadata": {
    "id": "a68ba57e",
    "pycharm": {
     "name": "#%%\n"
    }
   },
   "outputs": [],
   "source": [
    "sample_with_nans_ids = get_sample_with_nans(dataset).index"
   ]
  },
  {
   "cell_type": "markdown",
   "metadata": {
    "id": "8e617d1d",
    "pycharm": {
     "name": "#%% md\n"
    }
   },
   "source": [
    "### Impute Missing Values"
   ]
  },
  {
   "cell_type": "markdown",
   "metadata": {
    "id": "6gHbvNZ3x_Rw",
    "pycharm": {
     "name": "#%% md\n"
    }
   },
   "source": [
    "Global imputers to be used on the whole dataset before any method"
   ]
  },
  {
   "cell_type": "code",
   "execution_count": null,
   "metadata": {
    "colab": {
     "base_uri": "https://localhost:8080/"
    },
    "id": "6666d95f",
    "outputId": "e5cf57d6-36c2-4fdc-ea89-c9c22e7d053a",
    "pycharm": {
     "name": "#%%\n"
    }
   },
   "outputs": [
    {
     "output_type": "stream",
     "name": "stdout",
     "text": [
      "[ColumnTransformer]  (1 of 2) Processing impute_numeric, total=   1.2s\n",
      "[ColumnTransformer]  (2 of 2) Processing impute_nominal, total=   0.0s\n"
     ]
    }
   ],
   "source": [
    "nominal_imputer = SimpleImputer(strategy=\"most_frequent\")\n",
    "numeric_imputer = KNNImputer()\n",
    "\n",
    "\n",
    "NOMINAL_IMPUTER_COLS = [\"Cabin\", \"CryoSleep\", \"Destination\", \"HomePlanet\", \"Name\", \"VIP\"]\n",
    "NUMERIC_IMPUTER_COLS = [\"Age\", \"FoodCourt\", \"RoomService\", \"ShoppingMall\", \"Spa\", \"VRDeck\"]\n",
    "\n",
    "# Create the imputer of mixed type columns\n",
    "imputer = ColumnTransformer(\n",
    "    transformers=[\n",
    "        (\"impute_numeric\", numeric_imputer, NUMERIC_IMPUTER_COLS),\n",
    "        (\"impute_nominal\", nominal_imputer, NOMINAL_IMPUTER_COLS),\n",
    "    ],\n",
    "    verbose=True,\n",
    ")\n",
    "\n",
    "imputer.fit(dataset)\n",
    "\n",
    "imputer = Pipeline(\n",
    "    steps=[\n",
    "           (\"imputer\", imputer),\n",
    "           (\"columns\", array_to_dataframer(NUMERIC_IMPUTER_COLS+NOMINAL_IMPUTER_COLS)),\n",
    "           (\"sorter\", columns_sorter)\n",
    "    ]\n",
    ")"
   ]
  },
  {
   "cell_type": "markdown",
   "metadata": {
    "id": "RryPV1ik62GS",
    "pycharm": {
     "name": "#%% md\n"
    }
   },
   "source": [
    "## Feature Construction"
   ]
  },
  {
   "cell_type": "markdown",
   "metadata": {
    "id": "77E5d10LeHv0",
    "pycharm": {
     "name": "#%% md\n"
    }
   },
   "source": [
    "The `Cabin` variable is composed of 3 sub-strings: we can subdivide it in 3 different variables"
   ]
  },
  {
   "cell_type": "code",
   "execution_count": null,
   "metadata": {
    "id": "tVfhkOds66kK",
    "pycharm": {
     "name": "#%%\n"
    }
   },
   "outputs": [],
   "source": [
    "def cabin_split_function(ds):\n",
    "  splitted_cabin = ds['Cabin'].transform(lambda x: x.split('/'))\n",
    "  ds[[\"CabinLetter\", 'CabinNumber', 'CabinPS']] = pd.DataFrame(item for item in splitted_cabin).set_index(ds.index)\n",
    "  return ds.drop(columns=['Cabin'])\n",
    "\n",
    "cabin_transformer = Pipeline(\n",
    "    steps=[\n",
    "           (\"cabin\", FunctionTransformer(cabin_split_function)),\n",
    "           (\"sorter\", columns_sorter),\n",
    "    ]\n",
    ")"
   ]
  },
  {
   "cell_type": "markdown",
   "metadata": {
    "id": "zQJ2w34G-wqg",
    "pycharm": {
     "name": "#%% md\n"
    }
   },
   "source": [
    "## Feature Dropping"
   ]
  },
  {
   "cell_type": "code",
   "execution_count": null,
   "metadata": {
    "id": "pDdT8jsf-0hD",
    "pycharm": {
     "name": "#%%\n"
    }
   },
   "outputs": [],
   "source": [
    "def column_dropper(columns):\n",
    "  return FunctionTransformer(lambda ds: ds.drop(columns=columns))"
   ]
  },
  {
   "cell_type": "markdown",
   "metadata": {
    "id": "kwR97enV4VVy",
    "pycharm": {
     "name": "#%% md\n"
    }
   },
   "source": [
    "## Final Global Preprocessor"
   ]
  },
  {
   "cell_type": "code",
   "execution_count": null,
   "metadata": {
    "colab": {
     "base_uri": "https://localhost:8080/"
    },
    "id": "zIClq3rk7YQD",
    "outputId": "7476ebfb-42f5-4729-e0fd-5da262060384",
    "pycharm": {
     "name": "#%%\n"
    }
   },
   "outputs": [
    {
     "output_type": "execute_result",
     "data": {
      "text/plain": [
       "       Age CabinLetter CabinNumber CabinPS CryoSleep    Destination FoodCourt  \\\n",
       "0     39.0           B           0       P     False    TRAPPIST-1e       0.0   \n",
       "1     24.0           F           0       S     False    TRAPPIST-1e       9.0   \n",
       "2     58.0           A           0       S     False    TRAPPIST-1e    3576.0   \n",
       "3     33.0           A           0       S     False    TRAPPIST-1e    1283.0   \n",
       "4     16.0           F           1       S     False    TRAPPIST-1e      70.0   \n",
       "...    ...         ...         ...     ...       ...            ...       ...   \n",
       "8688  41.0           A          98       P     False    55 Cancri e    6819.0   \n",
       "8689  18.0           G        1499       S      True  PSO J318.5-22       0.0   \n",
       "8690  26.0           G        1500       S     False    TRAPPIST-1e       0.0   \n",
       "8691  32.0           E         608       S     False    55 Cancri e    1049.0   \n",
       "8692  44.0           E         608       S     False    TRAPPIST-1e    4688.0   \n",
       "\n",
       "     HomePlanet RoomService ShoppingMall     Spa    VIP  VRDeck  \n",
       "0        Europa         0.0          0.0     0.0  False     0.0  \n",
       "1         Earth       109.0         25.0   549.0  False    44.0  \n",
       "2        Europa        43.0          0.0  6715.0   True    49.0  \n",
       "3        Europa         0.0        371.0  3329.0  False   193.0  \n",
       "4         Earth       303.0        151.0   565.0  False     2.0  \n",
       "...         ...         ...          ...     ...    ...     ...  \n",
       "8688     Europa         0.0          0.0  1643.0   True    74.0  \n",
       "8689      Earth         0.0          0.0     0.0  False     0.0  \n",
       "8690      Earth         0.0       1872.0     1.0  False     0.0  \n",
       "8691     Europa         0.0          0.0   353.0  False  3235.0  \n",
       "8692     Europa       126.0          0.0     0.0  False    12.0  \n",
       "\n",
       "[8693 rows x 13 columns]"
      ],
      "text/html": [
       "\n",
       "  <div id=\"df-307ddbd8-8b3f-4336-ac5f-6485f966cf99\">\n",
       "    <div class=\"colab-df-container\">\n",
       "      <div>\n",
       "<style scoped>\n",
       "    .dataframe tbody tr th:only-of-type {\n",
       "        vertical-align: middle;\n",
       "    }\n",
       "\n",
       "    .dataframe tbody tr th {\n",
       "        vertical-align: top;\n",
       "    }\n",
       "\n",
       "    .dataframe thead th {\n",
       "        text-align: right;\n",
       "    }\n",
       "</style>\n",
       "<table border=\"1\" class=\"dataframe\">\n",
       "  <thead>\n",
       "    <tr style=\"text-align: right;\">\n",
       "      <th></th>\n",
       "      <th>Age</th>\n",
       "      <th>CabinLetter</th>\n",
       "      <th>CabinNumber</th>\n",
       "      <th>CabinPS</th>\n",
       "      <th>CryoSleep</th>\n",
       "      <th>Destination</th>\n",
       "      <th>FoodCourt</th>\n",
       "      <th>HomePlanet</th>\n",
       "      <th>RoomService</th>\n",
       "      <th>ShoppingMall</th>\n",
       "      <th>Spa</th>\n",
       "      <th>VIP</th>\n",
       "      <th>VRDeck</th>\n",
       "    </tr>\n",
       "  </thead>\n",
       "  <tbody>\n",
       "    <tr>\n",
       "      <th>0</th>\n",
       "      <td>39.0</td>\n",
       "      <td>B</td>\n",
       "      <td>0</td>\n",
       "      <td>P</td>\n",
       "      <td>False</td>\n",
       "      <td>TRAPPIST-1e</td>\n",
       "      <td>0.0</td>\n",
       "      <td>Europa</td>\n",
       "      <td>0.0</td>\n",
       "      <td>0.0</td>\n",
       "      <td>0.0</td>\n",
       "      <td>False</td>\n",
       "      <td>0.0</td>\n",
       "    </tr>\n",
       "    <tr>\n",
       "      <th>1</th>\n",
       "      <td>24.0</td>\n",
       "      <td>F</td>\n",
       "      <td>0</td>\n",
       "      <td>S</td>\n",
       "      <td>False</td>\n",
       "      <td>TRAPPIST-1e</td>\n",
       "      <td>9.0</td>\n",
       "      <td>Earth</td>\n",
       "      <td>109.0</td>\n",
       "      <td>25.0</td>\n",
       "      <td>549.0</td>\n",
       "      <td>False</td>\n",
       "      <td>44.0</td>\n",
       "    </tr>\n",
       "    <tr>\n",
       "      <th>2</th>\n",
       "      <td>58.0</td>\n",
       "      <td>A</td>\n",
       "      <td>0</td>\n",
       "      <td>S</td>\n",
       "      <td>False</td>\n",
       "      <td>TRAPPIST-1e</td>\n",
       "      <td>3576.0</td>\n",
       "      <td>Europa</td>\n",
       "      <td>43.0</td>\n",
       "      <td>0.0</td>\n",
       "      <td>6715.0</td>\n",
       "      <td>True</td>\n",
       "      <td>49.0</td>\n",
       "    </tr>\n",
       "    <tr>\n",
       "      <th>3</th>\n",
       "      <td>33.0</td>\n",
       "      <td>A</td>\n",
       "      <td>0</td>\n",
       "      <td>S</td>\n",
       "      <td>False</td>\n",
       "      <td>TRAPPIST-1e</td>\n",
       "      <td>1283.0</td>\n",
       "      <td>Europa</td>\n",
       "      <td>0.0</td>\n",
       "      <td>371.0</td>\n",
       "      <td>3329.0</td>\n",
       "      <td>False</td>\n",
       "      <td>193.0</td>\n",
       "    </tr>\n",
       "    <tr>\n",
       "      <th>4</th>\n",
       "      <td>16.0</td>\n",
       "      <td>F</td>\n",
       "      <td>1</td>\n",
       "      <td>S</td>\n",
       "      <td>False</td>\n",
       "      <td>TRAPPIST-1e</td>\n",
       "      <td>70.0</td>\n",
       "      <td>Earth</td>\n",
       "      <td>303.0</td>\n",
       "      <td>151.0</td>\n",
       "      <td>565.0</td>\n",
       "      <td>False</td>\n",
       "      <td>2.0</td>\n",
       "    </tr>\n",
       "    <tr>\n",
       "      <th>...</th>\n",
       "      <td>...</td>\n",
       "      <td>...</td>\n",
       "      <td>...</td>\n",
       "      <td>...</td>\n",
       "      <td>...</td>\n",
       "      <td>...</td>\n",
       "      <td>...</td>\n",
       "      <td>...</td>\n",
       "      <td>...</td>\n",
       "      <td>...</td>\n",
       "      <td>...</td>\n",
       "      <td>...</td>\n",
       "      <td>...</td>\n",
       "    </tr>\n",
       "    <tr>\n",
       "      <th>8688</th>\n",
       "      <td>41.0</td>\n",
       "      <td>A</td>\n",
       "      <td>98</td>\n",
       "      <td>P</td>\n",
       "      <td>False</td>\n",
       "      <td>55 Cancri e</td>\n",
       "      <td>6819.0</td>\n",
       "      <td>Europa</td>\n",
       "      <td>0.0</td>\n",
       "      <td>0.0</td>\n",
       "      <td>1643.0</td>\n",
       "      <td>True</td>\n",
       "      <td>74.0</td>\n",
       "    </tr>\n",
       "    <tr>\n",
       "      <th>8689</th>\n",
       "      <td>18.0</td>\n",
       "      <td>G</td>\n",
       "      <td>1499</td>\n",
       "      <td>S</td>\n",
       "      <td>True</td>\n",
       "      <td>PSO J318.5-22</td>\n",
       "      <td>0.0</td>\n",
       "      <td>Earth</td>\n",
       "      <td>0.0</td>\n",
       "      <td>0.0</td>\n",
       "      <td>0.0</td>\n",
       "      <td>False</td>\n",
       "      <td>0.0</td>\n",
       "    </tr>\n",
       "    <tr>\n",
       "      <th>8690</th>\n",
       "      <td>26.0</td>\n",
       "      <td>G</td>\n",
       "      <td>1500</td>\n",
       "      <td>S</td>\n",
       "      <td>False</td>\n",
       "      <td>TRAPPIST-1e</td>\n",
       "      <td>0.0</td>\n",
       "      <td>Earth</td>\n",
       "      <td>0.0</td>\n",
       "      <td>1872.0</td>\n",
       "      <td>1.0</td>\n",
       "      <td>False</td>\n",
       "      <td>0.0</td>\n",
       "    </tr>\n",
       "    <tr>\n",
       "      <th>8691</th>\n",
       "      <td>32.0</td>\n",
       "      <td>E</td>\n",
       "      <td>608</td>\n",
       "      <td>S</td>\n",
       "      <td>False</td>\n",
       "      <td>55 Cancri e</td>\n",
       "      <td>1049.0</td>\n",
       "      <td>Europa</td>\n",
       "      <td>0.0</td>\n",
       "      <td>0.0</td>\n",
       "      <td>353.0</td>\n",
       "      <td>False</td>\n",
       "      <td>3235.0</td>\n",
       "    </tr>\n",
       "    <tr>\n",
       "      <th>8692</th>\n",
       "      <td>44.0</td>\n",
       "      <td>E</td>\n",
       "      <td>608</td>\n",
       "      <td>S</td>\n",
       "      <td>False</td>\n",
       "      <td>TRAPPIST-1e</td>\n",
       "      <td>4688.0</td>\n",
       "      <td>Europa</td>\n",
       "      <td>126.0</td>\n",
       "      <td>0.0</td>\n",
       "      <td>0.0</td>\n",
       "      <td>False</td>\n",
       "      <td>12.0</td>\n",
       "    </tr>\n",
       "  </tbody>\n",
       "</table>\n",
       "<p>8693 rows × 13 columns</p>\n",
       "</div>\n",
       "      <button class=\"colab-df-convert\" onclick=\"convertToInteractive('df-307ddbd8-8b3f-4336-ac5f-6485f966cf99')\"\n",
       "              title=\"Convert this dataframe to an interactive table.\"\n",
       "              style=\"display:none;\">\n",
       "        \n",
       "  <svg xmlns=\"http://www.w3.org/2000/svg\" height=\"24px\"viewBox=\"0 0 24 24\"\n",
       "       width=\"24px\">\n",
       "    <path d=\"M0 0h24v24H0V0z\" fill=\"none\"/>\n",
       "    <path d=\"M18.56 5.44l.94 2.06.94-2.06 2.06-.94-2.06-.94-.94-2.06-.94 2.06-2.06.94zm-11 1L8.5 8.5l.94-2.06 2.06-.94-2.06-.94L8.5 2.5l-.94 2.06-2.06.94zm10 10l.94 2.06.94-2.06 2.06-.94-2.06-.94-.94-2.06-.94 2.06-2.06.94z\"/><path d=\"M17.41 7.96l-1.37-1.37c-.4-.4-.92-.59-1.43-.59-.52 0-1.04.2-1.43.59L10.3 9.45l-7.72 7.72c-.78.78-.78 2.05 0 2.83L4 21.41c.39.39.9.59 1.41.59.51 0 1.02-.2 1.41-.59l7.78-7.78 2.81-2.81c.8-.78.8-2.07 0-2.86zM5.41 20L4 18.59l7.72-7.72 1.47 1.35L5.41 20z\"/>\n",
       "  </svg>\n",
       "      </button>\n",
       "      \n",
       "  <style>\n",
       "    .colab-df-container {\n",
       "      display:flex;\n",
       "      flex-wrap:wrap;\n",
       "      gap: 12px;\n",
       "    }\n",
       "\n",
       "    .colab-df-convert {\n",
       "      background-color: #E8F0FE;\n",
       "      border: none;\n",
       "      border-radius: 50%;\n",
       "      cursor: pointer;\n",
       "      display: none;\n",
       "      fill: #1967D2;\n",
       "      height: 32px;\n",
       "      padding: 0 0 0 0;\n",
       "      width: 32px;\n",
       "    }\n",
       "\n",
       "    .colab-df-convert:hover {\n",
       "      background-color: #E2EBFA;\n",
       "      box-shadow: 0px 1px 2px rgba(60, 64, 67, 0.3), 0px 1px 3px 1px rgba(60, 64, 67, 0.15);\n",
       "      fill: #174EA6;\n",
       "    }\n",
       "\n",
       "    [theme=dark] .colab-df-convert {\n",
       "      background-color: #3B4455;\n",
       "      fill: #D2E3FC;\n",
       "    }\n",
       "\n",
       "    [theme=dark] .colab-df-convert:hover {\n",
       "      background-color: #434B5C;\n",
       "      box-shadow: 0px 1px 3px 1px rgba(0, 0, 0, 0.15);\n",
       "      filter: drop-shadow(0px 1px 2px rgba(0, 0, 0, 0.3));\n",
       "      fill: #FFFFFF;\n",
       "    }\n",
       "  </style>\n",
       "\n",
       "      <script>\n",
       "        const buttonEl =\n",
       "          document.querySelector('#df-307ddbd8-8b3f-4336-ac5f-6485f966cf99 button.colab-df-convert');\n",
       "        buttonEl.style.display =\n",
       "          google.colab.kernel.accessAllowed ? 'block' : 'none';\n",
       "\n",
       "        async function convertToInteractive(key) {\n",
       "          const element = document.querySelector('#df-307ddbd8-8b3f-4336-ac5f-6485f966cf99');\n",
       "          const dataTable =\n",
       "            await google.colab.kernel.invokeFunction('convertToInteractive',\n",
       "                                                     [key], {});\n",
       "          if (!dataTable) return;\n",
       "\n",
       "          const docLinkHtml = 'Like what you see? Visit the ' +\n",
       "            '<a target=\"_blank\" href=https://colab.research.google.com/notebooks/data_table.ipynb>data table notebook</a>'\n",
       "            + ' to learn more about interactive tables.';\n",
       "          element.innerHTML = '';\n",
       "          dataTable['output_type'] = 'display_data';\n",
       "          await google.colab.output.renderOutput(dataTable, element);\n",
       "          const docLink = document.createElement('div');\n",
       "          docLink.innerHTML = docLinkHtml;\n",
       "          element.appendChild(docLink);\n",
       "        }\n",
       "      </script>\n",
       "    </div>\n",
       "  </div>\n",
       "  "
      ]
     },
     "metadata": {},
     "execution_count": 12
    }
   ],
   "source": [
    "global_preprocessor = Pipeline(\n",
    "    steps=[\n",
    "           (\"imputer\", imputer),\n",
    "           (\"cabin\", cabin_transformer),\n",
    "           (\"dropper\", column_dropper([\"Name\"]))\n",
    "    ]\n",
    ")\n",
    "\n",
    "pp_dataset = global_preprocessor.transform(dataset)\n",
    "pp_dataset"
   ]
  },
  {
   "cell_type": "markdown",
   "metadata": {
    "id": "DZqHS-H23_YP",
    "pycharm": {
     "name": "#%% md\n"
    }
   },
   "source": [
    "## Feature subdivision (binary, nominal, numerical)"
   ]
  },
  {
   "cell_type": "code",
   "execution_count": null,
   "metadata": {
    "colab": {
     "base_uri": "https://localhost:8080/"
    },
    "id": "XSaKISgD3_YP",
    "outputId": "b71b2217-2d47-4bb5-aa45-38e2c61b99d2",
    "pycharm": {
     "name": "#%%\n"
    }
   },
   "outputs": [
    {
     "output_type": "execute_result",
     "data": {
      "text/plain": [
       "CabinPS            2\n",
       "CryoSleep          2\n",
       "VIP                2\n",
       "Destination        3\n",
       "HomePlanet         3\n",
       "CabinLetter        8\n",
       "Age              131\n",
       "ShoppingMall    1180\n",
       "RoomService     1344\n",
       "VRDeck          1365\n",
       "Spa             1396\n",
       "FoodCourt       1566\n",
       "CabinNumber     1817\n",
       "dtype: int64"
      ]
     },
     "metadata": {},
     "execution_count": 13
    }
   ],
   "source": [
    "# Count the number of unique values in dataframe\n",
    "cols_unique_vals_count = pp_dataset.nunique().sort_values()\n",
    "cols_unique_vals_count"
   ]
  },
  {
   "cell_type": "code",
   "execution_count": null,
   "metadata": {
    "colab": {
     "base_uri": "https://localhost:8080/"
    },
    "id": "qNaCs60i3_YP",
    "outputId": "1173ae45-3c72-4f07-d9fc-b846554af7e6",
    "pycharm": {
     "name": "#%%\n"
    }
   },
   "outputs": [
    {
     "output_type": "execute_result",
     "data": {
      "text/plain": [
       "['CabinPS', 'CryoSleep', 'VIP']"
      ]
     },
     "metadata": {},
     "execution_count": 14
    }
   ],
   "source": [
    "# If the column has only 2 unique values it is a binary col\n",
    "BINARY_COLS = [col for col, val in cols_unique_vals_count.items() if val == 2]\n",
    "BINARY_COLS"
   ]
  },
  {
   "cell_type": "code",
   "execution_count": null,
   "metadata": {
    "colab": {
     "base_uri": "https://localhost:8080/"
    },
    "id": "C8WRQDx13_YP",
    "outputId": "e9d6ff58-f9c8-4c07-edc3-c7ea4315f7f8",
    "pycharm": {
     "name": "#%%\n"
    }
   },
   "outputs": [
    {
     "output_type": "execute_result",
     "data": {
      "text/plain": [
       "['Destination', 'HomePlanet', 'CabinLetter']"
      ]
     },
     "metadata": {},
     "execution_count": 15
    }
   ],
   "source": [
    "# Maximum number of unique values which represent a Nominal (categorical) feature\n",
    "NOMINAL_NUNIQUE_THRESHOLD = 10\n",
    "NOMINAL_COLS = [\n",
    "    col\n",
    "    for col, val in cols_unique_vals_count.items()\n",
    "    if val > 2 and val < NOMINAL_NUNIQUE_THRESHOLD\n",
    "]\n",
    "NOMINAL_COLS"
   ]
  },
  {
   "cell_type": "code",
   "execution_count": null,
   "metadata": {
    "colab": {
     "base_uri": "https://localhost:8080/"
    },
    "id": "SBR35KmY3_YP",
    "outputId": "8b0eba7f-ae29-4a17-acc5-64af239c01ee",
    "pycharm": {
     "name": "#%%\n"
    }
   },
   "outputs": [
    {
     "output_type": "execute_result",
     "data": {
      "text/plain": [
       "['Age',\n",
       " 'ShoppingMall',\n",
       " 'RoomService',\n",
       " 'VRDeck',\n",
       " 'Spa',\n",
       " 'FoodCourt',\n",
       " 'CabinNumber']"
      ]
     },
     "metadata": {},
     "execution_count": 16
    }
   ],
   "source": [
    "# Maximum number of unique values which represent a Nominal (categorical) feature\n",
    "NUMERICAL_COLS = [\n",
    "    col\n",
    "    for col, val in cols_unique_vals_count.items()\n",
    "    if val > NOMINAL_NUNIQUE_THRESHOLD\n",
    "]\n",
    "NUMERICAL_COLS"
   ]
  },
  {
   "cell_type": "code",
   "execution_count": null,
   "metadata": {
    "colab": {
     "base_uri": "https://localhost:8080/"
    },
    "id": "L75-VNb83_YQ",
    "outputId": "00c86ae8-462a-4e84-85a5-ab87be0f528f",
    "pycharm": {
     "name": "#%%\n"
    }
   },
   "outputs": [
    {
     "output_type": "execute_result",
     "data": {
      "text/plain": [
       "['CabinPS', 'CryoSleep', 'VIP', 'Destination', 'HomePlanet', 'CabinLetter']"
      ]
     },
     "metadata": {},
     "execution_count": 17
    }
   ],
   "source": [
    "# Create the categorical columns list as binary + nominal\n",
    "CATEGORICAL_COLS = BINARY_COLS + NOMINAL_COLS\n",
    "CATEGORICAL_COLS"
   ]
  },
  {
   "cell_type": "markdown",
   "metadata": {
    "id": "cCQiyfGNDGlz",
    "pycharm": {
     "name": "#%% md\n"
    }
   },
   "source": [
    "---\n",
    "# Kaggle\n",
    "\n"
   ]
  },
  {
   "cell_type": "code",
   "execution_count": null,
   "metadata": {
    "id": "C9W-0oI4DJJX",
    "pycharm": {
     "name": "#%%\n"
    }
   },
   "outputs": [],
   "source": [
    "def generateSubmission(model, model_preprocessor, model_postprocessor=None, file_name = \"last_submission.csv\", description=\"\", direct_submit_to_kaggle=False):\n",
    "  # Read the test data\n",
    "  test_ds = pd.read_csv(DATA_PATH + \"test.csv\").set_index('PassengerId').sort_index(axis='columns')\n",
    "  # print(test_ds.info())\n",
    "\n",
    "  # Applying global preprocessing identical to train data\n",
    "  pp_test = global_preprocessor.transform(test_ds)\n",
    "\n",
    "  pp_test = model_preprocessor.transform(pp_test)\n",
    "  # print(pp_test.info())\n",
    "\n",
    "  # Use the model to make predictions\n",
    "  y_test_pred = np.squeeze(model.predict(pp_test))\n",
    "  # print(y_test_pred)\n",
    "\n",
    "  if model_postprocessor:\n",
    "    y_test_pred = model_postprocessor.transform(y_test_pred)\n",
    "\n",
    "  # submission file\n",
    "  submission = pd.DataFrame({\"PassengerId\": test_ds.index, \"transported\": y_test_pred})\n",
    "  print(submission)\n",
    "\n",
    "  if not os.path.exists(OUTPUT_PATH):\n",
    "    os.mkdir(OUTPUT_PATH)\n",
    "\n",
    "  # you could use any filename. We choose submission here\n",
    "  submission.to_csv(OUTPUT_PATH + file_name, index=False)\n",
    "\n",
    "  # Submit authomatically; kaggle API authentication needed\n",
    "  if (direct_submit_to_kaggle):\n",
    "    print(\"Pushin submission to Kaggle...\")\n",
    "    from google.colab import drive\n",
    "    drive.mount('/content/gdrive')\n",
    "    !mkdir -p ~/.kaggle\n",
    "    !cp \"/content/gdrive/My Drive/kaggle.json\" ~/.kaggle/\n",
    "    !pip install kaggle\n",
    "    !chmod 600 /root/.kaggle/kaggle.json\n",
    "    !kaggle competitions submit -c spaceship-titanic -f {OUTPUT_PATH + file_name} -m description\n"
   ]
  },
  {
   "cell_type": "markdown",
   "metadata": {
    "id": "FRPxKfVJ8uGk",
    "pycharm": {
     "name": "#%% md\n"
    }
   },
   "source": [
    "---\n",
    "# Decision Trees"
   ]
  },
  {
   "cell_type": "markdown",
   "metadata": {
    "id": "b51C5V5R6dzk",
    "pycharm": {
     "name": "#%% md\n"
    }
   },
   "source": [
    "## Preprocessing"
   ]
  },
  {
   "cell_type": "code",
   "execution_count": null,
   "metadata": {
    "id": "jM82rAIV9v-J",
    "pycharm": {
     "name": "#%%\n"
    }
   },
   "outputs": [],
   "source": [
    "dt_dataset = pp_dataset.copy()"
   ]
  },
  {
   "cell_type": "markdown",
   "metadata": {
    "id": "D2N0YAQa2pKv",
    "pycharm": {
     "name": "#%% md\n"
    }
   },
   "source": [
    "### Column dropping"
   ]
  },
  {
   "cell_type": "markdown",
   "metadata": {
    "id": "pIHKL_T7aKnh",
    "pycharm": {
     "name": "#%% md\n"
    }
   },
   "source": [
    "Whe chose to remove the columns that we saw were never used by this model (they had low/zero feature importance in the sections below)"
   ]
  },
  {
   "cell_type": "code",
   "execution_count": null,
   "metadata": {
    "id": "te9uiuWf6kW6",
    "pycharm": {
     "name": "#%%\n"
    }
   },
   "outputs": [],
   "source": [
    "DT_DROP_COLUMNS = ['CabinNumber']\n",
    "\n",
    "dt_column_dropper = column_dropper(DT_DROP_COLUMNS)"
   ]
  },
  {
   "cell_type": "markdown",
   "metadata": {
    "id": "n7_ZZD3w3_YO",
    "pycharm": {
     "name": "#%% md\n"
    }
   },
   "source": [
    "### Numerizing features"
   ]
  },
  {
   "cell_type": "markdown",
   "metadata": {
    "id": "Fs_JeXJWaXwU",
    "pycharm": {
     "name": "#%% md\n"
    }
   },
   "source": [
    "Decision Trees can split automatically only numerical features: we need a way to transform binary and nominal features to numerical ones. We chose an Ordinal Encoder to preserve the original feature dimensions and to keep the decision tree simple and readable."
   ]
  },
  {
   "cell_type": "code",
   "execution_count": null,
   "metadata": {
    "id": "ItT3_9iU3_YQ",
    "pycharm": {
     "name": "#%%\n"
    }
   },
   "outputs": [],
   "source": [
    "# Create categorical transformer (binary + nominal)\n",
    "categorical_transformer = Pipeline(\n",
    "    steps=[\n",
    "        #(\"one_hot_encoder\", OneHotEncoder(sparse=False)),\n",
    "        (\"ordinal_encoder\", OrdinalEncoder()),\n",
    "        (\"scaler\", StandardScaler()),\n",
    "    ]\n",
    ")"
   ]
  },
  {
   "cell_type": "code",
   "execution_count": null,
   "metadata": {
    "id": "Xbh6jIf83_YQ",
    "pycharm": {
     "name": "#%%\n"
    }
   },
   "outputs": [],
   "source": [
    "# Create numeric transformer\n",
    "numeric_transformer = Pipeline(\n",
    "    steps=[\n",
    "           (\"scaler\", StandardScaler())\n",
    "    ]\n",
    ")"
   ]
  },
  {
   "cell_type": "code",
   "execution_count": null,
   "metadata": {
    "id": "8fjV8V3S3_YQ",
    "pycharm": {
     "name": "#%%\n"
    }
   },
   "outputs": [],
   "source": [
    "# Create the imputer of mixed type columns\n",
    "numerizer = ColumnTransformer(\n",
    "    transformers=[\n",
    "        (\"preproc_numeric\", numeric_transformer, NUMERICAL_COLS),\n",
    "        (\"preproc_categorical\", categorical_transformer, CATEGORICAL_COLS),\n",
    "    ],\n",
    "    verbose=True,\n",
    ")\n",
    "\n",
    "\n",
    "# Column names after mixed imputation procedure\n",
    "COLUMN_NAMES = NUMERICAL_COLS + CATEGORICAL_COLS"
   ]
  },
  {
   "cell_type": "code",
   "execution_count": null,
   "metadata": {
    "colab": {
     "base_uri": "https://localhost:8080/"
    },
    "id": "3lvzxgtq3_YQ",
    "outputId": "033db525-6d8e-4f36-b26b-3bd331d60127",
    "pycharm": {
     "name": "#%%\n"
    }
   },
   "outputs": [
    {
     "name": "stdout",
     "output_type": "stream",
     "text": [
      "[ColumnTransformer]  (1 of 2) Processing preproc_numeric, total=   0.0s\n",
      "[ColumnTransformer]  (2 of 2) Processing preproc_categorical, total=   0.0s\n"
     ]
    }
   ],
   "source": [
    "# Fit the column transformer\n",
    "numerizer.fit(dt_dataset)\n",
    "\n",
    "numerizer = Pipeline(\n",
    "    steps=[\n",
    "           (\"numerizer\", numerizer),\n",
    "           (\"columns\", array_to_dataframer(columns=COLUMN_NAMES))\n",
    "    ]\n",
    ")"
   ]
  },
  {
   "cell_type": "code",
   "execution_count": null,
   "metadata": {
    "colab": {
     "base_uri": "https://localhost:8080/"
    },
    "id": "mY9CSyX93_YQ",
    "outputId": "580295c9-7680-48fc-cacf-978032a8ada9",
    "pycharm": {
     "name": "#%%\n"
    }
   },
   "outputs": [
    {
     "data": {
      "text/html": [
       "\n",
       "  <div id=\"df-bb15d880-502d-4cea-b969-4fe00de19e49\">\n",
       "    <div class=\"colab-df-container\">\n",
       "      <div>\n",
       "<style scoped>\n",
       "    .dataframe tbody tr th:only-of-type {\n",
       "        vertical-align: middle;\n",
       "    }\n",
       "\n",
       "    .dataframe tbody tr th {\n",
       "        vertical-align: top;\n",
       "    }\n",
       "\n",
       "    .dataframe thead th {\n",
       "        text-align: right;\n",
       "    }\n",
       "</style>\n",
       "<table border=\"1\" class=\"dataframe\">\n",
       "  <thead>\n",
       "    <tr style=\"text-align: right;\">\n",
       "      <th></th>\n",
       "      <th>Age</th>\n",
       "      <th>ShoppingMall</th>\n",
       "      <th>RoomService</th>\n",
       "      <th>VRDeck</th>\n",
       "      <th>Spa</th>\n",
       "      <th>FoodCourt</th>\n",
       "      <th>CabinNumber</th>\n",
       "      <th>CabinPS</th>\n",
       "      <th>CryoSleep</th>\n",
       "      <th>VIP</th>\n",
       "      <th>Destination</th>\n",
       "      <th>HomePlanet</th>\n",
       "      <th>CabinLetter</th>\n",
       "    </tr>\n",
       "  </thead>\n",
       "  <tbody>\n",
       "    <tr>\n",
       "      <th>0</th>\n",
       "      <td>0.705117</td>\n",
       "      <td>-0.287939</td>\n",
       "      <td>-0.338270</td>\n",
       "      <td>-0.265818</td>\n",
       "      <td>-0.273560</td>\n",
       "      <td>-0.283565</td>\n",
       "      <td>-1.191744</td>\n",
       "      <td>-1.032865</td>\n",
       "      <td>-0.732770</td>\n",
       "      <td>-0.153063</td>\n",
       "      <td>0.620545</td>\n",
       "      <td>0.440385</td>\n",
       "      <td>-1.883161</td>\n",
       "    </tr>\n",
       "    <tr>\n",
       "      <th>1</th>\n",
       "      <td>-0.338899</td>\n",
       "      <td>-0.246165</td>\n",
       "      <td>-0.173619</td>\n",
       "      <td>-0.227037</td>\n",
       "      <td>0.213965</td>\n",
       "      <td>-0.277930</td>\n",
       "      <td>-1.191744</td>\n",
       "      <td>0.968181</td>\n",
       "      <td>-0.732770</td>\n",
       "      <td>-0.153063</td>\n",
       "      <td>0.620545</td>\n",
       "      <td>-0.817259</td>\n",
       "      <td>0.369299</td>\n",
       "    </tr>\n",
       "    <tr>\n",
       "      <th>2</th>\n",
       "      <td>2.027537</td>\n",
       "      <td>-0.287939</td>\n",
       "      <td>-0.273316</td>\n",
       "      <td>-0.222630</td>\n",
       "      <td>5.689517</td>\n",
       "      <td>1.955440</td>\n",
       "      <td>-1.191744</td>\n",
       "      <td>0.968181</td>\n",
       "      <td>-0.732770</td>\n",
       "      <td>6.533255</td>\n",
       "      <td>0.620545</td>\n",
       "      <td>0.440385</td>\n",
       "      <td>-2.446276</td>\n",
       "    </tr>\n",
       "    <tr>\n",
       "      <th>3</th>\n",
       "      <td>0.287511</td>\n",
       "      <td>0.331980</td>\n",
       "      <td>-0.338270</td>\n",
       "      <td>-0.095712</td>\n",
       "      <td>2.682670</td>\n",
       "      <td>0.519747</td>\n",
       "      <td>-1.191744</td>\n",
       "      <td>0.968181</td>\n",
       "      <td>-0.732770</td>\n",
       "      <td>-0.153063</td>\n",
       "      <td>0.620545</td>\n",
       "      <td>0.440385</td>\n",
       "      <td>-2.446276</td>\n",
       "    </tr>\n",
       "    <tr>\n",
       "      <th>4</th>\n",
       "      <td>-0.895707</td>\n",
       "      <td>-0.035627</td>\n",
       "      <td>0.119428</td>\n",
       "      <td>-0.264055</td>\n",
       "      <td>0.228174</td>\n",
       "      <td>-0.239736</td>\n",
       "      <td>-1.189769</td>\n",
       "      <td>0.968181</td>\n",
       "      <td>-0.732770</td>\n",
       "      <td>-0.153063</td>\n",
       "      <td>0.620545</td>\n",
       "      <td>-0.817259</td>\n",
       "      <td>0.369299</td>\n",
       "    </tr>\n",
       "    <tr>\n",
       "      <th>...</th>\n",
       "      <td>...</td>\n",
       "      <td>...</td>\n",
       "      <td>...</td>\n",
       "      <td>...</td>\n",
       "      <td>...</td>\n",
       "      <td>...</td>\n",
       "      <td>...</td>\n",
       "      <td>...</td>\n",
       "      <td>...</td>\n",
       "      <td>...</td>\n",
       "      <td>...</td>\n",
       "      <td>...</td>\n",
       "      <td>...</td>\n",
       "    </tr>\n",
       "    <tr>\n",
       "      <th>8688</th>\n",
       "      <td>0.844319</td>\n",
       "      <td>-0.287939</td>\n",
       "      <td>-0.338270</td>\n",
       "      <td>-0.200596</td>\n",
       "      <td>1.185463</td>\n",
       "      <td>3.985946</td>\n",
       "      <td>-0.998198</td>\n",
       "      <td>-1.032865</td>\n",
       "      <td>-0.732770</td>\n",
       "      <td>6.533255</td>\n",
       "      <td>-1.833685</td>\n",
       "      <td>0.440385</td>\n",
       "      <td>-2.446276</td>\n",
       "    </tr>\n",
       "    <tr>\n",
       "      <th>8689</th>\n",
       "      <td>-0.756505</td>\n",
       "      <td>-0.287939</td>\n",
       "      <td>-0.338270</td>\n",
       "      <td>-0.265818</td>\n",
       "      <td>-0.273560</td>\n",
       "      <td>-0.283565</td>\n",
       "      <td>1.768722</td>\n",
       "      <td>0.968181</td>\n",
       "      <td>1.364685</td>\n",
       "      <td>-0.153063</td>\n",
       "      <td>-0.606570</td>\n",
       "      <td>-0.817259</td>\n",
       "      <td>0.932414</td>\n",
       "    </tr>\n",
       "    <tr>\n",
       "      <th>8690</th>\n",
       "      <td>-0.199696</td>\n",
       "      <td>2.840060</td>\n",
       "      <td>-0.338270</td>\n",
       "      <td>-0.265818</td>\n",
       "      <td>-0.272672</td>\n",
       "      <td>-0.283565</td>\n",
       "      <td>1.770697</td>\n",
       "      <td>0.968181</td>\n",
       "      <td>-0.732770</td>\n",
       "      <td>-0.153063</td>\n",
       "      <td>0.620545</td>\n",
       "      <td>-0.817259</td>\n",
       "      <td>0.932414</td>\n",
       "    </tr>\n",
       "    <tr>\n",
       "      <th>8691</th>\n",
       "      <td>0.217910</td>\n",
       "      <td>-0.287939</td>\n",
       "      <td>-0.338270</td>\n",
       "      <td>2.585435</td>\n",
       "      <td>0.039913</td>\n",
       "      <td>0.373235</td>\n",
       "      <td>0.009032</td>\n",
       "      <td>0.968181</td>\n",
       "      <td>-0.732770</td>\n",
       "      <td>-0.153063</td>\n",
       "      <td>-1.833685</td>\n",
       "      <td>0.440385</td>\n",
       "      <td>-0.193816</td>\n",
       "    </tr>\n",
       "    <tr>\n",
       "      <th>8692</th>\n",
       "      <td>1.053122</td>\n",
       "      <td>-0.287939</td>\n",
       "      <td>-0.147940</td>\n",
       "      <td>-0.255241</td>\n",
       "      <td>-0.273560</td>\n",
       "      <td>2.651685</td>\n",
       "      <td>0.009032</td>\n",
       "      <td>0.968181</td>\n",
       "      <td>-0.732770</td>\n",
       "      <td>-0.153063</td>\n",
       "      <td>0.620545</td>\n",
       "      <td>0.440385</td>\n",
       "      <td>-0.193816</td>\n",
       "    </tr>\n",
       "  </tbody>\n",
       "</table>\n",
       "<p>8693 rows × 13 columns</p>\n",
       "</div>\n",
       "      <button class=\"colab-df-convert\" onclick=\"convertToInteractive('df-bb15d880-502d-4cea-b969-4fe00de19e49')\"\n",
       "              title=\"Convert this dataframe to an interactive table.\"\n",
       "              style=\"display:none;\">\n",
       "        \n",
       "  <svg xmlns=\"http://www.w3.org/2000/svg\" height=\"24px\"viewBox=\"0 0 24 24\"\n",
       "       width=\"24px\">\n",
       "    <path d=\"M0 0h24v24H0V0z\" fill=\"none\"/>\n",
       "    <path d=\"M18.56 5.44l.94 2.06.94-2.06 2.06-.94-2.06-.94-.94-2.06-.94 2.06-2.06.94zm-11 1L8.5 8.5l.94-2.06 2.06-.94-2.06-.94L8.5 2.5l-.94 2.06-2.06.94zm10 10l.94 2.06.94-2.06 2.06-.94-2.06-.94-.94-2.06-.94 2.06-2.06.94z\"/><path d=\"M17.41 7.96l-1.37-1.37c-.4-.4-.92-.59-1.43-.59-.52 0-1.04.2-1.43.59L10.3 9.45l-7.72 7.72c-.78.78-.78 2.05 0 2.83L4 21.41c.39.39.9.59 1.41.59.51 0 1.02-.2 1.41-.59l7.78-7.78 2.81-2.81c.8-.78.8-2.07 0-2.86zM5.41 20L4 18.59l7.72-7.72 1.47 1.35L5.41 20z\"/>\n",
       "  </svg>\n",
       "      </button>\n",
       "      \n",
       "  <style>\n",
       "    .colab-df-container {\n",
       "      display:flex;\n",
       "      flex-wrap:wrap;\n",
       "      gap: 12px;\n",
       "    }\n",
       "\n",
       "    .colab-df-convert {\n",
       "      background-color: #E8F0FE;\n",
       "      border: none;\n",
       "      border-radius: 50%;\n",
       "      cursor: pointer;\n",
       "      display: none;\n",
       "      fill: #1967D2;\n",
       "      height: 32px;\n",
       "      padding: 0 0 0 0;\n",
       "      width: 32px;\n",
       "    }\n",
       "\n",
       "    .colab-df-convert:hover {\n",
       "      background-color: #E2EBFA;\n",
       "      box-shadow: 0px 1px 2px rgba(60, 64, 67, 0.3), 0px 1px 3px 1px rgba(60, 64, 67, 0.15);\n",
       "      fill: #174EA6;\n",
       "    }\n",
       "\n",
       "    [theme=dark] .colab-df-convert {\n",
       "      background-color: #3B4455;\n",
       "      fill: #D2E3FC;\n",
       "    }\n",
       "\n",
       "    [theme=dark] .colab-df-convert:hover {\n",
       "      background-color: #434B5C;\n",
       "      box-shadow: 0px 1px 3px 1px rgba(0, 0, 0, 0.15);\n",
       "      filter: drop-shadow(0px 1px 2px rgba(0, 0, 0, 0.3));\n",
       "      fill: #FFFFFF;\n",
       "    }\n",
       "  </style>\n",
       "\n",
       "      <script>\n",
       "        const buttonEl =\n",
       "          document.querySelector('#df-bb15d880-502d-4cea-b969-4fe00de19e49 button.colab-df-convert');\n",
       "        buttonEl.style.display =\n",
       "          google.colab.kernel.accessAllowed ? 'block' : 'none';\n",
       "\n",
       "        async function convertToInteractive(key) {\n",
       "          const element = document.querySelector('#df-bb15d880-502d-4cea-b969-4fe00de19e49');\n",
       "          const dataTable =\n",
       "            await google.colab.kernel.invokeFunction('convertToInteractive',\n",
       "                                                     [key], {});\n",
       "          if (!dataTable) return;\n",
       "\n",
       "          const docLinkHtml = 'Like what you see? Visit the ' +\n",
       "            '<a target=\"_blank\" href=https://colab.research.google.com/notebooks/data_table.ipynb>data table notebook</a>'\n",
       "            + ' to learn more about interactive tables.';\n",
       "          element.innerHTML = '';\n",
       "          dataTable['output_type'] = 'display_data';\n",
       "          await google.colab.output.renderOutput(dataTable, element);\n",
       "          const docLink = document.createElement('div');\n",
       "          docLink.innerHTML = docLinkHtml;\n",
       "          element.appendChild(docLink);\n",
       "        }\n",
       "      </script>\n",
       "    </div>\n",
       "  </div>\n",
       "  "
      ],
      "text/plain": [
       "           Age  ShoppingMall  RoomService    VRDeck       Spa  FoodCourt  \\\n",
       "0     0.705117     -0.287939    -0.338270 -0.265818 -0.273560  -0.283565   \n",
       "1    -0.338899     -0.246165    -0.173619 -0.227037  0.213965  -0.277930   \n",
       "2     2.027537     -0.287939    -0.273316 -0.222630  5.689517   1.955440   \n",
       "3     0.287511      0.331980    -0.338270 -0.095712  2.682670   0.519747   \n",
       "4    -0.895707     -0.035627     0.119428 -0.264055  0.228174  -0.239736   \n",
       "...        ...           ...          ...       ...       ...        ...   \n",
       "8688  0.844319     -0.287939    -0.338270 -0.200596  1.185463   3.985946   \n",
       "8689 -0.756505     -0.287939    -0.338270 -0.265818 -0.273560  -0.283565   \n",
       "8690 -0.199696      2.840060    -0.338270 -0.265818 -0.272672  -0.283565   \n",
       "8691  0.217910     -0.287939    -0.338270  2.585435  0.039913   0.373235   \n",
       "8692  1.053122     -0.287939    -0.147940 -0.255241 -0.273560   2.651685   \n",
       "\n",
       "      CabinNumber   CabinPS  CryoSleep       VIP  Destination  HomePlanet  \\\n",
       "0       -1.191744 -1.032865  -0.732770 -0.153063     0.620545    0.440385   \n",
       "1       -1.191744  0.968181  -0.732770 -0.153063     0.620545   -0.817259   \n",
       "2       -1.191744  0.968181  -0.732770  6.533255     0.620545    0.440385   \n",
       "3       -1.191744  0.968181  -0.732770 -0.153063     0.620545    0.440385   \n",
       "4       -1.189769  0.968181  -0.732770 -0.153063     0.620545   -0.817259   \n",
       "...           ...       ...        ...       ...          ...         ...   \n",
       "8688    -0.998198 -1.032865  -0.732770  6.533255    -1.833685    0.440385   \n",
       "8689     1.768722  0.968181   1.364685 -0.153063    -0.606570   -0.817259   \n",
       "8690     1.770697  0.968181  -0.732770 -0.153063     0.620545   -0.817259   \n",
       "8691     0.009032  0.968181  -0.732770 -0.153063    -1.833685    0.440385   \n",
       "8692     0.009032  0.968181  -0.732770 -0.153063     0.620545    0.440385   \n",
       "\n",
       "      CabinLetter  \n",
       "0       -1.883161  \n",
       "1        0.369299  \n",
       "2       -2.446276  \n",
       "3       -2.446276  \n",
       "4        0.369299  \n",
       "...           ...  \n",
       "8688    -2.446276  \n",
       "8689     0.932414  \n",
       "8690     0.932414  \n",
       "8691    -0.193816  \n",
       "8692    -0.193816  \n",
       "\n",
       "[8693 rows x 13 columns]"
      ]
     },
     "execution_count": 28,
     "metadata": {},
     "output_type": "execute_result"
    }
   ],
   "source": [
    "dt_preprocessor = Pipeline(\n",
    "    steps=[\n",
    "           (\"numerizer\", numerizer),\n",
    "          #  (\"dropper\", dt_column_dropper),\n",
    "          #  (\"sorter\", columns_sorter)\n",
    "    ]\n",
    ")\n",
    "\n",
    "dt_dataset = dt_preprocessor.transform(dt_dataset)\n",
    "dt_dataset"
   ]
  },
  {
   "cell_type": "markdown",
   "metadata": {
    "id": "2R-Uvje-RI2u",
    "pycharm": {
     "name": "#%% md\n"
    }
   },
   "source": [
    "## Base Decision Tree Model Training"
   ]
  },
  {
   "cell_type": "markdown",
   "metadata": {
    "id": "GNtz5J1Za8Fz",
    "pycharm": {
     "name": "#%% md\n"
    }
   },
   "source": [
    "Let's train a static Decision Tree Classifier, using some random meta-parameters\n",
    "The score on the training dataset is already good, but could be subject to overfitting."
   ]
  },
  {
   "cell_type": "code",
   "execution_count": null,
   "metadata": {
    "colab": {
     "base_uri": "https://localhost:8080/"
    },
    "id": "7_wlTxCj8rox",
    "outputId": "66c4db25-8531-499b-c3f6-45fbaf21f572",
    "pycharm": {
     "name": "#%%\n"
    }
   },
   "outputs": [
    {
     "data": {
      "text/plain": [
       "0.718279075117911"
      ]
     },
     "execution_count": 42,
     "metadata": {},
     "output_type": "execute_result"
    }
   ],
   "source": [
    "dtc = DecisionTreeClassifier(random_state=RANDOM_STATE, max_depth=3)\n",
    "dtc.fit(dt_dataset, target)\n",
    "dtc.score(dt_dataset, target)"
   ]
  },
  {
   "cell_type": "markdown",
   "metadata": {
    "id": "bhseTfvObUmm",
    "pycharm": {
     "name": "#%% md\n"
    }
   },
   "source": [
    "We print the feature importances: it seems that the CryoSleep feature was the most important in the splits!"
   ]
  },
  {
   "cell_type": "code",
   "execution_count": null,
   "metadata": {
    "colab": {
     "base_uri": "https://localhost:8080/",
     "height": 457
    },
    "id": "Z6v4jECZCGcH",
    "outputId": "f798a1e5-263a-48dc-88c9-3cbabc1f5a6d",
    "pycharm": {
     "name": "#%%\n"
    }
   },
   "outputs": [
    {
     "data": {
      "text/html": [
       "\n",
       "  <div id=\"df-c6c50ba3-e698-4e93-aab6-ebd1a17b6181\">\n",
       "    <div class=\"colab-df-container\">\n",
       "      <div>\n",
       "<style scoped>\n",
       "    .dataframe tbody tr th:only-of-type {\n",
       "        vertical-align: middle;\n",
       "    }\n",
       "\n",
       "    .dataframe tbody tr th {\n",
       "        vertical-align: top;\n",
       "    }\n",
       "\n",
       "    .dataframe thead th {\n",
       "        text-align: right;\n",
       "    }\n",
       "</style>\n",
       "<table border=\"1\" class=\"dataframe\">\n",
       "  <thead>\n",
       "    <tr style=\"text-align: right;\">\n",
       "      <th></th>\n",
       "      <th>importance</th>\n",
       "    </tr>\n",
       "  </thead>\n",
       "  <tbody>\n",
       "    <tr>\n",
       "      <th>CryoSleep</th>\n",
       "      <td>0.671308</td>\n",
       "    </tr>\n",
       "    <tr>\n",
       "      <th>Spa</th>\n",
       "      <td>0.123090</td>\n",
       "    </tr>\n",
       "    <tr>\n",
       "      <th>HomePlanet</th>\n",
       "      <td>0.095858</td>\n",
       "    </tr>\n",
       "    <tr>\n",
       "      <th>RoomService</th>\n",
       "      <td>0.092268</td>\n",
       "    </tr>\n",
       "    <tr>\n",
       "      <th>CabinNumber</th>\n",
       "      <td>0.008850</td>\n",
       "    </tr>\n",
       "    <tr>\n",
       "      <th>FoodCourt</th>\n",
       "      <td>0.008627</td>\n",
       "    </tr>\n",
       "    <tr>\n",
       "      <th>Age</th>\n",
       "      <td>0.000000</td>\n",
       "    </tr>\n",
       "    <tr>\n",
       "      <th>ShoppingMall</th>\n",
       "      <td>0.000000</td>\n",
       "    </tr>\n",
       "    <tr>\n",
       "      <th>VRDeck</th>\n",
       "      <td>0.000000</td>\n",
       "    </tr>\n",
       "    <tr>\n",
       "      <th>CabinPS</th>\n",
       "      <td>0.000000</td>\n",
       "    </tr>\n",
       "    <tr>\n",
       "      <th>VIP</th>\n",
       "      <td>0.000000</td>\n",
       "    </tr>\n",
       "    <tr>\n",
       "      <th>Destination</th>\n",
       "      <td>0.000000</td>\n",
       "    </tr>\n",
       "    <tr>\n",
       "      <th>CabinLetter</th>\n",
       "      <td>0.000000</td>\n",
       "    </tr>\n",
       "  </tbody>\n",
       "</table>\n",
       "</div>\n",
       "      <button class=\"colab-df-convert\" onclick=\"convertToInteractive('df-c6c50ba3-e698-4e93-aab6-ebd1a17b6181')\"\n",
       "              title=\"Convert this dataframe to an interactive table.\"\n",
       "              style=\"display:none;\">\n",
       "        \n",
       "  <svg xmlns=\"http://www.w3.org/2000/svg\" height=\"24px\"viewBox=\"0 0 24 24\"\n",
       "       width=\"24px\">\n",
       "    <path d=\"M0 0h24v24H0V0z\" fill=\"none\"/>\n",
       "    <path d=\"M18.56 5.44l.94 2.06.94-2.06 2.06-.94-2.06-.94-.94-2.06-.94 2.06-2.06.94zm-11 1L8.5 8.5l.94-2.06 2.06-.94-2.06-.94L8.5 2.5l-.94 2.06-2.06.94zm10 10l.94 2.06.94-2.06 2.06-.94-2.06-.94-.94-2.06-.94 2.06-2.06.94z\"/><path d=\"M17.41 7.96l-1.37-1.37c-.4-.4-.92-.59-1.43-.59-.52 0-1.04.2-1.43.59L10.3 9.45l-7.72 7.72c-.78.78-.78 2.05 0 2.83L4 21.41c.39.39.9.59 1.41.59.51 0 1.02-.2 1.41-.59l7.78-7.78 2.81-2.81c.8-.78.8-2.07 0-2.86zM5.41 20L4 18.59l7.72-7.72 1.47 1.35L5.41 20z\"/>\n",
       "  </svg>\n",
       "      </button>\n",
       "      \n",
       "  <style>\n",
       "    .colab-df-container {\n",
       "      display:flex;\n",
       "      flex-wrap:wrap;\n",
       "      gap: 12px;\n",
       "    }\n",
       "\n",
       "    .colab-df-convert {\n",
       "      background-color: #E8F0FE;\n",
       "      border: none;\n",
       "      border-radius: 50%;\n",
       "      cursor: pointer;\n",
       "      display: none;\n",
       "      fill: #1967D2;\n",
       "      height: 32px;\n",
       "      padding: 0 0 0 0;\n",
       "      width: 32px;\n",
       "    }\n",
       "\n",
       "    .colab-df-convert:hover {\n",
       "      background-color: #E2EBFA;\n",
       "      box-shadow: 0px 1px 2px rgba(60, 64, 67, 0.3), 0px 1px 3px 1px rgba(60, 64, 67, 0.15);\n",
       "      fill: #174EA6;\n",
       "    }\n",
       "\n",
       "    [theme=dark] .colab-df-convert {\n",
       "      background-color: #3B4455;\n",
       "      fill: #D2E3FC;\n",
       "    }\n",
       "\n",
       "    [theme=dark] .colab-df-convert:hover {\n",
       "      background-color: #434B5C;\n",
       "      box-shadow: 0px 1px 3px 1px rgba(0, 0, 0, 0.15);\n",
       "      filter: drop-shadow(0px 1px 2px rgba(0, 0, 0, 0.3));\n",
       "      fill: #FFFFFF;\n",
       "    }\n",
       "  </style>\n",
       "\n",
       "      <script>\n",
       "        const buttonEl =\n",
       "          document.querySelector('#df-c6c50ba3-e698-4e93-aab6-ebd1a17b6181 button.colab-df-convert');\n",
       "        buttonEl.style.display =\n",
       "          google.colab.kernel.accessAllowed ? 'block' : 'none';\n",
       "\n",
       "        async function convertToInteractive(key) {\n",
       "          const element = document.querySelector('#df-c6c50ba3-e698-4e93-aab6-ebd1a17b6181');\n",
       "          const dataTable =\n",
       "            await google.colab.kernel.invokeFunction('convertToInteractive',\n",
       "                                                     [key], {});\n",
       "          if (!dataTable) return;\n",
       "\n",
       "          const docLinkHtml = 'Like what you see? Visit the ' +\n",
       "            '<a target=\"_blank\" href=https://colab.research.google.com/notebooks/data_table.ipynb>data table notebook</a>'\n",
       "            + ' to learn more about interactive tables.';\n",
       "          element.innerHTML = '';\n",
       "          dataTable['output_type'] = 'display_data';\n",
       "          await google.colab.output.renderOutput(dataTable, element);\n",
       "          const docLink = document.createElement('div');\n",
       "          docLink.innerHTML = docLinkHtml;\n",
       "          element.appendChild(docLink);\n",
       "        }\n",
       "      </script>\n",
       "    </div>\n",
       "  </div>\n",
       "  "
      ],
      "text/plain": [
       "              importance\n",
       "CryoSleep       0.671308\n",
       "Spa             0.123090\n",
       "HomePlanet      0.095858\n",
       "RoomService     0.092268\n",
       "CabinNumber     0.008850\n",
       "FoodCourt       0.008627\n",
       "Age             0.000000\n",
       "ShoppingMall    0.000000\n",
       "VRDeck          0.000000\n",
       "CabinPS         0.000000\n",
       "VIP             0.000000\n",
       "Destination     0.000000\n",
       "CabinLetter     0.000000"
      ]
     },
     "execution_count": 43,
     "metadata": {},
     "output_type": "execute_result"
    }
   ],
   "source": [
    "# The snippet below will retrieve the feature importances from the model and make them into a DataFrame.\n",
    "feature_importances = pd.DataFrame(\n",
    "    data=dtc.feature_importances_,\n",
    "    index=dt_dataset.columns,\n",
    "    columns=[\"importance\"],\n",
    ").sort_values(\"importance\", ascending=False)\n",
    "feature_importances"
   ]
  },
  {
   "cell_type": "markdown",
   "metadata": {
    "id": "t3a9cEIrbkwW",
    "pycharm": {
     "name": "#%% md\n"
    }
   },
   "source": [
    "Here we try to make a prediction and evaluate the confusion matrix and some other score metrics:\n"
   ]
  },
  {
   "cell_type": "code",
   "execution_count": null,
   "metadata": {
    "colab": {
     "base_uri": "https://localhost:8080/"
    },
    "id": "yNiCJ0wQCYAs",
    "outputId": "7e13dc0f-e3ff-4216-965c-c0783267939c",
    "pycharm": {
     "name": "#%%\n"
    }
   },
   "outputs": [
    {
     "name": "stdout",
     "output_type": "stream",
     "text": [
      "Confusion Matrix:\n",
      "[[3761  554]\n",
      " [1895 2483]]\n",
      "Classification Report:\n",
      "              precision    recall  f1-score   support\n",
      "\n",
      "       False       0.66      0.87      0.75      4315\n",
      "        True       0.82      0.57      0.67      4378\n",
      "\n",
      "    accuracy                           0.72      8693\n",
      "   macro avg       0.74      0.72      0.71      8693\n",
      "weighted avg       0.74      0.72      0.71      8693\n",
      "\n"
     ]
    }
   ],
   "source": [
    "y_pred = dtc.predict(dt_dataset)\n",
    "print(\"Confusion Matrix:\")\n",
    "print(confusion_matrix(target, y_pred))\n",
    "\n",
    "print(\"Classification Report:\")\n",
    "print(classification_report(target, y_pred))"
   ]
  },
  {
   "cell_type": "code",
   "execution_count": null,
   "metadata": {
    "colab": {
     "base_uri": "https://localhost:8080/",
     "height": 519
    },
    "id": "MTHm0kvQVa6m",
    "outputId": "eb0bbe65-248b-4060-ceec-4dc874358b28",
    "pycharm": {
     "name": "#%%\n"
    }
   },
   "outputs": [
    {
     "data": {
      "image/svg+xml": "<?xml version=\"1.0\" encoding=\"UTF-8\" standalone=\"no\"?>\n<!DOCTYPE svg PUBLIC \"-//W3C//DTD SVG 1.1//EN\"\n \"http://www.w3.org/Graphics/SVG/1.1/DTD/svg11.dtd\">\n<!-- Generated by graphviz version 2.40.1 (20161225.0304)\n -->\n<!-- Title: Tree Pages: 1 -->\n<svg width=\"1192pt\" height=\"373pt\"\n viewBox=\"0.00 0.00 1191.50 373.00\" xmlns=\"http://www.w3.org/2000/svg\" xmlns:xlink=\"http://www.w3.org/1999/xlink\">\n<g id=\"graph0\" class=\"graph\" transform=\"scale(1 1) rotate(0) translate(4 369)\">\n<title>Tree</title>\n<polygon fill=\"#ffffff\" stroke=\"transparent\" points=\"-4,4 -4,-369 1187.5,-369 1187.5,4 -4,4\"/>\n<!-- 0 -->\n<g id=\"node1\" class=\"node\">\n<title>0</title>\n<path fill=\"#fcfeff\" stroke=\"#000000\" d=\"M659,-365C659,-365 534,-365 534,-365 528,-365 522,-359 522,-353 522,-353 522,-309 522,-309 522,-303 528,-297 534,-297 534,-297 659,-297 659,-297 665,-297 671,-303 671,-309 671,-309 671,-353 671,-353 671,-359 665,-365 659,-365\"/>\n<text text-anchor=\"start\" x=\"536\" y=\"-349.8\" font-family=\"Helvetica,sans-Serif\" font-size=\"14.00\" fill=\"#000000\">CryoSleep ≤ 0.316</text>\n<text text-anchor=\"start\" x=\"567\" y=\"-334.8\" font-family=\"Helvetica,sans-Serif\" font-size=\"14.00\" fill=\"#000000\">gini = 0.5</text>\n<text text-anchor=\"start\" x=\"544.5\" y=\"-319.8\" font-family=\"Helvetica,sans-Serif\" font-size=\"14.00\" fill=\"#000000\">samples = 8693</text>\n<text text-anchor=\"start\" x=\"530\" y=\"-304.8\" font-family=\"Helvetica,sans-Serif\" font-size=\"14.00\" fill=\"#000000\">value = [4315, 4378]</text>\n</g>\n<!-- 1 -->\n<g id=\"node2\" class=\"node\">\n<title>1</title>\n<path fill=\"#f2c09d\" stroke=\"#000000\" d=\"M521.5,-261C521.5,-261 389.5,-261 389.5,-261 383.5,-261 377.5,-255 377.5,-249 377.5,-249 377.5,-205 377.5,-205 377.5,-199 383.5,-193 389.5,-193 389.5,-193 521.5,-193 521.5,-193 527.5,-193 533.5,-199 533.5,-205 533.5,-205 533.5,-249 533.5,-249 533.5,-255 527.5,-261 521.5,-261\"/>\n<text text-anchor=\"start\" x=\"385.5\" y=\"-245.8\" font-family=\"Helvetica,sans-Serif\" font-size=\"14.00\" fill=\"#000000\">RoomService ≤ 0.185</text>\n<text text-anchor=\"start\" x=\"417.5\" y=\"-230.8\" font-family=\"Helvetica,sans-Serif\" font-size=\"14.00\" fill=\"#000000\">gini = 0.446</text>\n<text text-anchor=\"start\" x=\"403.5\" y=\"-215.8\" font-family=\"Helvetica,sans-Serif\" font-size=\"14.00\" fill=\"#000000\">samples = 5656</text>\n<text text-anchor=\"start\" x=\"389\" y=\"-200.8\" font-family=\"Helvetica,sans-Serif\" font-size=\"14.00\" fill=\"#000000\">value = [3761, 1895]</text>\n</g>\n<!-- 0&#45;&gt;1 -->\n<g id=\"edge1\" class=\"edge\">\n<title>0&#45;&gt;1</title>\n<path fill=\"none\" stroke=\"#000000\" d=\"M550.3313,-296.9465C537.4281,-287.4293 523.2855,-276.9978 509.9517,-267.163\"/>\n<polygon fill=\"#000000\" stroke=\"#000000\" points=\"511.8977,-264.2492 501.7724,-261.13 507.7425,-269.8826 511.8977,-264.2492\"/>\n<text text-anchor=\"middle\" x=\"505.5056\" y=\"-282.1497\" font-family=\"Helvetica,sans-Serif\" font-size=\"14.00\" fill=\"#000000\">True</text>\n</g>\n<!-- 8 -->\n<g id=\"node9\" class=\"node\">\n<title>8</title>\n<path fill=\"#65b3eb\" stroke=\"#000000\" d=\"M809,-261C809,-261 680,-261 680,-261 674,-261 668,-255 668,-249 668,-249 668,-205 668,-205 668,-199 674,-193 680,-193 680,-193 809,-193 809,-193 815,-193 821,-199 821,-205 821,-205 821,-249 821,-249 821,-255 815,-261 809,-261\"/>\n<text text-anchor=\"start\" x=\"676\" y=\"-245.8\" font-family=\"Helvetica,sans-Serif\" font-size=\"14.00\" fill=\"#000000\">HomePlanet ≤ &#45;0.188</text>\n<text text-anchor=\"start\" x=\"706.5\" y=\"-230.8\" font-family=\"Helvetica,sans-Serif\" font-size=\"14.00\" fill=\"#000000\">gini = 0.298</text>\n<text text-anchor=\"start\" x=\"692.5\" y=\"-215.8\" font-family=\"Helvetica,sans-Serif\" font-size=\"14.00\" fill=\"#000000\">samples = 3037</text>\n<text text-anchor=\"start\" x=\"682.5\" y=\"-200.8\" font-family=\"Helvetica,sans-Serif\" font-size=\"14.00\" fill=\"#000000\">value = [554, 2483]</text>\n</g>\n<!-- 0&#45;&gt;8 -->\n<g id=\"edge8\" class=\"edge\">\n<title>0&#45;&gt;8</title>\n<path fill=\"none\" stroke=\"#000000\" d=\"M644.9607,-296.9465C658.6323,-287.3395 673.6294,-276.8009 687.7409,-266.8848\"/>\n<polygon fill=\"#000000\" stroke=\"#000000\" points=\"689.7608,-269.7432 695.9304,-261.13 685.7361,-264.0158 689.7608,-269.7432\"/>\n<text text-anchor=\"middle\" x=\"691.6304\" y=\"-282.0574\" font-family=\"Helvetica,sans-Serif\" font-size=\"14.00\" fill=\"#000000\">False</text>\n</g>\n<!-- 2 -->\n<g id=\"node3\" class=\"node\">\n<title>2</title>\n<path fill=\"#f6d4bc\" stroke=\"#000000\" d=\"M300,-157C300,-157 175,-157 175,-157 169,-157 163,-151 163,-145 163,-145 163,-101 163,-101 163,-95 169,-89 175,-89 175,-89 300,-89 300,-89 306,-89 312,-95 312,-101 312,-101 312,-145 312,-145 312,-151 306,-157 300,-157\"/>\n<text text-anchor=\"start\" x=\"196\" y=\"-141.8\" font-family=\"Helvetica,sans-Serif\" font-size=\"14.00\" fill=\"#000000\">Spa ≤ &#45;0.092</text>\n<text text-anchor=\"start\" x=\"199.5\" y=\"-126.8\" font-family=\"Helvetica,sans-Serif\" font-size=\"14.00\" fill=\"#000000\">gini = 0.479</text>\n<text text-anchor=\"start\" x=\"185.5\" y=\"-111.8\" font-family=\"Helvetica,sans-Serif\" font-size=\"14.00\" fill=\"#000000\">samples = 4194</text>\n<text text-anchor=\"start\" x=\"171\" y=\"-96.8\" font-family=\"Helvetica,sans-Serif\" font-size=\"14.00\" fill=\"#000000\">value = [2527, 1667]</text>\n</g>\n<!-- 1&#45;&gt;2 -->\n<g id=\"edge2\" class=\"edge\">\n<title>1&#45;&gt;2</title>\n<path fill=\"none\" stroke=\"#000000\" d=\"M384.1186,-192.9465C363.0398,-182.8906 339.8216,-171.814 318.1997,-161.4989\"/>\n<polygon fill=\"#000000\" stroke=\"#000000\" points=\"319.5743,-158.2769 309.0417,-157.13 316.5602,-164.5948 319.5743,-158.2769\"/>\n</g>\n<!-- 5 -->\n<g id=\"node6\" class=\"node\">\n<title>5</title>\n<path fill=\"#ea985e\" stroke=\"#000000\" d=\"M513.5,-157C513.5,-157 397.5,-157 397.5,-157 391.5,-157 385.5,-151 385.5,-145 385.5,-145 385.5,-101 385.5,-101 385.5,-95 391.5,-89 397.5,-89 397.5,-89 513.5,-89 513.5,-89 519.5,-89 525.5,-95 525.5,-101 525.5,-101 525.5,-145 525.5,-145 525.5,-151 519.5,-157 513.5,-157\"/>\n<text text-anchor=\"start\" x=\"395\" y=\"-141.8\" font-family=\"Helvetica,sans-Serif\" font-size=\"14.00\" fill=\"#000000\">FoodCourt ≤ 0.339</text>\n<text text-anchor=\"start\" x=\"417.5\" y=\"-126.8\" font-family=\"Helvetica,sans-Serif\" font-size=\"14.00\" fill=\"#000000\">gini = 0.263</text>\n<text text-anchor=\"start\" x=\"403.5\" y=\"-111.8\" font-family=\"Helvetica,sans-Serif\" font-size=\"14.00\" fill=\"#000000\">samples = 1462</text>\n<text text-anchor=\"start\" x=\"393.5\" y=\"-96.8\" font-family=\"Helvetica,sans-Serif\" font-size=\"14.00\" fill=\"#000000\">value = [1234, 228]</text>\n</g>\n<!-- 1&#45;&gt;5 -->\n<g id=\"edge5\" class=\"edge\">\n<title>1&#45;&gt;5</title>\n<path fill=\"none\" stroke=\"#000000\" d=\"M455.5,-192.9465C455.5,-184.776 455.5,-175.9318 455.5,-167.3697\"/>\n<polygon fill=\"#000000\" stroke=\"#000000\" points=\"459.0001,-167.13 455.5,-157.13 452.0001,-167.13 459.0001,-167.13\"/>\n</g>\n<!-- 3 -->\n<g id=\"node4\" class=\"node\">\n<title>3</title>\n<path fill=\"#fffefd\" stroke=\"#000000\" d=\"M137,-53C137,-53 12,-53 12,-53 6,-53 0,-47 0,-41 0,-41 0,-12 0,-12 0,-6 6,0 12,0 12,0 137,0 137,0 143,0 149,-6 149,-12 149,-12 149,-41 149,-41 149,-47 143,-53 137,-53\"/>\n<text text-anchor=\"start\" x=\"45\" y=\"-37.8\" font-family=\"Helvetica,sans-Serif\" font-size=\"14.00\" fill=\"#000000\">gini = 0.5</text>\n<text text-anchor=\"start\" x=\"22.5\" y=\"-22.8\" font-family=\"Helvetica,sans-Serif\" font-size=\"14.00\" fill=\"#000000\">samples = 2791</text>\n<text text-anchor=\"start\" x=\"8\" y=\"-7.8\" font-family=\"Helvetica,sans-Serif\" font-size=\"14.00\" fill=\"#000000\">value = [1401, 1390]</text>\n</g>\n<!-- 2&#45;&gt;3 -->\n<g id=\"edge3\" class=\"edge\">\n<title>2&#45;&gt;3</title>\n<path fill=\"none\" stroke=\"#000000\" d=\"M180.0323,-88.9777C163.2504,-79.0424 144.9754,-68.2232 128.4214,-58.4228\"/>\n<polygon fill=\"#000000\" stroke=\"#000000\" points=\"129.8103,-55.1777 119.4222,-53.095 126.2442,-61.2013 129.8103,-55.1777\"/>\n</g>\n<!-- 4 -->\n<g id=\"node5\" class=\"node\">\n<title>4</title>\n<path fill=\"#eba06a\" stroke=\"#000000\" d=\"M295.5,-53C295.5,-53 179.5,-53 179.5,-53 173.5,-53 167.5,-47 167.5,-41 167.5,-41 167.5,-12 167.5,-12 167.5,-6 173.5,0 179.5,0 179.5,0 295.5,0 295.5,0 301.5,0 307.5,-6 307.5,-12 307.5,-12 307.5,-41 307.5,-41 307.5,-47 301.5,-53 295.5,-53\"/>\n<text text-anchor=\"start\" x=\"199.5\" y=\"-37.8\" font-family=\"Helvetica,sans-Serif\" font-size=\"14.00\" fill=\"#000000\">gini = 0.317</text>\n<text text-anchor=\"start\" x=\"185.5\" y=\"-22.8\" font-family=\"Helvetica,sans-Serif\" font-size=\"14.00\" fill=\"#000000\">samples = 1403</text>\n<text text-anchor=\"start\" x=\"175.5\" y=\"-7.8\" font-family=\"Helvetica,sans-Serif\" font-size=\"14.00\" fill=\"#000000\">value = [1126, 277]</text>\n</g>\n<!-- 2&#45;&gt;4 -->\n<g id=\"edge4\" class=\"edge\">\n<title>2&#45;&gt;4</title>\n<path fill=\"none\" stroke=\"#000000\" d=\"M237.5,-88.9777C237.5,-80.7364 237.5,-71.887 237.5,-63.5153\"/>\n<polygon fill=\"#000000\" stroke=\"#000000\" points=\"241.0001,-63.2484 237.5,-53.2485 234.0001,-63.2485 241.0001,-63.2484\"/>\n</g>\n<!-- 6 -->\n<g id=\"node7\" class=\"node\">\n<title>6</title>\n<path fill=\"#e99559\" stroke=\"#000000\" d=\"M453.5,-53C453.5,-53 337.5,-53 337.5,-53 331.5,-53 325.5,-47 325.5,-41 325.5,-41 325.5,-12 325.5,-12 325.5,-6 331.5,0 337.5,0 337.5,0 453.5,0 453.5,0 459.5,0 465.5,-6 465.5,-12 465.5,-12 465.5,-41 465.5,-41 465.5,-47 459.5,-53 453.5,-53\"/>\n<text text-anchor=\"start\" x=\"357.5\" y=\"-37.8\" font-family=\"Helvetica,sans-Serif\" font-size=\"14.00\" fill=\"#000000\">gini = 0.239</text>\n<text text-anchor=\"start\" x=\"343.5\" y=\"-22.8\" font-family=\"Helvetica,sans-Serif\" font-size=\"14.00\" fill=\"#000000\">samples = 1366</text>\n<text text-anchor=\"start\" x=\"333.5\" y=\"-7.8\" font-family=\"Helvetica,sans-Serif\" font-size=\"14.00\" fill=\"#000000\">value = [1176, 190]</text>\n</g>\n<!-- 5&#45;&gt;6 -->\n<g id=\"edge6\" class=\"edge\">\n<title>5&#45;&gt;6</title>\n<path fill=\"none\" stroke=\"#000000\" d=\"M434.3462,-88.9777C428.8805,-80.187 422.9846,-70.7044 417.4778,-61.8477\"/>\n<polygon fill=\"#000000\" stroke=\"#000000\" points=\"420.3837,-59.8927 412.1312,-53.2485 414.4391,-63.5889 420.3837,-59.8927\"/>\n</g>\n<!-- 7 -->\n<g id=\"node8\" class=\"node\">\n<title>7</title>\n<path fill=\"#f6d4bb\" stroke=\"#000000\" d=\"M587.5,-53C587.5,-53 495.5,-53 495.5,-53 489.5,-53 483.5,-47 483.5,-41 483.5,-41 483.5,-12 483.5,-12 483.5,-6 489.5,0 495.5,0 495.5,0 587.5,0 587.5,0 593.5,0 599.5,-6 599.5,-12 599.5,-12 599.5,-41 599.5,-41 599.5,-47 593.5,-53 587.5,-53\"/>\n<text text-anchor=\"start\" x=\"503.5\" y=\"-37.8\" font-family=\"Helvetica,sans-Serif\" font-size=\"14.00\" fill=\"#000000\">gini = 0.478</text>\n<text text-anchor=\"start\" x=\"497.5\" y=\"-22.8\" font-family=\"Helvetica,sans-Serif\" font-size=\"14.00\" fill=\"#000000\">samples = 96</text>\n<text text-anchor=\"start\" x=\"491.5\" y=\"-7.8\" font-family=\"Helvetica,sans-Serif\" font-size=\"14.00\" fill=\"#000000\">value = [58, 38]</text>\n</g>\n<!-- 5&#45;&gt;7 -->\n<g id=\"edge7\" class=\"edge\">\n<title>5&#45;&gt;7</title>\n<path fill=\"none\" stroke=\"#000000\" d=\"M485.8204,-88.9777C493.981,-79.8207 502.8108,-69.9129 510.9821,-60.744\"/>\n<polygon fill=\"#000000\" stroke=\"#000000\" points=\"513.6217,-63.0427 517.662,-53.2485 508.3958,-58.3854 513.6217,-63.0427\"/>\n</g>\n<!-- 9 -->\n<g id=\"node10\" class=\"node\">\n<title>9</title>\n<path fill=\"#9ccef2\" stroke=\"#000000\" d=\"M814,-157C814,-157 675,-157 675,-157 669,-157 663,-151 663,-145 663,-145 663,-101 663,-101 663,-95 669,-89 675,-89 675,-89 814,-89 814,-89 820,-89 826,-95 826,-101 826,-101 826,-145 826,-145 826,-151 820,-157 814,-157\"/>\n<text text-anchor=\"start\" x=\"671\" y=\"-141.8\" font-family=\"Helvetica,sans-Serif\" font-size=\"14.00\" fill=\"#000000\">CabinNumber ≤ &#45;0.124</text>\n<text text-anchor=\"start\" x=\"706.5\" y=\"-126.8\" font-family=\"Helvetica,sans-Serif\" font-size=\"14.00\" fill=\"#000000\">gini = 0.444</text>\n<text text-anchor=\"start\" x=\"692.5\" y=\"-111.8\" font-family=\"Helvetica,sans-Serif\" font-size=\"14.00\" fill=\"#000000\">samples = 1457</text>\n<text text-anchor=\"start\" x=\"686.5\" y=\"-96.8\" font-family=\"Helvetica,sans-Serif\" font-size=\"14.00\" fill=\"#000000\">value = [485, 972]</text>\n</g>\n<!-- 8&#45;&gt;9 -->\n<g id=\"edge9\" class=\"edge\">\n<title>8&#45;&gt;9</title>\n<path fill=\"none\" stroke=\"#000000\" d=\"M744.5,-192.9465C744.5,-184.776 744.5,-175.9318 744.5,-167.3697\"/>\n<polygon fill=\"#000000\" stroke=\"#000000\" points=\"748.0001,-167.13 744.5,-157.13 741.0001,-167.13 748.0001,-167.13\"/>\n</g>\n<!-- 12 -->\n<g id=\"node13\" class=\"node\">\n<title>12</title>\n<path fill=\"#42a1e6\" stroke=\"#000000\" d=\"M1042,-157C1042,-157 917,-157 917,-157 911,-157 905,-151 905,-145 905,-145 905,-101 905,-101 905,-95 911,-89 917,-89 917,-89 1042,-89 1042,-89 1048,-89 1054,-95 1054,-101 1054,-101 1054,-145 1054,-145 1054,-151 1048,-157 1042,-157\"/>\n<text text-anchor=\"start\" x=\"913\" y=\"-141.8\" font-family=\"Helvetica,sans-Serif\" font-size=\"14.00\" fill=\"#000000\">HomePlanet ≤ 1.069</text>\n<text text-anchor=\"start\" x=\"941.5\" y=\"-126.8\" font-family=\"Helvetica,sans-Serif\" font-size=\"14.00\" fill=\"#000000\">gini = 0.084</text>\n<text text-anchor=\"start\" x=\"927.5\" y=\"-111.8\" font-family=\"Helvetica,sans-Serif\" font-size=\"14.00\" fill=\"#000000\">samples = 1580</text>\n<text text-anchor=\"start\" x=\"921.5\" y=\"-96.8\" font-family=\"Helvetica,sans-Serif\" font-size=\"14.00\" fill=\"#000000\">value = [69, 1511]</text>\n</g>\n<!-- 8&#45;&gt;12 -->\n<g id=\"edge12\" class=\"edge\">\n<title>8&#45;&gt;12</title>\n<path fill=\"none\" stroke=\"#000000\" d=\"M821.1226,-193.0904C844.9949,-182.5257 871.4389,-170.8228 895.7713,-160.0544\"/>\n<polygon fill=\"#000000\" stroke=\"#000000\" points=\"897.2557,-163.225 904.9838,-155.9774 894.4228,-156.8238 897.2557,-163.225\"/>\n</g>\n<!-- 10 -->\n<g id=\"node11\" class=\"node\">\n<title>10</title>\n<path fill=\"#c7e3f8\" stroke=\"#000000\" d=\"M737.5,-53C737.5,-53 629.5,-53 629.5,-53 623.5,-53 617.5,-47 617.5,-41 617.5,-41 617.5,-12 617.5,-12 617.5,-6 623.5,0 629.5,0 629.5,0 737.5,0 737.5,0 743.5,0 749.5,-6 749.5,-12 749.5,-12 749.5,-41 749.5,-41 749.5,-47 743.5,-53 737.5,-53\"/>\n<text text-anchor=\"start\" x=\"645.5\" y=\"-37.8\" font-family=\"Helvetica,sans-Serif\" font-size=\"14.00\" fill=\"#000000\">gini = 0.487</text>\n<text text-anchor=\"start\" x=\"635.5\" y=\"-22.8\" font-family=\"Helvetica,sans-Serif\" font-size=\"14.00\" fill=\"#000000\">samples = 531</text>\n<text text-anchor=\"start\" x=\"625.5\" y=\"-7.8\" font-family=\"Helvetica,sans-Serif\" font-size=\"14.00\" fill=\"#000000\">value = [222, 309]</text>\n</g>\n<!-- 9&#45;&gt;10 -->\n<g id=\"edge10\" class=\"edge\">\n<title>9&#45;&gt;10</title>\n<path fill=\"none\" stroke=\"#000000\" d=\"M722.9937,-88.9777C717.4369,-80.187 711.4427,-70.7044 705.8441,-61.8477\"/>\n<polygon fill=\"#000000\" stroke=\"#000000\" points=\"708.7101,-59.8312 700.4084,-53.2485 702.7931,-63.5714 708.7101,-59.8312\"/>\n</g>\n<!-- 11 -->\n<g id=\"node12\" class=\"node\">\n<title>11</title>\n<path fill=\"#88c4ef\" stroke=\"#000000\" d=\"M887.5,-53C887.5,-53 779.5,-53 779.5,-53 773.5,-53 767.5,-47 767.5,-41 767.5,-41 767.5,-12 767.5,-12 767.5,-6 773.5,0 779.5,0 779.5,0 887.5,0 887.5,0 893.5,0 899.5,-6 899.5,-12 899.5,-12 899.5,-41 899.5,-41 899.5,-47 893.5,-53 887.5,-53\"/>\n<text text-anchor=\"start\" x=\"795.5\" y=\"-37.8\" font-family=\"Helvetica,sans-Serif\" font-size=\"14.00\" fill=\"#000000\">gini = 0.407</text>\n<text text-anchor=\"start\" x=\"785.5\" y=\"-22.8\" font-family=\"Helvetica,sans-Serif\" font-size=\"14.00\" fill=\"#000000\">samples = 926</text>\n<text text-anchor=\"start\" x=\"775.5\" y=\"-7.8\" font-family=\"Helvetica,sans-Serif\" font-size=\"14.00\" fill=\"#000000\">value = [263, 663]</text>\n</g>\n<!-- 9&#45;&gt;11 -->\n<g id=\"edge11\" class=\"edge\">\n<title>9&#45;&gt;11</title>\n<path fill=\"none\" stroke=\"#000000\" d=\"M775.8781,-88.9777C784.3234,-79.8207 793.4611,-69.9129 801.9175,-60.744\"/>\n<polygon fill=\"#000000\" stroke=\"#000000\" points=\"804.6236,-62.9723 808.8304,-53.2485 799.4779,-58.2266 804.6236,-62.9723\"/>\n</g>\n<!-- 13 -->\n<g id=\"node14\" class=\"node\">\n<title>13</title>\n<path fill=\"#3b9ee5\" stroke=\"#000000\" d=\"M1029.5,-53C1029.5,-53 929.5,-53 929.5,-53 923.5,-53 917.5,-47 917.5,-41 917.5,-41 917.5,-12 917.5,-12 917.5,-6 923.5,0 929.5,0 929.5,0 1029.5,0 1029.5,0 1035.5,0 1041.5,-6 1041.5,-12 1041.5,-12 1041.5,-41 1041.5,-41 1041.5,-47 1035.5,-53 1029.5,-53\"/>\n<text text-anchor=\"start\" x=\"941.5\" y=\"-37.8\" font-family=\"Helvetica,sans-Serif\" font-size=\"14.00\" fill=\"#000000\">gini = 0.022</text>\n<text text-anchor=\"start\" x=\"931.5\" y=\"-22.8\" font-family=\"Helvetica,sans-Serif\" font-size=\"14.00\" fill=\"#000000\">samples = 911</text>\n<text text-anchor=\"start\" x=\"925.5\" y=\"-7.8\" font-family=\"Helvetica,sans-Serif\" font-size=\"14.00\" fill=\"#000000\">value = [10, 901]</text>\n</g>\n<!-- 12&#45;&gt;13 -->\n<g id=\"edge13\" class=\"edge\">\n<title>12&#45;&gt;13</title>\n<path fill=\"none\" stroke=\"#000000\" d=\"M979.5,-88.9777C979.5,-80.7364 979.5,-71.887 979.5,-63.5153\"/>\n<polygon fill=\"#000000\" stroke=\"#000000\" points=\"983.0001,-63.2484 979.5,-53.2485 976.0001,-63.2485 983.0001,-63.2484\"/>\n</g>\n<!-- 14 -->\n<g id=\"node15\" class=\"node\">\n<title>14</title>\n<path fill=\"#4ca6e8\" stroke=\"#000000\" d=\"M1171.5,-53C1171.5,-53 1071.5,-53 1071.5,-53 1065.5,-53 1059.5,-47 1059.5,-41 1059.5,-41 1059.5,-12 1059.5,-12 1059.5,-6 1065.5,0 1071.5,0 1071.5,0 1171.5,0 1171.5,0 1177.5,0 1183.5,-6 1183.5,-12 1183.5,-12 1183.5,-41 1183.5,-41 1183.5,-47 1177.5,-53 1171.5,-53\"/>\n<text text-anchor=\"start\" x=\"1083.5\" y=\"-37.8\" font-family=\"Helvetica,sans-Serif\" font-size=\"14.00\" fill=\"#000000\">gini = 0.161</text>\n<text text-anchor=\"start\" x=\"1073.5\" y=\"-22.8\" font-family=\"Helvetica,sans-Serif\" font-size=\"14.00\" fill=\"#000000\">samples = 669</text>\n<text text-anchor=\"start\" x=\"1067.5\" y=\"-7.8\" font-family=\"Helvetica,sans-Serif\" font-size=\"14.00\" fill=\"#000000\">value = [59, 610]</text>\n</g>\n<!-- 12&#45;&gt;14 -->\n<g id=\"edge14\" class=\"edge\">\n<title>12&#45;&gt;14</title>\n<path fill=\"none\" stroke=\"#000000\" d=\"M1029.5639,-88.9777C1043.8469,-79.2713 1059.3713,-68.7213 1073.5263,-59.1018\"/>\n<polygon fill=\"#000000\" stroke=\"#000000\" points=\"1075.8359,-61.764 1082.1395,-53.2485 1071.9014,-55.9744 1075.8359,-61.764\"/>\n</g>\n</g>\n</svg>\n",
      "text/plain": [
       "<graphviz.files.Source at 0x7fe8eef11fd0>"
      ]
     },
     "metadata": {},
     "output_type": "display_data"
    }
   ],
   "source": [
    "dot_data = export_graphviz(\n",
    "    decision_tree=dtc,\n",
    "    out_file=\"decision_tree_heart_desease.dot\",\n",
    "    feature_names=dt_dataset.columns,\n",
    "    filled=True,\n",
    "    rounded=True,\n",
    "    special_characters=True,\n",
    ")\n",
    "\n",
    "# Read the dot graph and display image\n",
    "with open(\"decision_tree_heart_desease.dot\") as f:\n",
    "    dot_graph = f.read()\n",
    "\n",
    "# display(graphviz.Source(dot_graph))\n",
    "display(graphviz.Source(dot_graph))"
   ]
  },
  {
   "cell_type": "markdown",
   "metadata": {
    "id": "moqfx4QNehdp",
    "pycharm": {
     "name": "#%% md\n"
    }
   },
   "source": [
    "### Validation"
   ]
  },
  {
   "cell_type": "markdown",
   "metadata": {
    "id": "c_FA_rd2RCbf",
    "pycharm": {
     "name": "#%% md\n"
    }
   },
   "source": [
    "We can split the dataset into a a train set and a test set\n",
    "We use the train set to fit the model, and the test set to measure the score"
   ]
  },
  {
   "cell_type": "code",
   "execution_count": null,
   "metadata": {
    "colab": {
     "base_uri": "https://localhost:8080/"
    },
    "id": "qEWOmjVsRYrV",
    "outputId": "b8e5763d-2111-42d0-adc9-60aadc7e41e5",
    "pycharm": {
     "name": "#%%\n"
    }
   },
   "outputs": [
    {
     "data": {
      "text/plain": [
       "0.7175712971481141"
      ]
     },
     "execution_count": 46,
     "metadata": {},
     "output_type": "execute_result"
    }
   ],
   "source": [
    "xtr, xte, ytr, yte = train_test_split(dt_dataset, target)\n",
    "\n",
    "dtc.fit(xtr, ytr)\n",
    "dtc.score(xte, yte)\n",
    "\n",
    "# result is not so distant from before -> good thing\n",
    "# in this case is a bit distant... we have a little overfitting"
   ]
  },
  {
   "cell_type": "markdown",
   "metadata": {
    "id": "tfXyetKGepZ5",
    "pycharm": {
     "name": "#%% md\n"
    }
   },
   "source": [
    "The score is not really far from the one got from the training set, so we could say that there's less chance that the model goes in overfitting"
   ]
  },
  {
   "cell_type": "markdown",
   "metadata": {
    "id": "VFS6Lm_iR0NE",
    "pycharm": {
     "name": "#%% md\n"
    }
   },
   "source": [
    "We can also use K-Fold cross validation to have a more affordable validation, let's say with k=10"
   ]
  },
  {
   "cell_type": "code",
   "execution_count": null,
   "metadata": {
    "colab": {
     "base_uri": "https://localhost:8080/"
    },
    "id": "bnT5kDd1cQzg",
    "outputId": "09129f46-b37c-45d5-ea7c-fb76d4383a38",
    "pycharm": {
     "name": "#%%\n"
    }
   },
   "outputs": [
    {
     "name": "stderr",
     "output_type": "stream",
     "text": [
      "[Parallel(n_jobs=1)]: Using backend SequentialBackend with 1 concurrent workers.\n",
      "[Parallel(n_jobs=1)]: Done  10 out of  10 | elapsed:    0.4s finished\n"
     ]
    }
   ],
   "source": [
    "cv_scores = cross_val_score(\n",
    "    dtc, dt_dataset, target, cv=10, scoring=\"accuracy\", verbose=1\n",
    ")"
   ]
  },
  {
   "cell_type": "code",
   "execution_count": null,
   "metadata": {
    "colab": {
     "base_uri": "https://localhost:8080/",
     "height": 298
    },
    "id": "UpWDp-YSSTIc",
    "outputId": "c731504e-2c12-4d91-eeaa-f627410d5568",
    "pycharm": {
     "name": "#%%\n"
    }
   },
   "outputs": [
    {
     "data": {
      "text/plain": [
       "Text(0.5, 1.0, 'Average score: 0.7134501276404376')"
      ]
     },
     "execution_count": 48,
     "metadata": {},
     "output_type": "execute_result"
    },
    {
     "data": {
      "image/png": "[encoded data removed]",
      "text/plain": [
       "<Figure size 432x288 with 1 Axes>"
      ]
     },
     "metadata": {},
     "output_type": "display_data"
    }
   ],
   "source": [
    "sns.histplot(cv_scores)\n",
    "plt.title(\"Average score: {}\".format(np.mean(cv_scores)))"
   ]
  },
  {
   "cell_type": "markdown",
   "metadata": {
    "id": "89ndTBGNfrs9",
    "pycharm": {
     "name": "#%% md\n"
    }
   },
   "source": [
    "Also here, we see that the average score is really similar to the model fitted with the whole dataset"
   ]
  },
  {
   "cell_type": "markdown",
   "metadata": {
    "id": "GnrLSnblSqly",
    "pycharm": {
     "name": "#%% md\n"
    }
   },
   "source": [
    "## Parameter Tuning with Grid Search"
   ]
  },
  {
   "cell_type": "markdown",
   "metadata": {
    "id": "fQEwGzb6f29-",
    "pycharm": {
     "name": "#%% md\n"
    }
   },
   "source": [
    "Until now, we used a static Decision Tree Classifier with randomly chosen parameters. Let's test different parameters configurations, and see what's the best one in terms of score. We perform a Grid Search over multiple parameters, and test the models using K-Fold cross validation."
   ]
  },
  {
   "cell_type": "code",
   "execution_count": null,
   "metadata": {
    "colab": {
     "base_uri": "https://localhost:8080/"
    },
    "id": "NAbnmTtocQzn",
    "outputId": "beb2b0af-1571-46d4-8435-9e1a58b9c057",
    "pycharm": {
     "name": "#%%\n"
    }
   },
   "outputs": [
    {
     "name": "stdout",
     "output_type": "stream",
     "text": [
      "Fitting 10 folds for each of 84 candidates, totalling 840 fits\n"
     ]
    },
    {
     "data": {
      "text/plain": [
       "GridSearchCV(cv=StratifiedKFold(n_splits=10, random_state=None, shuffle=False),\n",
       "             estimator=DecisionTreeClassifier(random_state=3993),\n",
       "             param_grid={'criterion': ['gini', 'entropy'],\n",
       "                         'max_depth': [2, 3, 4, 5, 6, 7, 8],\n",
       "                         'max_features': ['sqrt', 'log2', None],\n",
       "                         'splitter': ['best', 'random']},\n",
       "             refit='accuracy', return_train_score=True,\n",
       "             scoring={'accuracy': 'accuracy',\n",
       "                      'balanced_accuracy': 'balanced_accuracy',\n",
       "                      'f1': 'f1_macro'},\n",
       "             verbose=1)"
      ]
     },
     "execution_count": 49,
     "metadata": {},
     "output_type": "execute_result"
    }
   ],
   "source": [
    "dtc = DecisionTreeClassifier(random_state=RANDOM_STATE)\n",
    "# Create the parameter grids\n",
    "parameter_grid = {\n",
    "    \"criterion\": [\"gini\", \"entropy\"],\n",
    "    \"splitter\": [\"best\", \"random\"],\n",
    "    \"max_depth\": [2, 3, 4, 5, 6, 7, 8],\n",
    "    \"max_features\": [\"sqrt\", \"log2\", None],\n",
    "}\n",
    "\n",
    "# Create Stratified folds\n",
    "cross_validation = StratifiedKFold(n_splits=10)\n",
    "\n",
    "# Create the scoring dictionary\n",
    "SCORING = {\n",
    "    \"accuracy\": \"accuracy\",\n",
    "    \"balanced_accuracy\": \"balanced_accuracy\",\n",
    "    \"f1\": \"f1_macro\",\n",
    "}\n",
    "\n",
    "# Create and fit the GridSearchCV\n",
    "grid_search = GridSearchCV(\n",
    "    estimator=dtc,\n",
    "    param_grid=parameter_grid,\n",
    "    cv=cross_validation,\n",
    "    verbose=1,\n",
    "    scoring=SCORING,\n",
    "    return_train_score=True,\n",
    "    refit=\"accuracy\",\n",
    ")\n",
    "\n",
    "grid_search.fit(dt_dataset, target)\n",
    "# grid_search.cv_results_"
   ]
  },
  {
   "cell_type": "code",
   "execution_count": null,
   "metadata": {
    "colab": {
     "base_uri": "https://localhost:8080/"
    },
    "id": "qmzMPoBDcQzq",
    "outputId": "5f539396-c155-4cff-fa1b-e7ea46fe4684",
    "pycharm": {
     "name": "#%%\n"
    }
   },
   "outputs": [
    {
     "name": "stdout",
     "output_type": "stream",
     "text": [
      "Best score: 0.7700474848881658\n",
      "Best parameters: {'criterion': 'entropy', 'max_depth': 8, 'max_features': 'sqrt', 'splitter': 'best'}\n"
     ]
    },
    {
     "data": {
      "text/plain": [
       "DecisionTreeClassifier(criterion='entropy', max_depth=8, max_features='sqrt',\n",
       "                       random_state=3993)"
      ]
     },
     "execution_count": 50,
     "metadata": {},
     "output_type": "execute_result"
    }
   ],
   "source": [
    "print(\"Best score: {}\".format(grid_search.best_score_))\n",
    "print(\"Best parameters: {}\".format(grid_search.best_params_))\n",
    "\n",
    "best_dtc = grid_search.best_estimator_\n",
    "best_dtc"
   ]
  },
  {
   "cell_type": "markdown",
   "source": [
    "We can observe that increasing the max_depth is the main changer for the DTC score"
   ],
   "metadata": {
    "collapsed": false,
    "pycharm": {
     "name": "#%% md\n"
    }
   }
  },
  {
   "cell_type": "code",
   "execution_count": null,
   "metadata": {
    "colab": {
     "base_uri": "https://localhost:8080/"
    },
    "id": "1YfuqF-ucQzu",
    "outputId": "8d835a2b-1540-4c6b-b9b3-19ab94f36280",
    "pycharm": {
     "name": "#%%\n"
    }
   },
   "outputs": [
    {
     "name": "stdout",
     "output_type": "stream",
     "text": [
      "Confusion Matrix:\n",
      "[[3242 1073]\n",
      " [ 742 3636]]\n",
      "Classification Report:\n",
      "              precision    recall  f1-score   support\n",
      "\n",
      "       False       0.81      0.75      0.78      4315\n",
      "        True       0.77      0.83      0.80      4378\n",
      "\n",
      "    accuracy                           0.79      8693\n",
      "   macro avg       0.79      0.79      0.79      8693\n",
      "weighted avg       0.79      0.79      0.79      8693\n",
      "\n"
     ]
    }
   ],
   "source": [
    "y_pred = best_dtc.predict(dt_dataset)\n",
    "print(\"Confusion Matrix:\")\n",
    "print(confusion_matrix(target, y_pred))\n",
    "\n",
    "print(\"Classification Report:\")\n",
    "print(classification_report(target, y_pred))"
   ]
  },
  {
   "cell_type": "code",
   "execution_count": null,
   "metadata": {
    "colab": {
     "base_uri": "https://localhost:8080/",
     "height": 457
    },
    "id": "Ak6ohoZacQzw",
    "outputId": "63c234f7-da6b-4596-943e-e5a931b4b2f4",
    "pycharm": {
     "name": "#%%\n"
    }
   },
   "outputs": [
    {
     "data": {
      "text/html": [
       "\n",
       "  <div id=\"df-dd7efc61-4cea-49ee-a55c-8442db07aaf6\">\n",
       "    <div class=\"colab-df-container\">\n",
       "      <div>\n",
       "<style scoped>\n",
       "    .dataframe tbody tr th:only-of-type {\n",
       "        vertical-align: middle;\n",
       "    }\n",
       "\n",
       "    .dataframe tbody tr th {\n",
       "        vertical-align: top;\n",
       "    }\n",
       "\n",
       "    .dataframe thead th {\n",
       "        text-align: right;\n",
       "    }\n",
       "</style>\n",
       "<table border=\"1\" class=\"dataframe\">\n",
       "  <thead>\n",
       "    <tr style=\"text-align: right;\">\n",
       "      <th></th>\n",
       "      <th>importance</th>\n",
       "    </tr>\n",
       "  </thead>\n",
       "  <tbody>\n",
       "    <tr>\n",
       "      <th>Spa</th>\n",
       "      <td>0.286520</td>\n",
       "    </tr>\n",
       "    <tr>\n",
       "      <th>VRDeck</th>\n",
       "      <td>0.191886</td>\n",
       "    </tr>\n",
       "    <tr>\n",
       "      <th>CabinLetter</th>\n",
       "      <td>0.127049</td>\n",
       "    </tr>\n",
       "    <tr>\n",
       "      <th>FoodCourt</th>\n",
       "      <td>0.103039</td>\n",
       "    </tr>\n",
       "    <tr>\n",
       "      <th>ShoppingMall</th>\n",
       "      <td>0.090693</td>\n",
       "    </tr>\n",
       "    <tr>\n",
       "      <th>RoomService</th>\n",
       "      <td>0.065903</td>\n",
       "    </tr>\n",
       "    <tr>\n",
       "      <th>CryoSleep</th>\n",
       "      <td>0.041068</td>\n",
       "    </tr>\n",
       "    <tr>\n",
       "      <th>CabinNumber</th>\n",
       "      <td>0.035943</td>\n",
       "    </tr>\n",
       "    <tr>\n",
       "      <th>Age</th>\n",
       "      <td>0.029451</td>\n",
       "    </tr>\n",
       "    <tr>\n",
       "      <th>CabinPS</th>\n",
       "      <td>0.011030</td>\n",
       "    </tr>\n",
       "    <tr>\n",
       "      <th>HomePlanet</th>\n",
       "      <td>0.009918</td>\n",
       "    </tr>\n",
       "    <tr>\n",
       "      <th>Destination</th>\n",
       "      <td>0.005303</td>\n",
       "    </tr>\n",
       "    <tr>\n",
       "      <th>VIP</th>\n",
       "      <td>0.002196</td>\n",
       "    </tr>\n",
       "  </tbody>\n",
       "</table>\n",
       "</div>\n",
       "      <button class=\"colab-df-convert\" onclick=\"convertToInteractive('df-dd7efc61-4cea-49ee-a55c-8442db07aaf6')\"\n",
       "              title=\"Convert this dataframe to an interactive table.\"\n",
       "              style=\"display:none;\">\n",
       "        \n",
       "  <svg xmlns=\"http://www.w3.org/2000/svg\" height=\"24px\"viewBox=\"0 0 24 24\"\n",
       "       width=\"24px\">\n",
       "    <path d=\"M0 0h24v24H0V0z\" fill=\"none\"/>\n",
       "    <path d=\"M18.56 5.44l.94 2.06.94-2.06 2.06-.94-2.06-.94-.94-2.06-.94 2.06-2.06.94zm-11 1L8.5 8.5l.94-2.06 2.06-.94-2.06-.94L8.5 2.5l-.94 2.06-2.06.94zm10 10l.94 2.06.94-2.06 2.06-.94-2.06-.94-.94-2.06-.94 2.06-2.06.94z\"/><path d=\"M17.41 7.96l-1.37-1.37c-.4-.4-.92-.59-1.43-.59-.52 0-1.04.2-1.43.59L10.3 9.45l-7.72 7.72c-.78.78-.78 2.05 0 2.83L4 21.41c.39.39.9.59 1.41.59.51 0 1.02-.2 1.41-.59l7.78-7.78 2.81-2.81c.8-.78.8-2.07 0-2.86zM5.41 20L4 18.59l7.72-7.72 1.47 1.35L5.41 20z\"/>\n",
       "  </svg>\n",
       "      </button>\n",
       "      \n",
       "  <style>\n",
       "    .colab-df-container {\n",
       "      display:flex;\n",
       "      flex-wrap:wrap;\n",
       "      gap: 12px;\n",
       "    }\n",
       "\n",
       "    .colab-df-convert {\n",
       "      background-color: #E8F0FE;\n",
       "      border: none;\n",
       "      border-radius: 50%;\n",
       "      cursor: pointer;\n",
       "      display: none;\n",
       "      fill: #1967D2;\n",
       "      height: 32px;\n",
       "      padding: 0 0 0 0;\n",
       "      width: 32px;\n",
       "    }\n",
       "\n",
       "    .colab-df-convert:hover {\n",
       "      background-color: #E2EBFA;\n",
       "      box-shadow: 0px 1px 2px rgba(60, 64, 67, 0.3), 0px 1px 3px 1px rgba(60, 64, 67, 0.15);\n",
       "      fill: #174EA6;\n",
       "    }\n",
       "\n",
       "    [theme=dark] .colab-df-convert {\n",
       "      background-color: #3B4455;\n",
       "      fill: #D2E3FC;\n",
       "    }\n",
       "\n",
       "    [theme=dark] .colab-df-convert:hover {\n",
       "      background-color: #434B5C;\n",
       "      box-shadow: 0px 1px 3px 1px rgba(0, 0, 0, 0.15);\n",
       "      filter: drop-shadow(0px 1px 2px rgba(0, 0, 0, 0.3));\n",
       "      fill: #FFFFFF;\n",
       "    }\n",
       "  </style>\n",
       "\n",
       "      <script>\n",
       "        const buttonEl =\n",
       "          document.querySelector('#df-dd7efc61-4cea-49ee-a55c-8442db07aaf6 button.colab-df-convert');\n",
       "        buttonEl.style.display =\n",
       "          google.colab.kernel.accessAllowed ? 'block' : 'none';\n",
       "\n",
       "        async function convertToInteractive(key) {\n",
       "          const element = document.querySelector('#df-dd7efc61-4cea-49ee-a55c-8442db07aaf6');\n",
       "          const dataTable =\n",
       "            await google.colab.kernel.invokeFunction('convertToInteractive',\n",
       "                                                     [key], {});\n",
       "          if (!dataTable) return;\n",
       "\n",
       "          const docLinkHtml = 'Like what you see? Visit the ' +\n",
       "            '<a target=\"_blank\" href=https://colab.research.google.com/notebooks/data_table.ipynb>data table notebook</a>'\n",
       "            + ' to learn more about interactive tables.';\n",
       "          element.innerHTML = '';\n",
       "          dataTable['output_type'] = 'display_data';\n",
       "          await google.colab.output.renderOutput(dataTable, element);\n",
       "          const docLink = document.createElement('div');\n",
       "          docLink.innerHTML = docLinkHtml;\n",
       "          element.appendChild(docLink);\n",
       "        }\n",
       "      </script>\n",
       "    </div>\n",
       "  </div>\n",
       "  "
      ],
      "text/plain": [
       "              importance\n",
       "Spa             0.286520\n",
       "VRDeck          0.191886\n",
       "CabinLetter     0.127049\n",
       "FoodCourt       0.103039\n",
       "ShoppingMall    0.090693\n",
       "RoomService     0.065903\n",
       "CryoSleep       0.041068\n",
       "CabinNumber     0.035943\n",
       "Age             0.029451\n",
       "CabinPS         0.011030\n",
       "HomePlanet      0.009918\n",
       "Destination     0.005303\n",
       "VIP             0.002196"
      ]
     },
     "execution_count": 53,
     "metadata": {},
     "output_type": "execute_result"
    }
   ],
   "source": [
    "# The snippet below will retrieve the feature importances from the model and make them into a DataFrame.\n",
    "feature_importances = pd.DataFrame(\n",
    "    best_dtc.feature_importances_, index=dt_dataset.columns, columns=[\"importance\"]\n",
    ").sort_values(\"importance\", ascending=False)\n",
    "feature_importances"
   ]
  },
  {
   "cell_type": "markdown",
   "metadata": {
    "id": "SUesGYEYUVKW",
    "pycharm": {
     "name": "#%% md\n"
    }
   },
   "source": [
    "## Submission"
   ]
  },
  {
   "cell_type": "code",
   "execution_count": null,
   "metadata": {
    "colab": {
     "base_uri": "https://localhost:8080/"
    },
    "id": "JQaXjdGlrL1k",
    "outputId": "ee529b58-4344-4fb3-8ab5-1468bb4d754d",
    "pycharm": {
     "name": "#%%\n"
    }
   },
   "outputs": [
    {
     "name": "stdout",
     "output_type": "stream",
     "text": [
      "     PassengerId  transported\n",
      "0        0013_01         True\n",
      "1        0018_01        False\n",
      "2        0019_01         True\n",
      "3        0021_01        False\n",
      "4        0023_01         True\n",
      "...          ...          ...\n",
      "4272     9266_02         True\n",
      "4273     9269_01         True\n",
      "4274     9271_01         True\n",
      "4275     9273_01        False\n",
      "4276     9277_01         True\n",
      "\n",
      "[4277 rows x 2 columns]\n"
     ]
    }
   ],
   "source": [
    "generateSubmission(\n",
    "    best_dtc,\n",
    "    model_preprocessor=dt_preprocessor,\n",
    "    file_name=\"tuned_decis_tree.csv\", \n",
    "    direct_submit_to_kaggle=False\n",
    ")"
   ]
  },
  {
   "cell_type": "markdown",
   "metadata": {
    "id": "lg1kAdlBTFKm",
    "pycharm": {
     "name": "#%% md\n"
    }
   },
   "source": [
    "---\n",
    "# Neural Networks"
   ]
  },
  {
   "cell_type": "markdown",
   "metadata": {
    "id": "LxMbFNsuuBtR",
    "pycharm": {
     "name": "#%% md\n"
    }
   },
   "source": [
    "## Preprocessing"
   ]
  },
  {
   "cell_type": "code",
   "execution_count": null,
   "metadata": {
    "id": "fFl48m1mun6O",
    "pycharm": {
     "name": "#%%\n"
    }
   },
   "outputs": [],
   "source": [
    "nn_dataset = pp_dataset.copy()"
   ]
  },
  {
   "cell_type": "markdown",
   "metadata": {
    "id": "KxX3XDIVcQy9",
    "pycharm": {
     "name": "#%% md\n"
    }
   },
   "source": [
    "### Numerizing features"
   ]
  },
  {
   "cell_type": "markdown",
   "source": [
    "For the Neural Newtworks, we chose to use a One Hot Encoder to transform nominal features into numeric ones. The One Hot Encoder splits nominal features into multiple features, treating each one as a binary one: this means that the feature map, and also its meaning will be lost, and it will be impossible to evaluate feature importance. However, Neural Networks fits well with this kind of dataset, as they can easily manage many features at once. Morover, what happens internally in a NN during a training, is very often not readable and not easily interpretable, regardless of the first feature layer."
   ],
   "metadata": {
    "id": "WBGZi8QoVfKc",
    "pycharm": {
     "name": "#%% md\n"
    }
   }
  },
  {
   "cell_type": "code",
   "execution_count": null,
   "metadata": {
    "id": "NI_7JEYi2BvR",
    "pycharm": {
     "name": "#%%\n"
    }
   },
   "outputs": [],
   "source": [
    "# Create categorical transformer (binary + nominal)\n",
    "# Replace imputer\n",
    "categorical_transformer = Pipeline(\n",
    "    steps=[\n",
    "        (\"one_hot_encoder\", OneHotEncoder(sparse=False)),\n",
    "        # (\"ordinal_encoder\", OrdinalEncoder()),\n",
    "        (\"scaler\", StandardScaler()),\n",
    "    ]\n",
    ")"
   ]
  },
  {
   "cell_type": "code",
   "execution_count": null,
   "metadata": {
    "id": "1hZReevp2BvS",
    "pycharm": {
     "name": "#%%\n"
    }
   },
   "outputs": [],
   "source": [
    "# Create numeric transformer\n",
    "# Impute missing values using the median value of each colum\n",
    "numeric_transformer = Pipeline(\n",
    "    steps=[\n",
    "           (\"scaler\", StandardScaler())\n",
    "    ]\n",
    ")"
   ]
  },
  {
   "cell_type": "code",
   "execution_count": null,
   "metadata": {
    "id": "lyvkOBJ-2BvS",
    "pycharm": {
     "name": "#%%\n"
    }
   },
   "outputs": [],
   "source": [
    "# Create the imputer of mixed type columns\n",
    "# ATTENTION: the preprocessor can be used in a Pipeline for simplicity\n",
    "numerizer = ColumnTransformer(\n",
    "    transformers=[\n",
    "        (\"preproc_numeric\", numeric_transformer, NUMERICAL_COLS),\n",
    "        (\"preproc_categorical\", categorical_transformer, CATEGORICAL_COLS),\n",
    "    ],\n",
    "    verbose=True,\n",
    ")\n",
    "\n",
    "\n",
    "# Column names after mixed imputation procedure\n",
    "COLUMN_NAMES = NUMERICAL_COLS + CATEGORICAL_COLS"
   ]
  },
  {
   "cell_type": "code",
   "execution_count": null,
   "metadata": {
    "colab": {
     "base_uri": "https://localhost:8080/"
    },
    "id": "Sz4JnkZi2BvS",
    "outputId": "62ba031b-9f86-41bb-e751-33da5a03c015",
    "pycharm": {
     "name": "#%%\n"
    }
   },
   "outputs": [
    {
     "output_type": "stream",
     "name": "stdout",
     "text": [
      "[ColumnTransformer]  (1 of 2) Processing preproc_numeric, total=   0.0s\n",
      "[ColumnTransformer]  (2 of 2) Processing preproc_categorical, total=   0.0s\n"
     ]
    }
   ],
   "source": [
    "# Fit the imputer\n",
    "numerizer.fit(nn_dataset)\n",
    "\n",
    "numerizer = Pipeline(\n",
    "    steps=[\n",
    "           (\"numerizer\", numerizer),\n",
    "           (\"columns\", array_to_dataframer())\n",
    "    ]\n",
    ")"
   ]
  },
  {
   "cell_type": "code",
   "execution_count": null,
   "metadata": {
    "colab": {
     "base_uri": "https://localhost:8080/"
    },
    "id": "s1gEoAOd2BvT",
    "outputId": "23d2c44a-281a-4acb-ac76-ffea78e7bab5",
    "pycharm": {
     "name": "#%%\n"
    }
   },
   "outputs": [
    {
     "output_type": "execute_result",
     "data": {
      "text/plain": [
       "          col0      col1      col2      col3      col4      col5      col6  \\\n",
       "0     0.705117 -0.287939 -0.338270 -0.265818 -0.273560 -0.283565 -1.191744   \n",
       "1    -0.338899 -0.246165 -0.173619 -0.227037  0.213965 -0.277930 -1.191744   \n",
       "2     2.027537 -0.287939 -0.273316 -0.222630  5.689517  1.955440 -1.191744   \n",
       "3     0.287511  0.331980 -0.338270 -0.095712  2.682670  0.519747 -1.191744   \n",
       "4    -0.895707 -0.035627  0.119428 -0.264055  0.228174 -0.239736 -1.189769   \n",
       "...        ...       ...       ...       ...       ...       ...       ...   \n",
       "8688  0.844319 -0.287939 -0.338270 -0.200596  1.185463  3.985946 -0.998198   \n",
       "8689 -0.756505 -0.287939 -0.338270 -0.265818 -0.273560 -0.283565  1.768722   \n",
       "8690 -0.199696  2.840060 -0.338270 -0.265818 -0.272672 -0.283565  1.770697   \n",
       "8691  0.217910 -0.287939 -0.338270  2.585435  0.039913  0.373235  0.009032   \n",
       "8692  1.053122 -0.287939 -0.147940 -0.255241 -0.273560  2.651685  0.009032   \n",
       "\n",
       "          col7      col8      col9  ...     col17     col18     col19  \\\n",
       "0     1.032865 -1.032865  0.732770  ...  1.754795 -0.503664 -0.174191   \n",
       "1    -0.968181  0.968181  0.732770  ... -0.569867 -0.503664 -0.174191   \n",
       "2    -0.968181  0.968181  0.732770  ...  1.754795 -0.503664  5.740821   \n",
       "3    -0.968181  0.968181  0.732770  ...  1.754795 -0.503664  5.740821   \n",
       "4    -0.968181  0.968181  0.732770  ... -0.569867 -0.503664 -0.174191   \n",
       "...        ...       ...       ...  ...       ...       ...       ...   \n",
       "8688  1.032865 -1.032865  0.732770  ...  1.754795 -0.503664  5.740821   \n",
       "8689 -0.968181  0.968181 -1.364685  ... -0.569867 -0.503664 -0.174191   \n",
       "8690 -0.968181  0.968181  0.732770  ... -0.569867 -0.503664 -0.174191   \n",
       "8691 -0.968181  0.968181  0.732770  ...  1.754795 -0.503664 -0.174191   \n",
       "8692 -0.968181  0.968181  0.732770  ...  1.754795 -0.503664 -0.174191   \n",
       "\n",
       "         col20    col21     col22     col23     col24     col25    col26  \n",
       "0     3.187347 -0.30661 -0.241218 -0.334759 -0.688215 -0.681690 -0.02399  \n",
       "1    -0.313741 -0.30661 -0.241218 -0.334759  1.453035 -0.681690 -0.02399  \n",
       "2    -0.313741 -0.30661 -0.241218 -0.334759 -0.688215 -0.681690 -0.02399  \n",
       "3    -0.313741 -0.30661 -0.241218 -0.334759 -0.688215 -0.681690 -0.02399  \n",
       "4    -0.313741 -0.30661 -0.241218 -0.334759  1.453035 -0.681690 -0.02399  \n",
       "...        ...      ...       ...       ...       ...       ...      ...  \n",
       "8688 -0.313741 -0.30661 -0.241218 -0.334759 -0.688215 -0.681690 -0.02399  \n",
       "8689 -0.313741 -0.30661 -0.241218 -0.334759 -0.688215  1.466943 -0.02399  \n",
       "8690 -0.313741 -0.30661 -0.241218 -0.334759 -0.688215  1.466943 -0.02399  \n",
       "8691 -0.313741 -0.30661 -0.241218  2.987225 -0.688215 -0.681690 -0.02399  \n",
       "8692 -0.313741 -0.30661 -0.241218  2.987225 -0.688215 -0.681690 -0.02399  \n",
       "\n",
       "[8693 rows x 27 columns]"
      ],
      "text/html": [
       "\n",
       "  <div id=\"df-81b88c8a-569a-4b78-9f4a-e5ce0065e5d2\">\n",
       "    <div class=\"colab-df-container\">\n",
       "      <div>\n",
       "<style scoped>\n",
       "    .dataframe tbody tr th:only-of-type {\n",
       "        vertical-align: middle;\n",
       "    }\n",
       "\n",
       "    .dataframe tbody tr th {\n",
       "        vertical-align: top;\n",
       "    }\n",
       "\n",
       "    .dataframe thead th {\n",
       "        text-align: right;\n",
       "    }\n",
       "</style>\n",
       "<table border=\"1\" class=\"dataframe\">\n",
       "  <thead>\n",
       "    <tr style=\"text-align: right;\">\n",
       "      <th></th>\n",
       "      <th>col0</th>\n",
       "      <th>col1</th>\n",
       "      <th>col2</th>\n",
       "      <th>col3</th>\n",
       "      <th>col4</th>\n",
       "      <th>col5</th>\n",
       "      <th>col6</th>\n",
       "      <th>col7</th>\n",
       "      <th>col8</th>\n",
       "      <th>col9</th>\n",
       "      <th>...</th>\n",
       "      <th>col17</th>\n",
       "      <th>col18</th>\n",
       "      <th>col19</th>\n",
       "      <th>col20</th>\n",
       "      <th>col21</th>\n",
       "      <th>col22</th>\n",
       "      <th>col23</th>\n",
       "      <th>col24</th>\n",
       "      <th>col25</th>\n",
       "      <th>col26</th>\n",
       "    </tr>\n",
       "  </thead>\n",
       "  <tbody>\n",
       "    <tr>\n",
       "      <th>0</th>\n",
       "      <td>0.705117</td>\n",
       "      <td>-0.287939</td>\n",
       "      <td>-0.338270</td>\n",
       "      <td>-0.265818</td>\n",
       "      <td>-0.273560</td>\n",
       "      <td>-0.283565</td>\n",
       "      <td>-1.191744</td>\n",
       "      <td>1.032865</td>\n",
       "      <td>-1.032865</td>\n",
       "      <td>0.732770</td>\n",
       "      <td>...</td>\n",
       "      <td>1.754795</td>\n",
       "      <td>-0.503664</td>\n",
       "      <td>-0.174191</td>\n",
       "      <td>3.187347</td>\n",
       "      <td>-0.30661</td>\n",
       "      <td>-0.241218</td>\n",
       "      <td>-0.334759</td>\n",
       "      <td>-0.688215</td>\n",
       "      <td>-0.681690</td>\n",
       "      <td>-0.02399</td>\n",
       "    </tr>\n",
       "    <tr>\n",
       "      <th>1</th>\n",
       "      <td>-0.338899</td>\n",
       "      <td>-0.246165</td>\n",
       "      <td>-0.173619</td>\n",
       "      <td>-0.227037</td>\n",
       "      <td>0.213965</td>\n",
       "      <td>-0.277930</td>\n",
       "      <td>-1.191744</td>\n",
       "      <td>-0.968181</td>\n",
       "      <td>0.968181</td>\n",
       "      <td>0.732770</td>\n",
       "      <td>...</td>\n",
       "      <td>-0.569867</td>\n",
       "      <td>-0.503664</td>\n",
       "      <td>-0.174191</td>\n",
       "      <td>-0.313741</td>\n",
       "      <td>-0.30661</td>\n",
       "      <td>-0.241218</td>\n",
       "      <td>-0.334759</td>\n",
       "      <td>1.453035</td>\n",
       "      <td>-0.681690</td>\n",
       "      <td>-0.02399</td>\n",
       "    </tr>\n",
       "    <tr>\n",
       "      <th>2</th>\n",
       "      <td>2.027537</td>\n",
       "      <td>-0.287939</td>\n",
       "      <td>-0.273316</td>\n",
       "      <td>-0.222630</td>\n",
       "      <td>5.689517</td>\n",
       "      <td>1.955440</td>\n",
       "      <td>-1.191744</td>\n",
       "      <td>-0.968181</td>\n",
       "      <td>0.968181</td>\n",
       "      <td>0.732770</td>\n",
       "      <td>...</td>\n",
       "      <td>1.754795</td>\n",
       "      <td>-0.503664</td>\n",
       "      <td>5.740821</td>\n",
       "      <td>-0.313741</td>\n",
       "      <td>-0.30661</td>\n",
       "      <td>-0.241218</td>\n",
       "      <td>-0.334759</td>\n",
       "      <td>-0.688215</td>\n",
       "      <td>-0.681690</td>\n",
       "      <td>-0.02399</td>\n",
       "    </tr>\n",
       "    <tr>\n",
       "      <th>3</th>\n",
       "      <td>0.287511</td>\n",
       "      <td>0.331980</td>\n",
       "      <td>-0.338270</td>\n",
       "      <td>-0.095712</td>\n",
       "      <td>2.682670</td>\n",
       "      <td>0.519747</td>\n",
       "      <td>-1.191744</td>\n",
       "      <td>-0.968181</td>\n",
       "      <td>0.968181</td>\n",
       "      <td>0.732770</td>\n",
       "      <td>...</td>\n",
       "      <td>1.754795</td>\n",
       "      <td>-0.503664</td>\n",
       "      <td>5.740821</td>\n",
       "      <td>-0.313741</td>\n",
       "      <td>-0.30661</td>\n",
       "      <td>-0.241218</td>\n",
       "      <td>-0.334759</td>\n",
       "      <td>-0.688215</td>\n",
       "      <td>-0.681690</td>\n",
       "      <td>-0.02399</td>\n",
       "    </tr>\n",
       "    <tr>\n",
       "      <th>4</th>\n",
       "      <td>-0.895707</td>\n",
       "      <td>-0.035627</td>\n",
       "      <td>0.119428</td>\n",
       "      <td>-0.264055</td>\n",
       "      <td>0.228174</td>\n",
       "      <td>-0.239736</td>\n",
       "      <td>-1.189769</td>\n",
       "      <td>-0.968181</td>\n",
       "      <td>0.968181</td>\n",
       "      <td>0.732770</td>\n",
       "      <td>...</td>\n",
       "      <td>-0.569867</td>\n",
       "      <td>-0.503664</td>\n",
       "      <td>-0.174191</td>\n",
       "      <td>-0.313741</td>\n",
       "      <td>-0.30661</td>\n",
       "      <td>-0.241218</td>\n",
       "      <td>-0.334759</td>\n",
       "      <td>1.453035</td>\n",
       "      <td>-0.681690</td>\n",
       "      <td>-0.02399</td>\n",
       "    </tr>\n",
       "    <tr>\n",
       "      <th>...</th>\n",
       "      <td>...</td>\n",
       "      <td>...</td>\n",
       "      <td>...</td>\n",
       "      <td>...</td>\n",
       "      <td>...</td>\n",
       "      <td>...</td>\n",
       "      <td>...</td>\n",
       "      <td>...</td>\n",
       "      <td>...</td>\n",
       "      <td>...</td>\n",
       "      <td>...</td>\n",
       "      <td>...</td>\n",
       "      <td>...</td>\n",
       "      <td>...</td>\n",
       "      <td>...</td>\n",
       "      <td>...</td>\n",
       "      <td>...</td>\n",
       "      <td>...</td>\n",
       "      <td>...</td>\n",
       "      <td>...</td>\n",
       "      <td>...</td>\n",
       "    </tr>\n",
       "    <tr>\n",
       "      <th>8688</th>\n",
       "      <td>0.844319</td>\n",
       "      <td>-0.287939</td>\n",
       "      <td>-0.338270</td>\n",
       "      <td>-0.200596</td>\n",
       "      <td>1.185463</td>\n",
       "      <td>3.985946</td>\n",
       "      <td>-0.998198</td>\n",
       "      <td>1.032865</td>\n",
       "      <td>-1.032865</td>\n",
       "      <td>0.732770</td>\n",
       "      <td>...</td>\n",
       "      <td>1.754795</td>\n",
       "      <td>-0.503664</td>\n",
       "      <td>5.740821</td>\n",
       "      <td>-0.313741</td>\n",
       "      <td>-0.30661</td>\n",
       "      <td>-0.241218</td>\n",
       "      <td>-0.334759</td>\n",
       "      <td>-0.688215</td>\n",
       "      <td>-0.681690</td>\n",
       "      <td>-0.02399</td>\n",
       "    </tr>\n",
       "    <tr>\n",
       "      <th>8689</th>\n",
       "      <td>-0.756505</td>\n",
       "      <td>-0.287939</td>\n",
       "      <td>-0.338270</td>\n",
       "      <td>-0.265818</td>\n",
       "      <td>-0.273560</td>\n",
       "      <td>-0.283565</td>\n",
       "      <td>1.768722</td>\n",
       "      <td>-0.968181</td>\n",
       "      <td>0.968181</td>\n",
       "      <td>-1.364685</td>\n",
       "      <td>...</td>\n",
       "      <td>-0.569867</td>\n",
       "      <td>-0.503664</td>\n",
       "      <td>-0.174191</td>\n",
       "      <td>-0.313741</td>\n",
       "      <td>-0.30661</td>\n",
       "      <td>-0.241218</td>\n",
       "      <td>-0.334759</td>\n",
       "      <td>-0.688215</td>\n",
       "      <td>1.466943</td>\n",
       "      <td>-0.02399</td>\n",
       "    </tr>\n",
       "    <tr>\n",
       "      <th>8690</th>\n",
       "      <td>-0.199696</td>\n",
       "      <td>2.840060</td>\n",
       "      <td>-0.338270</td>\n",
       "      <td>-0.265818</td>\n",
       "      <td>-0.272672</td>\n",
       "      <td>-0.283565</td>\n",
       "      <td>1.770697</td>\n",
       "      <td>-0.968181</td>\n",
       "      <td>0.968181</td>\n",
       "      <td>0.732770</td>\n",
       "      <td>...</td>\n",
       "      <td>-0.569867</td>\n",
       "      <td>-0.503664</td>\n",
       "      <td>-0.174191</td>\n",
       "      <td>-0.313741</td>\n",
       "      <td>-0.30661</td>\n",
       "      <td>-0.241218</td>\n",
       "      <td>-0.334759</td>\n",
       "      <td>-0.688215</td>\n",
       "      <td>1.466943</td>\n",
       "      <td>-0.02399</td>\n",
       "    </tr>\n",
       "    <tr>\n",
       "      <th>8691</th>\n",
       "      <td>0.217910</td>\n",
       "      <td>-0.287939</td>\n",
       "      <td>-0.338270</td>\n",
       "      <td>2.585435</td>\n",
       "      <td>0.039913</td>\n",
       "      <td>0.373235</td>\n",
       "      <td>0.009032</td>\n",
       "      <td>-0.968181</td>\n",
       "      <td>0.968181</td>\n",
       "      <td>0.732770</td>\n",
       "      <td>...</td>\n",
       "      <td>1.754795</td>\n",
       "      <td>-0.503664</td>\n",
       "      <td>-0.174191</td>\n",
       "      <td>-0.313741</td>\n",
       "      <td>-0.30661</td>\n",
       "      <td>-0.241218</td>\n",
       "      <td>2.987225</td>\n",
       "      <td>-0.688215</td>\n",
       "      <td>-0.681690</td>\n",
       "      <td>-0.02399</td>\n",
       "    </tr>\n",
       "    <tr>\n",
       "      <th>8692</th>\n",
       "      <td>1.053122</td>\n",
       "      <td>-0.287939</td>\n",
       "      <td>-0.147940</td>\n",
       "      <td>-0.255241</td>\n",
       "      <td>-0.273560</td>\n",
       "      <td>2.651685</td>\n",
       "      <td>0.009032</td>\n",
       "      <td>-0.968181</td>\n",
       "      <td>0.968181</td>\n",
       "      <td>0.732770</td>\n",
       "      <td>...</td>\n",
       "      <td>1.754795</td>\n",
       "      <td>-0.503664</td>\n",
       "      <td>-0.174191</td>\n",
       "      <td>-0.313741</td>\n",
       "      <td>-0.30661</td>\n",
       "      <td>-0.241218</td>\n",
       "      <td>2.987225</td>\n",
       "      <td>-0.688215</td>\n",
       "      <td>-0.681690</td>\n",
       "      <td>-0.02399</td>\n",
       "    </tr>\n",
       "  </tbody>\n",
       "</table>\n",
       "<p>8693 rows × 27 columns</p>\n",
       "</div>\n",
       "      <button class=\"colab-df-convert\" onclick=\"convertToInteractive('df-81b88c8a-569a-4b78-9f4a-e5ce0065e5d2')\"\n",
       "              title=\"Convert this dataframe to an interactive table.\"\n",
       "              style=\"display:none;\">\n",
       "        \n",
       "  <svg xmlns=\"http://www.w3.org/2000/svg\" height=\"24px\"viewBox=\"0 0 24 24\"\n",
       "       width=\"24px\">\n",
       "    <path d=\"M0 0h24v24H0V0z\" fill=\"none\"/>\n",
       "    <path d=\"M18.56 5.44l.94 2.06.94-2.06 2.06-.94-2.06-.94-.94-2.06-.94 2.06-2.06.94zm-11 1L8.5 8.5l.94-2.06 2.06-.94-2.06-.94L8.5 2.5l-.94 2.06-2.06.94zm10 10l.94 2.06.94-2.06 2.06-.94-2.06-.94-.94-2.06-.94 2.06-2.06.94z\"/><path d=\"M17.41 7.96l-1.37-1.37c-.4-.4-.92-.59-1.43-.59-.52 0-1.04.2-1.43.59L10.3 9.45l-7.72 7.72c-.78.78-.78 2.05 0 2.83L4 21.41c.39.39.9.59 1.41.59.51 0 1.02-.2 1.41-.59l7.78-7.78 2.81-2.81c.8-.78.8-2.07 0-2.86zM5.41 20L4 18.59l7.72-7.72 1.47 1.35L5.41 20z\"/>\n",
       "  </svg>\n",
       "      </button>\n",
       "      \n",
       "  <style>\n",
       "    .colab-df-container {\n",
       "      display:flex;\n",
       "      flex-wrap:wrap;\n",
       "      gap: 12px;\n",
       "    }\n",
       "\n",
       "    .colab-df-convert {\n",
       "      background-color: #E8F0FE;\n",
       "      border: none;\n",
       "      border-radius: 50%;\n",
       "      cursor: pointer;\n",
       "      display: none;\n",
       "      fill: #1967D2;\n",
       "      height: 32px;\n",
       "      padding: 0 0 0 0;\n",
       "      width: 32px;\n",
       "    }\n",
       "\n",
       "    .colab-df-convert:hover {\n",
       "      background-color: #E2EBFA;\n",
       "      box-shadow: 0px 1px 2px rgba(60, 64, 67, 0.3), 0px 1px 3px 1px rgba(60, 64, 67, 0.15);\n",
       "      fill: #174EA6;\n",
       "    }\n",
       "\n",
       "    [theme=dark] .colab-df-convert {\n",
       "      background-color: #3B4455;\n",
       "      fill: #D2E3FC;\n",
       "    }\n",
       "\n",
       "    [theme=dark] .colab-df-convert:hover {\n",
       "      background-color: #434B5C;\n",
       "      box-shadow: 0px 1px 3px 1px rgba(0, 0, 0, 0.15);\n",
       "      filter: drop-shadow(0px 1px 2px rgba(0, 0, 0, 0.3));\n",
       "      fill: #FFFFFF;\n",
       "    }\n",
       "  </style>\n",
       "\n",
       "      <script>\n",
       "        const buttonEl =\n",
       "          document.querySelector('#df-81b88c8a-569a-4b78-9f4a-e5ce0065e5d2 button.colab-df-convert');\n",
       "        buttonEl.style.display =\n",
       "          google.colab.kernel.accessAllowed ? 'block' : 'none';\n",
       "\n",
       "        async function convertToInteractive(key) {\n",
       "          const element = document.querySelector('#df-81b88c8a-569a-4b78-9f4a-e5ce0065e5d2');\n",
       "          const dataTable =\n",
       "            await google.colab.kernel.invokeFunction('convertToInteractive',\n",
       "                                                     [key], {});\n",
       "          if (!dataTable) return;\n",
       "\n",
       "          const docLinkHtml = 'Like what you see? Visit the ' +\n",
       "            '<a target=\"_blank\" href=https://colab.research.google.com/notebooks/data_table.ipynb>data table notebook</a>'\n",
       "            + ' to learn more about interactive tables.';\n",
       "          element.innerHTML = '';\n",
       "          dataTable['output_type'] = 'display_data';\n",
       "          await google.colab.output.renderOutput(dataTable, element);\n",
       "          const docLink = document.createElement('div');\n",
       "          docLink.innerHTML = docLinkHtml;\n",
       "          element.appendChild(docLink);\n",
       "        }\n",
       "      </script>\n",
       "    </div>\n",
       "  </div>\n",
       "  "
      ]
     },
     "metadata": {},
     "execution_count": 24
    }
   ],
   "source": [
    "nn_preprocessor = Pipeline(\n",
    "    steps=[\n",
    "           (\"numerizer\", numerizer),\n",
    "          #  (\"dropper\", nn_column_dropper),\n",
    "          #  (\"sorter\", columns_sorter)\n",
    "    ]\n",
    ")\n",
    "\n",
    "nn_dataset = nn_preprocessor.transform(nn_dataset)\n",
    "nn_dataset"
   ]
  },
  {
   "cell_type": "markdown",
   "metadata": {
    "id": "-xU8Pk2ScQzD",
    "pycharm": {
     "name": "#%% md\n"
    }
   },
   "source": [
    "## Training"
   ]
  },
  {
   "cell_type": "markdown",
   "metadata": {
    "id": "edNIVyHAcQzE",
    "pycharm": {
     "name": "#%% md\n"
    }
   },
   "source": [
    "### Simple NN"
   ]
  },
  {
   "cell_type": "code",
   "execution_count": null,
   "metadata": {
    "id": "eVvB2Y-C6Wnj",
    "pycharm": {
     "name": "#%%\n"
    }
   },
   "outputs": [],
   "source": [
    "def simple_nn_model(input_shape, hidden_units, hidden_activation=\"relu\"):\n",
    "  # Initialize the constructor\n",
    "  model = Sequential()\n",
    "  # Add an input layer\n",
    "  hidden_units[0]\n",
    "  model.add(Dense(hidden_units[0], activation=hidden_activation, input_shape=(input_shape,)))\n",
    "  # Add one hidden layer\n",
    "  model.add(Dense(hidden_units[1], activation=hidden_activation))\n",
    "  # Add an output layer\n",
    "  model.add(Dense(1, activation=\"sigmoid\"))\n",
    "\n",
    "  # Compile the model\n",
    "  model.compile(\n",
    "      loss=\"binary_crossentropy\",\n",
    "      optimizer=\"SGD\",\n",
    "      metrics=[\"accuracy\", tf.keras.metrics.AUC()],\n",
    "  )\n",
    "\n",
    "  return model"
   ]
  },
  {
   "cell_type": "code",
   "execution_count": null,
   "metadata": {
    "id": "i-To1Olm6Wne",
    "pycharm": {
     "name": "#%%\n"
    }
   },
   "outputs": [],
   "source": [
    "EPOCHS = 20\n",
    "TRAIN_SIZE = 0.8\n",
    "VAL_SIZE = 0.2\n",
    "BATCH_SIZE = 32"
   ]
  },
  {
   "cell_type": "code",
   "execution_count": null,
   "metadata": {
    "id": "oaQjXaRMcQzE",
    "pycharm": {
     "name": "#%%\n"
    }
   },
   "outputs": [],
   "source": [
    "# Initialize the constructor\n",
    "nn_model = simple_nn_model(input_shape=nn_dataset.columns.size, hidden_units=[10,10])"
   ]
  },
  {
   "cell_type": "code",
   "execution_count": null,
   "metadata": {
    "colab": {
     "base_uri": "https://localhost:8080/"
    },
    "id": "PhIMqPfcj1Fg",
    "outputId": "30e9e447-3bb3-44f9-b57d-cf986b90be01",
    "pycharm": {
     "name": "#%%\n"
    }
   },
   "outputs": [
    {
     "output_type": "stream",
     "name": "stdout",
     "text": [
      "Epoch 1/20\n",
      "218/218 [==============================] - 4s 8ms/step - loss: 0.6825 - accuracy: 0.5728 - auc: 0.6027 - val_loss: 0.6410 - val_accuracy: 0.6435 - val_auc: 0.6820\n",
      "Epoch 2/20\n",
      "218/218 [==============================] - 1s 6ms/step - loss: 0.5969 - accuracy: 0.6918 - auc: 0.7491 - val_loss: 0.5674 - val_accuracy: 0.7372 - val_auc: 0.7915\n",
      "Epoch 3/20\n",
      "218/218 [==============================] - 1s 6ms/step - loss: 0.5403 - accuracy: 0.7377 - auc: 0.8039 - val_loss: 0.5196 - val_accuracy: 0.7585 - val_auc: 0.8263\n",
      "Epoch 4/20\n",
      "218/218 [==============================] - 2s 8ms/step - loss: 0.5066 - accuracy: 0.7522 - auc: 0.8286 - val_loss: 0.4931 - val_accuracy: 0.7683 - val_auc: 0.8436\n",
      "Epoch 5/20\n",
      "218/218 [==============================] - 2s 9ms/step - loss: 0.4855 - accuracy: 0.7613 - auc: 0.8432 - val_loss: 0.4775 - val_accuracy: 0.7740 - val_auc: 0.8523\n",
      "Epoch 6/20\n",
      "218/218 [==============================] - 2s 10ms/step - loss: 0.4701 - accuracy: 0.7649 - auc: 0.8534 - val_loss: 0.4664 - val_accuracy: 0.7775 - val_auc: 0.8579\n",
      "Epoch 7/20\n",
      "218/218 [==============================] - 2s 9ms/step - loss: 0.4576 - accuracy: 0.7708 - auc: 0.8614 - val_loss: 0.4601 - val_accuracy: 0.7849 - val_auc: 0.8632\n",
      "Epoch 8/20\n",
      "218/218 [==============================] - 2s 8ms/step - loss: 0.4471 - accuracy: 0.7775 - auc: 0.8678 - val_loss: 0.4543 - val_accuracy: 0.7832 - val_auc: 0.8666\n",
      "Epoch 9/20\n",
      "218/218 [==============================] - 2s 10ms/step - loss: 0.4387 - accuracy: 0.7857 - auc: 0.8728 - val_loss: 0.4506 - val_accuracy: 0.7792 - val_auc: 0.8685\n",
      "Epoch 10/20\n",
      "218/218 [==============================] - 1s 7ms/step - loss: 0.4322 - accuracy: 0.7896 - auc: 0.8769 - val_loss: 0.4498 - val_accuracy: 0.7752 - val_auc: 0.8691\n",
      "Epoch 11/20\n",
      "218/218 [==============================] - 2s 7ms/step - loss: 0.4278 - accuracy: 0.7922 - auc: 0.8792 - val_loss: 0.4474 - val_accuracy: 0.7792 - val_auc: 0.8719\n",
      "Epoch 12/20\n",
      "218/218 [==============================] - 2s 9ms/step - loss: 0.4238 - accuracy: 0.7923 - auc: 0.8818 - val_loss: 0.4511 - val_accuracy: 0.7780 - val_auc: 0.8722\n",
      "Epoch 13/20\n",
      "218/218 [==============================] - 2s 8ms/step - loss: 0.4208 - accuracy: 0.7909 - auc: 0.8834 - val_loss: 0.4516 - val_accuracy: 0.7769 - val_auc: 0.8718\n",
      "Epoch 14/20\n",
      "218/218 [==============================] - 2s 9ms/step - loss: 0.4182 - accuracy: 0.7962 - auc: 0.8850 - val_loss: 0.4516 - val_accuracy: 0.7734 - val_auc: 0.8730\n",
      "Epoch 15/20\n",
      "218/218 [==============================] - 2s 9ms/step - loss: 0.4156 - accuracy: 0.7955 - auc: 0.8869 - val_loss: 0.4572 - val_accuracy: 0.7746 - val_auc: 0.8727\n",
      "Epoch 16/20\n",
      "218/218 [==============================] - 2s 10ms/step - loss: 0.4136 - accuracy: 0.7974 - auc: 0.8879 - val_loss: 0.4527 - val_accuracy: 0.7769 - val_auc: 0.8736\n",
      "Epoch 17/20\n",
      "218/218 [==============================] - 2s 9ms/step - loss: 0.4118 - accuracy: 0.7984 - auc: 0.8891 - val_loss: 0.4559 - val_accuracy: 0.7734 - val_auc: 0.8745\n",
      "Epoch 18/20\n",
      "218/218 [==============================] - 2s 10ms/step - loss: 0.4101 - accuracy: 0.7985 - auc: 0.8902 - val_loss: 0.4578 - val_accuracy: 0.7717 - val_auc: 0.8735\n",
      "Epoch 19/20\n",
      "218/218 [==============================] - 2s 11ms/step - loss: 0.4082 - accuracy: 0.7993 - auc: 0.8916 - val_loss: 0.4572 - val_accuracy: 0.7757 - val_auc: 0.8749\n",
      "Epoch 20/20\n",
      "218/218 [==============================] - 2s 7ms/step - loss: 0.4064 - accuracy: 0.7997 - auc: 0.8927 - val_loss: 0.4625 - val_accuracy: 0.7740 - val_auc: 0.8755\n"
     ]
    }
   ],
   "source": [
    "training_phase = nn_model.fit(\n",
    "    nn_dataset,\n",
    "    target,\n",
    "    epochs=EPOCHS,\n",
    "    batch_size=BATCH_SIZE,\n",
    "    validation_split=VAL_SIZE,\n",
    "    verbose=1,\n",
    ")"
   ]
  },
  {
   "cell_type": "code",
   "execution_count": null,
   "metadata": {
    "colab": {
     "base_uri": "https://localhost:8080/",
     "height": 548
    },
    "id": "XjT046s3leEY",
    "outputId": "e837163c-253c-4cca-fe13-031b64085cbe",
    "pycharm": {
     "name": "#%%\n"
    }
   },
   "outputs": [
    {
     "output_type": "stream",
     "name": "stdout",
     "text": [
      "loss\n"
     ]
    },
    {
     "output_type": "display_data",
     "data": {
      "text/plain": [
       "<Figure size 432x288 with 1 Axes>"
      ],
      "image/png": "[encoded data removed]"
     },
     "metadata": {
      "needs_background": "light"
     }
    },
    {
     "output_type": "stream",
     "name": "stdout",
     "text": [
      "Accuracy\n"
     ]
    },
    {
     "output_type": "display_data",
     "data": {
      "text/plain": [
       "<Figure size 432x288 with 1 Axes>"
      ],
      "image/png": "[encoded data removed]"
     },
     "metadata": {
      "needs_background": "light"
     }
    }
   ],
   "source": [
    "# plot training history\n",
    "print(\"loss\")\n",
    "plt.plot(training_phase.history[\"loss\"], label=\"train\")\n",
    "plt.plot(training_phase.history[\"val_loss\"], label=\"validation\")\n",
    "plt.legend()\n",
    "plt.show()\n",
    "print(\"Accuracy\")\n",
    "plt.plot(training_phase.history[\"accuracy\"], label=\"train\")\n",
    "plt.plot(training_phase.history[\"val_accuracy\"], label=\"validation\")\n",
    "plt.legend()\n",
    "plt.show()"
   ]
  },
  {
   "cell_type": "markdown",
   "source": [
    "We see the the loss on the training set keeps getting lower as the epochs grow, but that's not the case for the validation: from about epoch 10, we notice that the model starts to go in a growing overfitting"
   ],
   "metadata": {
    "id": "B6pl8grMYnP3",
    "pycharm": {
     "name": "#%% md\n"
    }
   }
  },
  {
   "cell_type": "code",
   "execution_count": null,
   "metadata": {
    "colab": {
     "base_uri": "https://localhost:8080/"
    },
    "id": "qjtrt8rBmG1k",
    "outputId": "fc8cecd1-2b7e-4750-e392-fdd0a9cebcee",
    "pycharm": {
     "name": "#%%\n"
    }
   },
   "outputs": [
    {
     "output_type": "stream",
     "name": "stdout",
     "text": [
      "[[False]\n",
      " [False]\n",
      " [False]\n",
      " ...\n",
      " [ True]\n",
      " [False]\n",
      " [ True]]\n"
     ]
    }
   ],
   "source": [
    "y_pred = nn_model.predict(nn_dataset)\n",
    "# We will look at the predicted Qualities to ensure we have something sensible.\n",
    "y_pred = np.round(y_pred).astype(bool)\n",
    "print(y_pred)"
   ]
  },
  {
   "cell_type": "code",
   "execution_count": null,
   "metadata": {
    "colab": {
     "base_uri": "https://localhost:8080/"
    },
    "id": "h_flxO0mcQzJ",
    "outputId": "db2dc334-99f0-409b-8aa2-999c6e3e7630",
    "pycharm": {
     "name": "#%%\n"
    }
   },
   "outputs": [
    {
     "output_type": "stream",
     "name": "stdout",
     "text": [
      "[[3388  927]\n",
      " [ 852 3526]]\n",
      "Classification Report:\n",
      "              precision    recall  f1-score   support\n",
      "\n",
      "       False       0.80      0.79      0.79      4315\n",
      "        True       0.79      0.81      0.80      4378\n",
      "\n",
      "    accuracy                           0.80      8693\n",
      "   macro avg       0.80      0.80      0.80      8693\n",
      "weighted avg       0.80      0.80      0.80      8693\n",
      "\n"
     ]
    }
   ],
   "source": [
    "print(confusion_matrix(target, y_pred))\n",
    "\n",
    "print(\"Classification Report:\")\n",
    "print(classification_report(target, y_pred))"
   ]
  },
  {
   "cell_type": "code",
   "execution_count": null,
   "metadata": {
    "colab": {
     "base_uri": "https://localhost:8080/"
    },
    "id": "NL6culh2pCmo",
    "outputId": "f5a25e05-f977-449e-8fac-6eec4f77178d",
    "pycharm": {
     "name": "#%%\n"
    }
   },
   "outputs": [
    {
     "output_type": "stream",
     "name": "stdout",
     "text": [
      "     PassengerId  transported\n",
      "0        0013_01         True\n",
      "1        0018_01        False\n",
      "2        0019_01         True\n",
      "3        0021_01         True\n",
      "4        0023_01        False\n",
      "...          ...          ...\n",
      "4272     9266_02         True\n",
      "4273     9269_01         True\n",
      "4274     9271_01         True\n",
      "4275     9273_01         True\n",
      "4276     9277_01         True\n",
      "\n",
      "[4277 rows x 2 columns]\n"
     ]
    }
   ],
   "source": [
    "# generate a submission file\n",
    "generateSubmission(\n",
    "    model=nn_model,\n",
    "    model_preprocessor=nn_preprocessor,\n",
    "    model_postprocessor = FunctionTransformer(lambda y: np.round(y).astype(bool)),\n",
    "    file_name=\"nn_basic.csv\",\n",
    "    direct_submit_to_kaggle=False\n",
    ")"
   ]
  },
  {
   "cell_type": "markdown",
   "metadata": {
    "id": "TgGDn8RhcQze",
    "pycharm": {
     "name": "#%% md\n"
    }
   },
   "source": [
    "### K-Fold cross validation"
   ]
  },
  {
   "cell_type": "code",
   "execution_count": null,
   "metadata": {
    "colab": {
     "base_uri": "https://localhost:8080/"
    },
    "id": "okzQyyzKcVcz",
    "outputId": "5fa94aa0-984f-41da-c192-85f41f7a2798",
    "pycharm": {
     "name": "#%%\n"
    }
   },
   "outputs": [
    {
     "output_type": "stream",
     "name": "stdout",
     "text": [
      "Looking in indexes: https://pypi.org/simple, https://us-python.pkg.dev/colab-wheels/public/simple/\n",
      "Collecting scikeras\n",
      "  Downloading scikeras-0.8.0-py3-none-any.whl (27 kB)\n",
      "Requirement already satisfied: packaging<22.0,>=0.21 in /usr/local/lib/python3.7/dist-packages (from scikeras) (21.3)\n",
      "Requirement already satisfied: importlib-metadata>=3 in /usr/local/lib/python3.7/dist-packages (from scikeras) (4.12.0)\n",
      "Requirement already satisfied: scikit-learn>=1.0.0 in /usr/local/lib/python3.7/dist-packages (from scikeras) (1.0.2)\n",
      "Requirement already satisfied: typing-extensions>=3.6.4 in /usr/local/lib/python3.7/dist-packages (from importlib-metadata>=3->scikeras) (4.1.1)\n",
      "Requirement already satisfied: zipp>=0.5 in /usr/local/lib/python3.7/dist-packages (from importlib-metadata>=3->scikeras) (3.8.1)\n",
      "Requirement already satisfied: pyparsing!=3.0.5,>=2.0.2 in /usr/local/lib/python3.7/dist-packages (from packaging<22.0,>=0.21->scikeras) (3.0.9)\n",
      "Requirement already satisfied: joblib>=0.11 in /usr/local/lib/python3.7/dist-packages (from scikit-learn>=1.0.0->scikeras) (1.1.0)\n",
      "Requirement already satisfied: scipy>=1.1.0 in /usr/local/lib/python3.7/dist-packages (from scikit-learn>=1.0.0->scikeras) (1.7.3)\n",
      "Requirement already satisfied: numpy>=1.14.6 in /usr/local/lib/python3.7/dist-packages (from scikit-learn>=1.0.0->scikeras) (1.21.6)\n",
      "Requirement already satisfied: threadpoolctl>=2.0.0 in /usr/local/lib/python3.7/dist-packages (from scikit-learn>=1.0.0->scikeras) (3.1.0)\n",
      "Installing collected packages: scikeras\n",
      "Successfully installed scikeras-0.8.0\n"
     ]
    }
   ],
   "source": [
    "!pip install scikeras"
   ]
  },
  {
   "cell_type": "code",
   "execution_count": null,
   "metadata": {
    "id": "ptbV0Cja6Wnq",
    "pycharm": {
     "name": "#%%\n"
    }
   },
   "outputs": [],
   "source": [
    "from scikeras.wrappers import KerasClassifier\n",
    "\n",
    "keras_model_classifier = KerasClassifier(\n",
    "    model=simple_nn_model,\n",
    "    input_shape=nn_dataset.columns.size,\n",
    "    hidden_units=(12, 6),\n",
    "    hidden_activation=\"relu\",\n",
    "    epochs=EPOCHS,\n",
    "    batch_size=BATCH_SIZE,\n",
    "    validation_split=VAL_SIZE,\n",
    "    verbose=1,\n",
    ")"
   ]
  },
  {
   "cell_type": "code",
   "execution_count": null,
   "metadata": {
    "colab": {
     "base_uri": "https://localhost:8080/",
     "height": 1000
    },
    "id": "7zVZAaEcPXGN",
    "outputId": "6d446775-891b-413e-c2dd-ec7d41aeee84",
    "pycharm": {
     "name": "#%%\n"
    }
   },
   "outputs": [
    {
     "output_type": "stream",
     "name": "stdout",
     "text": [
      "Epoch 1/20\n"
     ]
    },
    {
     "output_type": "stream",
     "name": "stderr",
     "text": [
      "[Parallel(n_jobs=1)]: Using backend SequentialBackend with 1 concurrent workers.\n"
     ]
    },
    {
     "output_type": "stream",
     "name": "stdout",
     "text": [
      "145/145 [==============================] - 1s 4ms/step - loss: 0.7247 - accuracy: 0.5729 - auc_1: 0.6692 - val_loss: 0.6379 - val_accuracy: 0.6471 - val_auc_1: 0.7421\n",
      "Epoch 2/20\n",
      "145/145 [==============================] - 0s 3ms/step - loss: 0.5905 - accuracy: 0.7006 - auc_1: 0.7740 - val_loss: 0.5827 - val_accuracy: 0.7058 - val_auc_1: 0.7772\n",
      "Epoch 3/20\n",
      "145/145 [==============================] - 0s 2ms/step - loss: 0.5497 - accuracy: 0.7280 - auc_1: 0.8026 - val_loss: 0.5519 - val_accuracy: 0.7274 - val_auc_1: 0.7927\n",
      "Epoch 4/20\n",
      "145/145 [==============================] - 0s 2ms/step - loss: 0.5244 - accuracy: 0.7403 - auc_1: 0.8195 - val_loss: 0.5333 - val_accuracy: 0.7463 - val_auc_1: 0.8045\n",
      "Epoch 5/20\n",
      "145/145 [==============================] - 0s 3ms/step - loss: 0.5073 - accuracy: 0.7478 - auc_1: 0.8305 - val_loss: 0.5202 - val_accuracy: 0.7506 - val_auc_1: 0.8145\n",
      "Epoch 6/20\n",
      "145/145 [==============================] - 0s 3ms/step - loss: 0.4944 - accuracy: 0.7565 - auc_1: 0.8398 - val_loss: 0.5123 - val_accuracy: 0.7575 - val_auc_1: 0.8213\n",
      "Epoch 7/20\n",
      "145/145 [==============================] - 1s 5ms/step - loss: 0.4839 - accuracy: 0.7640 - auc_1: 0.8469 - val_loss: 0.5036 - val_accuracy: 0.7584 - val_auc_1: 0.8272\n",
      "Epoch 8/20\n",
      "145/145 [==============================] - 1s 4ms/step - loss: 0.4744 - accuracy: 0.7714 - auc_1: 0.8536 - val_loss: 0.4974 - val_accuracy: 0.7619 - val_auc_1: 0.8322\n",
      "Epoch 9/20\n",
      "145/145 [==============================] - 1s 4ms/step - loss: 0.4661 - accuracy: 0.7761 - auc_1: 0.8586 - val_loss: 0.4937 - val_accuracy: 0.7645 - val_auc_1: 0.8363\n",
      "Epoch 10/20\n",
      "145/145 [==============================] - 1s 4ms/step - loss: 0.4586 - accuracy: 0.7815 - auc_1: 0.8639 - val_loss: 0.4904 - val_accuracy: 0.7619 - val_auc_1: 0.8388\n",
      "Epoch 11/20\n",
      "145/145 [==============================] - 1s 5ms/step - loss: 0.4520 - accuracy: 0.7832 - auc_1: 0.8678 - val_loss: 0.4870 - val_accuracy: 0.7601 - val_auc_1: 0.8420\n",
      "Epoch 12/20\n",
      "145/145 [==============================] - 1s 6ms/step - loss: 0.4460 - accuracy: 0.7860 - auc_1: 0.8717 - val_loss: 0.4839 - val_accuracy: 0.7627 - val_auc_1: 0.8449\n",
      "Epoch 13/20\n",
      "145/145 [==============================] - 1s 7ms/step - loss: 0.4406 - accuracy: 0.7918 - auc_1: 0.8753 - val_loss: 0.4817 - val_accuracy: 0.7593 - val_auc_1: 0.8473\n",
      "Epoch 14/20\n",
      "145/145 [==============================] - 1s 5ms/step - loss: 0.4357 - accuracy: 0.7927 - auc_1: 0.8779 - val_loss: 0.4821 - val_accuracy: 0.7532 - val_auc_1: 0.8501\n",
      "Epoch 15/20\n",
      "145/145 [==============================] - 1s 6ms/step - loss: 0.4312 - accuracy: 0.7947 - auc_1: 0.8806 - val_loss: 0.4807 - val_accuracy: 0.7567 - val_auc_1: 0.8525\n",
      "Epoch 16/20\n",
      "145/145 [==============================] - 1s 5ms/step - loss: 0.4273 - accuracy: 0.7968 - auc_1: 0.8832 - val_loss: 0.4757 - val_accuracy: 0.7593 - val_auc_1: 0.8549\n",
      "Epoch 17/20\n",
      "145/145 [==============================] - 1s 6ms/step - loss: 0.4239 - accuracy: 0.7992 - auc_1: 0.8852 - val_loss: 0.4765 - val_accuracy: 0.7593 - val_auc_1: 0.8571\n",
      "Epoch 18/20\n",
      "145/145 [==============================] - 1s 6ms/step - loss: 0.4209 - accuracy: 0.8007 - auc_1: 0.8866 - val_loss: 0.4731 - val_accuracy: 0.7593 - val_auc_1: 0.8596\n",
      "Epoch 19/20\n",
      "145/145 [==============================] - 1s 6ms/step - loss: 0.4182 - accuracy: 0.8026 - auc_1: 0.8886 - val_loss: 0.4707 - val_accuracy: 0.7601 - val_auc_1: 0.8608\n",
      "Epoch 20/20\n",
      "145/145 [==============================] - 1s 7ms/step - loss: 0.4155 - accuracy: 0.8048 - auc_1: 0.8901 - val_loss: 0.4670 - val_accuracy: 0.7627 - val_auc_1: 0.8618\n",
      "91/91 [==============================] - 1s 5ms/step\n",
      "Epoch 1/20\n",
      "145/145 [==============================] - 6s 20ms/step - loss: 0.7179 - accuracy: 0.5119 - auc_2: 0.5354 - val_loss: 0.6843 - val_accuracy: 0.5237 - val_auc_2: 0.6358\n",
      "Epoch 2/20\n",
      "145/145 [==============================] - 1s 8ms/step - loss: 0.6450 - accuracy: 0.6072 - auc_2: 0.6832 - val_loss: 0.6466 - val_accuracy: 0.5393 - val_auc_2: 0.7150\n",
      "Epoch 3/20\n",
      "145/145 [==============================] - 1s 9ms/step - loss: 0.6040 - accuracy: 0.6510 - auc_2: 0.7371 - val_loss: 0.6130 - val_accuracy: 0.6074 - val_auc_2: 0.7544\n",
      "Epoch 4/20\n",
      "145/145 [==============================] - 1s 9ms/step - loss: 0.5746 - accuracy: 0.6898 - auc_2: 0.7651 - val_loss: 0.5842 - val_accuracy: 0.6670 - val_auc_2: 0.7770\n",
      "Epoch 5/20\n",
      "145/145 [==============================] - 1s 9ms/step - loss: 0.5537 - accuracy: 0.7107 - auc_2: 0.7807 - val_loss: 0.5633 - val_accuracy: 0.6997 - val_auc_2: 0.7873\n",
      "Epoch 6/20\n",
      "145/145 [==============================] - 1s 8ms/step - loss: 0.5389 - accuracy: 0.7185 - auc_2: 0.7920 - val_loss: 0.5464 - val_accuracy: 0.7092 - val_auc_2: 0.7949\n",
      "Epoch 7/20\n",
      "145/145 [==============================] - 1s 8ms/step - loss: 0.5276 - accuracy: 0.7230 - auc_2: 0.8010 - val_loss: 0.5339 - val_accuracy: 0.7265 - val_auc_2: 0.8015\n",
      "Epoch 8/20\n",
      "145/145 [==============================] - 2s 11ms/step - loss: 0.5181 - accuracy: 0.7293 - auc_2: 0.8089 - val_loss: 0.5231 - val_accuracy: 0.7403 - val_auc_2: 0.8074\n",
      "Epoch 9/20\n",
      "145/145 [==============================] - 1s 8ms/step - loss: 0.5096 - accuracy: 0.7362 - auc_2: 0.8156 - val_loss: 0.5152 - val_accuracy: 0.7446 - val_auc_2: 0.8131\n",
      "Epoch 10/20\n",
      "145/145 [==============================] - 1s 8ms/step - loss: 0.5020 - accuracy: 0.7396 - auc_2: 0.8219 - val_loss: 0.5090 - val_accuracy: 0.7403 - val_auc_2: 0.8176\n",
      "Epoch 11/20\n",
      "145/145 [==============================] - 1s 7ms/step - loss: 0.4951 - accuracy: 0.7483 - auc_2: 0.8279 - val_loss: 0.5009 - val_accuracy: 0.7463 - val_auc_2: 0.8224\n",
      "Epoch 12/20\n",
      "145/145 [==============================] - 1s 8ms/step - loss: 0.4890 - accuracy: 0.7515 - auc_2: 0.8328 - val_loss: 0.4957 - val_accuracy: 0.7489 - val_auc_2: 0.8272\n",
      "Epoch 13/20\n",
      "145/145 [==============================] - 1s 8ms/step - loss: 0.4834 - accuracy: 0.7541 - auc_2: 0.8375 - val_loss: 0.4908 - val_accuracy: 0.7524 - val_auc_2: 0.8310\n",
      "Epoch 14/20\n",
      "145/145 [==============================] - 1s 6ms/step - loss: 0.4784 - accuracy: 0.7578 - auc_2: 0.8421 - val_loss: 0.4868 - val_accuracy: 0.7524 - val_auc_2: 0.8343\n",
      "Epoch 15/20\n",
      "145/145 [==============================] - 1s 5ms/step - loss: 0.4735 - accuracy: 0.7599 - auc_2: 0.8459 - val_loss: 0.4831 - val_accuracy: 0.7550 - val_auc_2: 0.8375\n",
      "Epoch 16/20\n",
      "145/145 [==============================] - 1s 8ms/step - loss: 0.4691 - accuracy: 0.7629 - auc_2: 0.8496 - val_loss: 0.4788 - val_accuracy: 0.7584 - val_auc_2: 0.8407\n",
      "Epoch 17/20\n",
      "145/145 [==============================] - 1s 8ms/step - loss: 0.4649 - accuracy: 0.7651 - auc_2: 0.8529 - val_loss: 0.4743 - val_accuracy: 0.7575 - val_auc_2: 0.8438\n",
      "Epoch 18/20\n",
      "145/145 [==============================] - 1s 7ms/step - loss: 0.4612 - accuracy: 0.7683 - auc_2: 0.8561 - val_loss: 0.4723 - val_accuracy: 0.7584 - val_auc_2: 0.8467\n",
      "Epoch 19/20\n",
      "145/145 [==============================] - 1s 9ms/step - loss: 0.4574 - accuracy: 0.7701 - auc_2: 0.8588 - val_loss: 0.4693 - val_accuracy: 0.7610 - val_auc_2: 0.8491\n",
      "Epoch 20/20\n",
      "145/145 [==============================] - 2s 12ms/step - loss: 0.4536 - accuracy: 0.7714 - auc_2: 0.8618 - val_loss: 0.4644 - val_accuracy: 0.7636 - val_auc_2: 0.8517\n",
      "91/91 [==============================] - 1s 6ms/step\n",
      "Epoch 1/20\n",
      "145/145 [==============================] - 5s 17ms/step - loss: 0.6787 - accuracy: 0.6109 - auc_3: 0.6506 - val_loss: 0.6744 - val_accuracy: 0.5802 - val_auc_3: 0.6524\n",
      "Epoch 2/20\n",
      "145/145 [==============================] - 2s 11ms/step - loss: 0.5993 - accuracy: 0.6972 - auc_3: 0.7702 - val_loss: 0.6087 - val_accuracy: 0.6483 - val_auc_3: 0.7680\n",
      "Epoch 3/20\n",
      "145/145 [==============================] - 1s 6ms/step - loss: 0.5555 - accuracy: 0.7278 - auc_3: 0.8051 - val_loss: 0.5657 - val_accuracy: 0.7017 - val_auc_3: 0.8069\n",
      "Epoch 4/20\n",
      "145/145 [==============================] - 1s 4ms/step - loss: 0.5276 - accuracy: 0.7418 - auc_3: 0.8216 - val_loss: 0.5366 - val_accuracy: 0.7198 - val_auc_3: 0.8243\n",
      "Epoch 5/20\n",
      "145/145 [==============================] - 1s 4ms/step - loss: 0.5090 - accuracy: 0.7504 - auc_3: 0.8318 - val_loss: 0.5192 - val_accuracy: 0.7310 - val_auc_3: 0.8348\n",
      "Epoch 6/20\n",
      "145/145 [==============================] - 1s 6ms/step - loss: 0.4950 - accuracy: 0.7556 - auc_3: 0.8400 - val_loss: 0.5094 - val_accuracy: 0.7362 - val_auc_3: 0.8416\n",
      "Epoch 7/20\n",
      "145/145 [==============================] - 1s 6ms/step - loss: 0.4834 - accuracy: 0.7586 - auc_3: 0.8458 - val_loss: 0.5016 - val_accuracy: 0.7466 - val_auc_3: 0.8467\n",
      "Epoch 8/20\n",
      "145/145 [==============================] - 1s 7ms/step - loss: 0.4739 - accuracy: 0.7610 - auc_3: 0.8512 - val_loss: 0.4894 - val_accuracy: 0.7603 - val_auc_3: 0.8534\n",
      "Epoch 9/20\n",
      "145/145 [==============================] - 2s 14ms/step - loss: 0.4660 - accuracy: 0.7666 - auc_3: 0.8553 - val_loss: 0.4820 - val_accuracy: 0.7672 - val_auc_3: 0.8572\n",
      "Epoch 10/20\n",
      "145/145 [==============================] - 1s 8ms/step - loss: 0.4592 - accuracy: 0.7709 - auc_3: 0.8588 - val_loss: 0.4763 - val_accuracy: 0.7759 - val_auc_3: 0.8622\n",
      "Epoch 11/20\n",
      "145/145 [==============================] - 1s 7ms/step - loss: 0.4533 - accuracy: 0.7759 - auc_3: 0.8622 - val_loss: 0.4678 - val_accuracy: 0.7819 - val_auc_3: 0.8662\n",
      "Epoch 12/20\n",
      "145/145 [==============================] - 1s 5ms/step - loss: 0.4484 - accuracy: 0.7817 - auc_3: 0.8651 - val_loss: 0.4609 - val_accuracy: 0.7828 - val_auc_3: 0.8707\n",
      "Epoch 13/20\n",
      "145/145 [==============================] - 1s 6ms/step - loss: 0.4440 - accuracy: 0.7824 - auc_3: 0.8676 - val_loss: 0.4547 - val_accuracy: 0.7802 - val_auc_3: 0.8743\n",
      "Epoch 14/20\n",
      "145/145 [==============================] - 1s 5ms/step - loss: 0.4405 - accuracy: 0.7836 - auc_3: 0.8693 - val_loss: 0.4518 - val_accuracy: 0.7828 - val_auc_3: 0.8750\n",
      "Epoch 15/20\n",
      "145/145 [==============================] - 1s 8ms/step - loss: 0.4372 - accuracy: 0.7858 - auc_3: 0.8717 - val_loss: 0.4482 - val_accuracy: 0.7828 - val_auc_3: 0.8776\n",
      "Epoch 16/20\n",
      "145/145 [==============================] - 1s 8ms/step - loss: 0.4344 - accuracy: 0.7858 - auc_3: 0.8728 - val_loss: 0.4443 - val_accuracy: 0.7871 - val_auc_3: 0.8793\n",
      "Epoch 17/20\n",
      "145/145 [==============================] - 1s 5ms/step - loss: 0.4314 - accuracy: 0.7882 - auc_3: 0.8750 - val_loss: 0.4384 - val_accuracy: 0.7922 - val_auc_3: 0.8811\n",
      "Epoch 18/20\n",
      "145/145 [==============================] - 1s 6ms/step - loss: 0.4293 - accuracy: 0.7875 - auc_3: 0.8760 - val_loss: 0.4411 - val_accuracy: 0.7879 - val_auc_3: 0.8803\n",
      "Epoch 19/20\n",
      "145/145 [==============================] - 1s 6ms/step - loss: 0.4273 - accuracy: 0.7869 - auc_3: 0.8774 - val_loss: 0.4360 - val_accuracy: 0.7931 - val_auc_3: 0.8832\n",
      "Epoch 20/20\n",
      "145/145 [==============================] - 1s 5ms/step - loss: 0.4251 - accuracy: 0.7899 - auc_3: 0.8790 - val_loss: 0.4298 - val_accuracy: 0.7957 - val_auc_3: 0.8855\n",
      "91/91 [==============================] - 0s 1ms/step\n"
     ]
    },
    {
     "output_type": "stream",
     "name": "stderr",
     "text": [
      "[Parallel(n_jobs=1)]: Done   3 out of   3 | elapsed:  1.6min finished\n",
      "/usr/local/lib/python3.7/dist-packages/seaborn/distributions.py:2619: FutureWarning: `distplot` is a deprecated function and will be removed in a future version. Please adapt your code to use either `displot` (a figure-level function with similar flexibility) or `histplot` (an axes-level function for histograms).\n",
      "  warnings.warn(msg, FutureWarning)\n"
     ]
    },
    {
     "output_type": "execute_result",
     "data": {
      "text/plain": [
       "Text(0.5, 1.0, 'Average score: 0.7579654321411162')"
      ]
     },
     "metadata": {},
     "execution_count": 35
    },
    {
     "output_type": "display_data",
     "data": {
      "text/plain": [
       "<Figure size 432x288 with 1 Axes>"
      ],
      "image/png": "[encoded data removed]"
     },
     "metadata": {
      "needs_background": "light"
     }
    }
   ],
   "source": [
    "SPLIT = 3\n",
    "cv_scores = cross_val_score(\n",
    "    keras_model_classifier, nn_dataset, target, cv=SPLIT, scoring=\"accuracy\", verbose=1,\n",
    ")\n",
    "sns.distplot(cv_scores)\n",
    "plt.title(\"Average score: {}\".format(np.mean(cv_scores)))"
   ]
  },
  {
   "cell_type": "markdown",
   "metadata": {
    "id": "OMIeoDe5cQzk",
    "pycharm": {
     "name": "#%% md\n"
    }
   },
   "source": [
    "### Grid Search Parameter Tuning"
   ]
  },
  {
   "cell_type": "code",
   "execution_count": null,
   "metadata": {
    "colab": {
     "background_save": true,
     "base_uri": "https://localhost:8080/"
    },
    "id": "1KTPeMzWPXGN",
    "outputId": "2b1532da-c5ff-494a-8be5-99764a77021c",
    "pycharm": {
     "name": "#%%\n"
    }
   },
   "outputs": [
    {
     "name": "stdout",
     "output_type": "stream",
     "text": [
      "Fitting 6 folds for each of 12 candidates, totalling 72 fits\n"
     ]
    }
   ],
   "source": [
    "# Create the parameter grids\n",
    "parameter_grid = {\n",
    "    \"hidden_units\": [(10,10),(20,20)], ## (40,40)],\n",
    "    \"hidden_activation\": [\"relu\"], #], \"tanh\"],\n",
    "    \"epochs\": [10, 20, 30],\n",
    "    \"batch_size\": [1, 32], # 64],\n",
    "    \"verbose\": [0],\n",
    "}\n",
    "\n",
    "# Create Stratified folds\n",
    "cross_validation = StratifiedKFold(n_splits=6)\n",
    "cross_validation.get_n_splits(nn_dataset, target)\n",
    "\n",
    "# Create the scoring dictionary\n",
    "SCORING = {\n",
    "    \"accuracy\": \"accuracy\",\n",
    "    \"balanced_accuracy\": \"balanced_accuracy\",\n",
    "    \"f1\": \"f1_macro\",\n",
    "}\n",
    "\n",
    "# Create and fit the GridSearchCV\n",
    "grid_search = GridSearchCV(\n",
    "    estimator=keras_model_classifier,\n",
    "    param_grid=parameter_grid,\n",
    "    cv=cross_validation,\n",
    "    verbose=1,\n",
    "    scoring=SCORING,\n",
    "    return_train_score=False,  # True,\n",
    "    refit=\"accuracy\",\n",
    ")\n",
    "\n",
    "# You can use X_train without manual preprocessing because preprocessor is built-in the classifier pipeline\n",
    "grid_search.fit(nn_dataset, target)"
   ]
  },
  {
   "cell_type": "code",
   "execution_count": null,
   "metadata": {
    "id": "R3NhPvsCcQzo",
    "pycharm": {
     "name": "#%%\n"
    }
   },
   "outputs": [],
   "source": [
    "# grid_search.cv_results_"
   ]
  },
  {
   "cell_type": "code",
   "execution_count": null,
   "metadata": {
    "id": "fr6gdsfcPXGO",
    "pycharm": {
     "name": "#%%\n"
    }
   },
   "outputs": [],
   "source": [
    "print(\"Best score: {}\".format(grid_search.best_score_))\n",
    "print(\"Best parameters: {}\".format(grid_search.best_params_))\n",
    "\n",
    "best_nn = grid_search.best_estimator_\n",
    "best_nn"
   ]
  },
  {
   "cell_type": "markdown",
   "metadata": {
    "id": "alQq3Hfo9wMM",
    "pycharm": {
     "name": "#%% md\n"
    }
   },
   "source": [
    "We ran a a very massive Grid Search for Neaural netowrks, for many hours of trainings, trying to explore and discover which where the best parameters. \n",
    "This model was the first to go beyond 0.8 score in the Kaggle competirion\n",
    "```\n",
    "Best score: 0.790518672304644\n",
    "Best parameters: {'batch_size': 1, 'epochs': 30, 'hidden_activation': 'relu', 'hidden_units': (40, 40), 'verbose': 0}\n",
    "KerasClassifier(\n",
    "\tmodel=<function simple_nn_model at 0x7fb6d58c80e0>\n",
    "\tbuild_fn=None\n",
    "\twarm_start=False\n",
    "\trandom_state=None\n",
    "\toptimizer=rmsprop\n",
    "\tloss=None\n",
    "\tmetrics=None\n",
    "\tbatch_size=1\n",
    "\tvalidation_batch_size=None\n",
    "\tverbose=0\n",
    "\tcallbacks=None\n",
    "\tvalidation_split=0.2\n",
    "\tshuffle=True\n",
    "\trun_eagerly=False\n",
    "\tepochs=30\n",
    "\tinput_shape=13\n",
    "\thidden_units=(40, 40)\n",
    "\thidden_activation=relu\n",
    "\tclass_weight=None\n",
    ")\n",
    "```\n",
    "\n"
   ]
  },
  {
   "cell_type": "code",
   "execution_count": null,
   "metadata": {
    "id": "_3xKx0em1z46",
    "pycharm": {
     "name": "#%%\n"
    }
   },
   "outputs": [],
   "source": [
    "best_nn = KerasClassifier(\n",
    "    model=simple_nn_model,\n",
    "    input_shape=nn_dataset.columns.size,\n",
    "    build_fn=None,\n",
    "    warm_start=False,\n",
    "    random_state=None,\n",
    "    optimizer=\"rmsprop\",\n",
    "    loss=None,\n",
    "    metrics=None,\n",
    "    batch_size=1,\n",
    "    validation_batch_size=None,\n",
    "    verbose=0,\n",
    "    callbacks=None,\n",
    "    validation_split=0.2,\n",
    "    shuffle=True,\n",
    "    run_eagerly=False,\n",
    "    epochs=30,\n",
    "    hidden_units=(40, 40),\n",
    "    hidden_activation=\"relu\",\n",
    "    class_weight=None\n",
    ")\n",
    "best_nn.fit(nn_dataset,target);"
   ]
  },
  {
   "cell_type": "code",
   "execution_count": null,
   "metadata": {
    "colab": {
     "base_uri": "https://localhost:8080/"
    },
    "id": "KoYwwd5OPXGO",
    "outputId": "3826a3aa-4020-43a3-a157-4c601125e3d2",
    "pycharm": {
     "name": "#%%\n"
    }
   },
   "outputs": [
    {
     "name": "stdout",
     "output_type": "stream",
     "text": [
      "Confusion Matrix:\n",
      "[[3579  736]\n",
      " [ 716 3662]]\n",
      "Classification Report:\n",
      "              precision    recall  f1-score   support\n",
      "\n",
      "       False       0.83      0.83      0.83      4315\n",
      "        True       0.83      0.84      0.83      4378\n",
      "\n",
      "    accuracy                           0.83      8693\n",
      "   macro avg       0.83      0.83      0.83      8693\n",
      "weighted avg       0.83      0.83      0.83      8693\n",
      "\n"
     ]
    }
   ],
   "source": [
    "y_pred = best_nn.predict(nn_dataset)\n",
    "print(\"Confusion Matrix:\")\n",
    "print(confusion_matrix(target, y_pred))\n",
    "\n",
    "print(\"Classification Report:\")\n",
    "print(classification_report(target, y_pred))"
   ]
  },
  {
   "cell_type": "markdown",
   "metadata": {
    "id": "wrK4RxylcQzy",
    "pycharm": {
     "name": "#%% md\n"
    }
   },
   "source": [
    "### Submit the final model"
   ]
  },
  {
   "cell_type": "code",
   "execution_count": null,
   "metadata": {
    "id": "8scvMiJicQzy",
    "colab": {
     "base_uri": "https://localhost:8080/"
    },
    "outputId": "b56d46b4-327b-4d5a-944b-911da18f9751",
    "pycharm": {
     "name": "#%%\n"
    }
   },
   "outputs": [
    {
     "output_type": "stream",
     "name": "stdout",
     "text": [
      "     PassengerId  transported\n",
      "0        0013_01         True\n",
      "1        0018_01        False\n",
      "2        0019_01         True\n",
      "3        0021_01         True\n",
      "4        0023_01         True\n",
      "...          ...          ...\n",
      "4272     9266_02         True\n",
      "4273     9269_01         True\n",
      "4274     9271_01         True\n",
      "4275     9273_01         True\n",
      "4276     9277_01         True\n",
      "\n",
      "[4277 rows x 2 columns]\n",
      "Pushin submission to Kaggle...\n",
      "Mounted at /content/gdrive\n",
      "Looking in indexes: https://pypi.org/simple, https://us-python.pkg.dev/colab-wheels/public/simple/\n",
      "Requirement already satisfied: kaggle in /usr/local/lib/python3.7/dist-packages (1.5.12)\n",
      "Requirement already satisfied: six>=1.10 in /usr/local/lib/python3.7/dist-packages (from kaggle) (1.15.0)\n",
      "Requirement already satisfied: requests in /usr/local/lib/python3.7/dist-packages (from kaggle) (2.23.0)\n",
      "Requirement already satisfied: certifi in /usr/local/lib/python3.7/dist-packages (from kaggle) (2022.6.15)\n",
      "Requirement already satisfied: urllib3 in /usr/local/lib/python3.7/dist-packages (from kaggle) (1.24.3)\n",
      "Requirement already satisfied: python-slugify in /usr/local/lib/python3.7/dist-packages (from kaggle) (6.1.2)\n",
      "Requirement already satisfied: python-dateutil in /usr/local/lib/python3.7/dist-packages (from kaggle) (2.8.2)\n",
      "Requirement already satisfied: tqdm in /usr/local/lib/python3.7/dist-packages (from kaggle) (4.64.0)\n",
      "Requirement already satisfied: text-unidecode>=1.3 in /usr/local/lib/python3.7/dist-packages (from python-slugify->kaggle) (1.3)\n",
      "Requirement already satisfied: chardet<4,>=3.0.2 in /usr/local/lib/python3.7/dist-packages (from requests->kaggle) (3.0.4)\n",
      "Requirement already satisfied: idna<3,>=2.5 in /usr/local/lib/python3.7/dist-packages (from requests->kaggle) (2.10)\n",
      "100% 56.2k/56.2k [00:02<00:00, 22.3kB/s]\n",
      "Successfully submitted to Spaceship Titanic"
     ]
    }
   ],
   "source": [
    "# generate a submission file\n",
    "generateSubmission(\n",
    "    model=best_nn,\n",
    "    model_preprocessor = nn_preprocessor,\n",
    "    model_postprocessor = FunctionTransformer(lambda y: np.round(y).astype(bool)),\n",
    "    file_name=\"best_NN.csv\",\n",
    "    direct_submit_to_kaggle=True\n",
    ")"
   ]
  },
  {
   "cell_type": "markdown",
   "metadata": {
    "id": "M030PZlkTJMg",
    "pycharm": {
     "name": "#%% md\n"
    }
   },
   "source": [
    "---\n",
    "# SVM"
   ]
  },
  {
   "cell_type": "markdown",
   "metadata": {
    "id": "ojsz-HMfBfW3",
    "pycharm": {
     "name": "#%% md\n"
    }
   },
   "source": [
    "## Preprocessing\n"
   ]
  },
  {
   "cell_type": "code",
   "execution_count": null,
   "metadata": {
    "id": "teyAYlNFTUVU",
    "pycharm": {
     "name": "#%%\n"
    }
   },
   "outputs": [],
   "source": [
    "svm_dataset = pp_dataset.copy()"
   ]
  },
  {
   "cell_type": "code",
   "execution_count": null,
   "metadata": {
    "id": "SK72tyH3Bwuu",
    "pycharm": {
     "name": "#%%\n"
    }
   },
   "outputs": [],
   "source": [
    "# Create categorical transformer (binary + nominal)\n",
    "categorical_transformer = Pipeline(\n",
    "    steps=[\n",
    "        (\"one_hot_encoder\", OneHotEncoder(sparse=False)),\n",
    "        # (\"ordinal_encoder\", OrdinalEncoder()),\n",
    "        (\"scaler\", StandardScaler()),\n",
    "    ]\n",
    ")"
   ]
  },
  {
   "cell_type": "code",
   "execution_count": null,
   "metadata": {
    "id": "Y3wx0byKCG0H",
    "pycharm": {
     "name": "#%%\n"
    }
   },
   "outputs": [],
   "source": [
    "# Create numeric transformer\n",
    "numeric_transformer = Pipeline(\n",
    "    steps=[\n",
    "           (\"scaler\", StandardScaler())\n",
    "    ]\n",
    ")"
   ]
  },
  {
   "cell_type": "code",
   "execution_count": null,
   "metadata": {
    "id": "wHlj7U-zCPJ2",
    "pycharm": {
     "name": "#%%\n"
    }
   },
   "outputs": [],
   "source": [
    "# Create the transformer of mixed type columns\n",
    "numerizer = ColumnTransformer(\n",
    "    transformers=[\n",
    "        (\"preproc_numeric\", numeric_transformer, NUMERICAL_COLS),\n",
    "        (\"preproc_categorical\", categorical_transformer, CATEGORICAL_COLS),\n",
    "    ],\n",
    "    verbose=True,\n",
    ")\n"
   ]
  },
  {
   "cell_type": "code",
   "execution_count": null,
   "metadata": {
    "colab": {
     "base_uri": "https://localhost:8080/"
    },
    "id": "jwxz_jBpCUE3",
    "outputId": "6a306459-b54b-4569-80c9-b4f9654b6dc9",
    "pycharm": {
     "name": "#%%\n"
    }
   },
   "outputs": [
    {
     "name": "stdout",
     "output_type": "stream",
     "text": [
      "[ColumnTransformer]  (1 of 2) Processing preproc_numeric, total=   0.0s\n",
      "[ColumnTransformer]  (2 of 2) Processing preproc_categorical, total=   0.0s\n"
     ]
    }
   ],
   "source": [
    "# Fit the column transformer\n",
    "numerizer.fit(svm_dataset)\n",
    "\n",
    "numerizer = Pipeline(\n",
    "    steps=[\n",
    "           (\"numerizer\", numerizer),\n",
    "           (\"columns\", array_to_dataframer())\n",
    "    ]\n",
    ")"
   ]
  },
  {
   "cell_type": "code",
   "execution_count": null,
   "metadata": {
    "id": "dulmGBbOCbP_",
    "pycharm": {
     "name": "#%%\n"
    }
   },
   "outputs": [],
   "source": [
    "svm_preprocessor = Pipeline(\n",
    "    steps=[\n",
    "           (\"numerizer\", numerizer),\n",
    "          #  (\"dropper\", dt_column_dropper),\n",
    "          #  (\"sorter\", columns_sorter)\n",
    "    ]\n",
    ")\n",
    "\n",
    "svm_dataset = svm_preprocessor.transform(svm_dataset)"
   ]
  },
  {
   "cell_type": "markdown",
   "metadata": {
    "id": "dEkk8tbrBh4W",
    "pycharm": {
     "name": "#%% md\n"
    }
   },
   "source": [
    "## Training"
   ]
  },
  {
   "cell_type": "code",
   "execution_count": null,
   "metadata": {
    "colab": {
     "base_uri": "https://localhost:8080/"
    },
    "id": "39RMgzYtBi92",
    "outputId": "b976f1c1-7aca-4dfc-a420-a0c33e472f7a",
    "pycharm": {
     "name": "#%%\n"
    }
   },
   "outputs": [
    {
     "name": "stdout",
     "output_type": "stream",
     "text": [
      "Fitting 5 folds for each of 18 candidates, totalling 90 fits\n"
     ]
    },
    {
     "data": {
      "text/plain": [
       "GridSearchCV(cv=StratifiedKFold(n_splits=5, random_state=None, shuffle=False),\n",
       "             estimator=SVC(random_state=3993),\n",
       "             param_grid=[{'C': [0.1, 1, 10], 'kernel': ['linear']},\n",
       "                         {'C': [0.1, 1, 10], 'degree': [2, 3],\n",
       "                          'kernel': ['poly']},\n",
       "                         {'C': [0.1, 1, 10], 'gamma': [0.1, 1, 5],\n",
       "                          'kernel': ['rbf']}],\n",
       "             refit='accuracy', return_train_score=True,\n",
       "             scoring={'accuracy': 'accuracy',\n",
       "                      'balanced_accuracy': 'balanced_accuracy',\n",
       "                      'f1': 'f1_macro'},\n",
       "             verbose=1)"
      ]
     },
     "execution_count": 84,
     "metadata": {},
     "output_type": "execute_result"
    }
   ],
   "source": [
    "svmc = SVC(random_state=RANDOM_STATE)\n",
    "\n",
    "C_values=[0.1, 1, 10]\n",
    "# Create the parameter grids\n",
    "parameter_grid = [{\n",
    "    \"C\": C_values,\n",
    "    \"kernel\": [\"linear\"],\n",
    "}, \n",
    "{\n",
    "    \"C\": C_values,\n",
    "    \"kernel\": [\"poly\"],\n",
    "    \"degree\": [2,3]\n",
    "},\n",
    "{\n",
    "    \"C\": C_values,\n",
    "    \"kernel\": [\"rbf\"],\n",
    "    \"gamma\": [0.1,1,5]\n",
    "}]\n",
    "\n",
    "# Create Stratified folds\n",
    "cross_validation = StratifiedKFold(n_splits=5)\n",
    "\n",
    "# Create the scoring dictionary\n",
    "SCORING = {\n",
    "    \"accuracy\": \"accuracy\",\n",
    "    \"balanced_accuracy\": \"balanced_accuracy\",\n",
    "    \"f1\": \"f1_macro\",\n",
    "}\n",
    "\n",
    "# Create and fit the GridSearchCV\n",
    "grid_search = GridSearchCV(\n",
    "    estimator=svmc,\n",
    "    param_grid=parameter_grid,\n",
    "    cv=cross_validation,\n",
    "    verbose=1,\n",
    "    scoring=SCORING,\n",
    "    return_train_score=True,\n",
    "    refit=\"accuracy\",\n",
    ")\n",
    "\n",
    "grid_search.fit(svm_dataset, target)"
   ]
  },
  {
   "cell_type": "markdown",
   "metadata": {
    "id": "wgvKhqcs-p2y",
    "pycharm": {
     "name": "#%% md\n"
    }
   },
   "source": [
    "```\n",
    "SVC(C=10, kernel='linear', random_state=3993)\n",
    "```"
   ]
  },
  {
   "cell_type": "code",
   "execution_count": null,
   "metadata": {
    "colab": {
     "base_uri": "https://localhost:8080/"
    },
    "id": "M4LjPEcwFrm_",
    "outputId": "0ad67676-2d9f-45db-9f7d-760e9d0caeb1",
    "pycharm": {
     "name": "#%%\n"
    }
   },
   "outputs": [
    {
     "name": "stdout",
     "output_type": "stream",
     "text": [
      "Best score: 0.789831993440935\n",
      "Best parameters: {'C': 10, 'kernel': 'linear'}\n"
     ]
    },
    {
     "data": {
      "text/plain": [
       "SVC(C=10, kernel='linear', random_state=3993)"
      ]
     },
     "execution_count": 85,
     "metadata": {},
     "output_type": "execute_result"
    }
   ],
   "source": [
    "print(\"Best score: {}\".format(grid_search.best_score_))\n",
    "print(\"Best parameters: {}\".format(grid_search.best_params_))\n",
    "\n",
    "best_svmc = grid_search.best_estimator_\n",
    "best_svmc"
   ]
  },
  {
   "cell_type": "code",
   "execution_count": null,
   "metadata": {
    "colab": {
     "base_uri": "https://localhost:8080/"
    },
    "id": "vZBtr6oMXWv1",
    "outputId": "b08b578a-4f6f-4fba-81a8-0f813e63ba9d",
    "pycharm": {
     "name": "#%%\n"
    }
   },
   "outputs": [
    {
     "name": "stdout",
     "output_type": "stream",
     "text": [
      "Confusion Matrix:\n",
      "[[3397  918]\n",
      " [ 868 3510]]\n",
      "Classification Report:\n",
      "              precision    recall  f1-score   support\n",
      "\n",
      "       False       0.80      0.79      0.79      4315\n",
      "        True       0.79      0.80      0.80      4378\n",
      "\n",
      "    accuracy                           0.79      8693\n",
      "   macro avg       0.79      0.79      0.79      8693\n",
      "weighted avg       0.79      0.79      0.79      8693\n",
      "\n"
     ]
    }
   ],
   "source": [
    "y_pred = best_svmc.predict(svm_dataset)\n",
    "print(\"Confusion Matrix:\")\n",
    "print(confusion_matrix(target, y_pred))\n",
    "\n",
    "print(\"Classification Report:\")\n",
    "print(classification_report(target, y_pred))"
   ]
  },
  {
   "cell_type": "markdown",
   "metadata": {
    "id": "NQq9WoIRTKyq",
    "pycharm": {
     "name": "#%% md\n"
    }
   },
   "source": [
    "---\n",
    "# Ensemble Methods"
   ]
  },
  {
   "cell_type": "markdown",
   "metadata": {
    "id": "JCv1nSvbqei7",
    "pycharm": {
     "name": "#%% md\n"
    }
   },
   "source": [
    "## Preprocessing"
   ]
  },
  {
   "cell_type": "code",
   "execution_count": null,
   "metadata": {
    "id": "pvehOTyDqgur",
    "pycharm": {
     "name": "#%%\n"
    }
   },
   "outputs": [],
   "source": [
    "ens_dataset = pp_dataset.copy()"
   ]
  },
  {
   "cell_type": "code",
   "execution_count": null,
   "metadata": {
    "id": "oZLWj_0sqkfr",
    "pycharm": {
     "name": "#%%\n"
    }
   },
   "outputs": [],
   "source": [
    "# Create categorical transformer (binary + nominal)\n",
    "categorical_transformer = Pipeline(\n",
    "    steps=[\n",
    "        (\"one_hot_encoder\", OneHotEncoder(sparse=False)),\n",
    "        # (\"ordinal_encoder\", OrdinalEncoder()),\n",
    "        (\"scaler\", StandardScaler()),\n",
    "    ]\n",
    ")"
   ]
  },
  {
   "cell_type": "code",
   "execution_count": null,
   "metadata": {
    "id": "vAxNVi4zqpYy",
    "pycharm": {
     "name": "#%%\n"
    }
   },
   "outputs": [],
   "source": [
    "# Create numeric transformer\n",
    "numeric_transformer = Pipeline(\n",
    "    steps=[\n",
    "           (\"scaler\", StandardScaler())\n",
    "    ]\n",
    ")"
   ]
  },
  {
   "cell_type": "code",
   "execution_count": null,
   "metadata": {
    "id": "P3GXFDFIqp6L",
    "pycharm": {
     "name": "#%%\n"
    }
   },
   "outputs": [],
   "source": [
    "# Create the transformer of mixed type columns\n",
    "numerizer = ColumnTransformer(\n",
    "    transformers=[\n",
    "        (\"preproc_numeric\", numeric_transformer, NUMERICAL_COLS),\n",
    "        (\"preproc_categorical\", categorical_transformer, CATEGORICAL_COLS),\n",
    "    ],\n",
    "    verbose=True,\n",
    ")"
   ]
  },
  {
   "cell_type": "code",
   "execution_count": null,
   "metadata": {
    "colab": {
     "base_uri": "https://localhost:8080/"
    },
    "id": "bAsnYgu2quOy",
    "outputId": "6c675ff0-79e0-4194-e157-8a89904c4766",
    "pycharm": {
     "name": "#%%\n"
    }
   },
   "outputs": [
    {
     "name": "stdout",
     "output_type": "stream",
     "text": [
      "[ColumnTransformer]  (1 of 2) Processing preproc_numeric, total=   0.0s\n",
      "[ColumnTransformer]  (2 of 2) Processing preproc_categorical, total=   0.0s\n"
     ]
    }
   ],
   "source": [
    "# Fit the column transformer\n",
    "numerizer.fit(ens_dataset)\n",
    "\n",
    "numerizer = Pipeline(\n",
    "    steps=[\n",
    "           (\"numerizer\", numerizer),\n",
    "           (\"columns\", array_to_dataframer())\n",
    "    ]\n",
    ")"
   ]
  },
  {
   "cell_type": "code",
   "execution_count": null,
   "metadata": {
    "id": "UrOlKE-tqxKb",
    "pycharm": {
     "name": "#%%\n"
    }
   },
   "outputs": [],
   "source": [
    "ens_preprocessor = Pipeline(\n",
    "    steps=[\n",
    "           (\"numerizer\", numerizer),\n",
    "          #  (\"dropper\", dt_column_dropper),\n",
    "          #  (\"sorter\", columns_sorter)\n",
    "    ]\n",
    ")\n",
    "\n",
    "ens_dataset = ens_preprocessor.transform(ens_dataset)"
   ]
  },
  {
   "cell_type": "markdown",
   "metadata": {
    "id": "Guo6p4bcrUpj",
    "pycharm": {
     "name": "#%% md\n"
    }
   },
   "source": [
    "## Training"
   ]
  },
  {
   "cell_type": "markdown",
   "metadata": {
    "id": "-6ibwrK0rcx7",
    "pycharm": {
     "name": "#%% md\n"
    }
   },
   "source": [
    "Voting Classifier"
   ]
  },
  {
   "cell_type": "code",
   "execution_count": null,
   "metadata": {
    "id": "o5msHaQHrgc5",
    "pycharm": {
     "name": "#%%\n"
    }
   },
   "outputs": [],
   "source": [
    "from sklearn.ensemble import VotingClassifier\n",
    "\n",
    "votc = VotingClassifier(\n",
    "    estimators=[('dt', best_dtc), ('svm', best_svmc )],\n",
    "    voting='hard')\n",
    "votc.fit(ens_dataset, target)\n",
    "\n",
    "xtr, xte, ytr, yte = train_test_split(ens_dataset, target)\n",
    "\n",
    "votc.fit(xtr, ytr)\n",
    "votc.score(xte, yte)"
   ]
  },
  {
   "cell_type": "markdown",
   "metadata": {
    "id": "tJRKno4wDjcb",
    "pycharm": {
     "name": "#%% md\n"
    }
   },
   "source": [
    "Bagging Classifier"
   ]
  },
  {
   "cell_type": "code",
   "execution_count": null,
   "metadata": {
    "colab": {
     "base_uri": "https://localhost:8080/"
    },
    "id": "Ur9UCob9DlqL",
    "outputId": "9e4cb162-5f26-4750-a9cb-72749b35a74b",
    "pycharm": {
     "name": "#%%\n"
    }
   },
   "outputs": [
    {
     "name": "stdout",
     "output_type": "stream",
     "text": [
      "Fitting 10 folds for each of 3 candidates, totalling 30 fits\n"
     ]
    },
    {
     "data": {
      "text/plain": [
       "GridSearchCV(cv=StratifiedKFold(n_splits=10, random_state=None, shuffle=False),\n",
       "             estimator=BaggingClassifier(base_estimator=DecisionTreeClassifier(max_depth=10),\n",
       "                                         random_state=3993),\n",
       "             param_grid={'n_estimators': [50, 100, 200]}, refit='accuracy',\n",
       "             return_train_score=True,\n",
       "             scoring={'accuracy': 'accuracy',\n",
       "                      'balanced_accuracy': 'balanced_accuracy',\n",
       "                      'f1': 'f1_macro'},\n",
       "             verbose=1)"
      ]
     },
     "execution_count": 59,
     "metadata": {},
     "output_type": "execute_result"
    }
   ],
   "source": [
    "from sklearn.ensemble import BaggingClassifier\n",
    "\n",
    "bag_clf = BaggingClassifier(DecisionTreeClassifier(max_depth=10), random_state=RANDOM_STATE)\n",
    "\n",
    "# Create the parameter grids\n",
    "parameter_grid = {\n",
    "    \"n_estimators\": [50,100,200],\n",
    "}\n",
    "\n",
    "# Create Stratified folds\n",
    "cross_validation = StratifiedKFold(n_splits=10)\n",
    "\n",
    "# Create the scoring dictionary\n",
    "SCORING = {\n",
    "    \"accuracy\": \"accuracy\",\n",
    "    \"balanced_accuracy\": \"balanced_accuracy\",\n",
    "    \"f1\": \"f1_macro\",\n",
    "}\n",
    "\n",
    "# Create and fit the GridSearchCV\n",
    "grid_search = GridSearchCV(\n",
    "    estimator=bag_clf,\n",
    "    param_grid=parameter_grid,\n",
    "    cv=cross_validation,\n",
    "    verbose=1,\n",
    "    scoring=SCORING,\n",
    "    return_train_score=True,\n",
    "    refit=\"accuracy\",\n",
    ")\n",
    "\n",
    "grid_search.fit(ens_dataset, target)\n"
   ]
  },
  {
   "cell_type": "markdown",
   "metadata": {
    "id": "iqVJQBqrK5tT",
    "pycharm": {
     "name": "#%% md\n"
    }
   },
   "source": [
    "```\n",
    "BaggingClassifier(n_estimators=50, random_state=3993)\n",
    "```"
   ]
  },
  {
   "cell_type": "code",
   "execution_count": null,
   "metadata": {
    "colab": {
     "base_uri": "https://localhost:8080/"
    },
    "id": "QCxm4FBmGndr",
    "outputId": "5aab8b95-f9ee-456c-c25f-8973ff0c9559",
    "pycharm": {
     "name": "#%%\n"
    }
   },
   "outputs": [
    {
     "name": "stdout",
     "output_type": "stream",
     "text": [
      "Best score: 0.7800607118765129\n",
      "Best parameters: {'n_estimators': 50}\n"
     ]
    },
    {
     "data": {
      "text/plain": [
       "BaggingClassifier(base_estimator=DecisionTreeClassifier(max_depth=10),\n",
       "                  n_estimators=50, random_state=3993)"
      ]
     },
     "execution_count": 60,
     "metadata": {},
     "output_type": "execute_result"
    }
   ],
   "source": [
    "print(\"Best score: {}\".format(grid_search.best_score_))\n",
    "print(\"Best parameters: {}\".format(grid_search.best_params_))\n",
    "\n",
    "best_bag = grid_search.best_estimator_\n",
    "best_bag"
   ]
  },
  {
   "cell_type": "code",
   "execution_count": null,
   "metadata": {
    "colab": {
     "base_uri": "https://localhost:8080/"
    },
    "id": "jpPk6yqgGukr",
    "outputId": "85868b07-f9f8-4076-b203-b36385cc73c3",
    "pycharm": {
     "name": "#%%\n"
    }
   },
   "outputs": [
    {
     "name": "stdout",
     "output_type": "stream",
     "text": [
      "Confusion Matrix:\n",
      "[[3814  501]\n",
      " [ 551 3827]]\n",
      "Classification Report:\n",
      "              precision    recall  f1-score   support\n",
      "\n",
      "       False       0.87      0.88      0.88      4315\n",
      "        True       0.88      0.87      0.88      4378\n",
      "\n",
      "    accuracy                           0.88      8693\n",
      "   macro avg       0.88      0.88      0.88      8693\n",
      "weighted avg       0.88      0.88      0.88      8693\n",
      "\n"
     ]
    }
   ],
   "source": [
    "y_pred = best_bag.predict(ens_dataset)\n",
    "print(\"Confusion Matrix:\")\n",
    "print(confusion_matrix(target, y_pred))\n",
    "\n",
    "print(\"Classification Report:\")\n",
    "print(classification_report(target, y_pred))"
   ]
  },
  {
   "cell_type": "markdown",
   "metadata": {
    "id": "yMhVUQg8F2NT",
    "pycharm": {
     "name": "#%% md\n"
    }
   },
   "source": [
    "Pasting Classifier"
   ]
  },
  {
   "cell_type": "code",
   "execution_count": null,
   "metadata": {
    "colab": {
     "base_uri": "https://localhost:8080/"
    },
    "id": "pYhoyeV7F1Mr",
    "outputId": "9653ad26-1a1b-40f7-ac16-c06d5377942a",
    "pycharm": {
     "name": "#%%\n"
    }
   },
   "outputs": [
    {
     "name": "stdout",
     "output_type": "stream",
     "text": [
      "Fitting 10 folds for each of 3 candidates, totalling 30 fits\n"
     ]
    },
    {
     "data": {
      "text/plain": [
       "GridSearchCV(cv=StratifiedKFold(n_splits=10, random_state=None, shuffle=False),\n",
       "             estimator=BaggingClassifier(base_estimator=DecisionTreeClassifier(max_depth=10),\n",
       "                                         bootstrap=False, max_samples=2000,\n",
       "                                         random_state=3993),\n",
       "             param_grid={'n_estimators': [50, 100, 200]}, refit='accuracy',\n",
       "             return_train_score=True,\n",
       "             scoring={'accuracy': 'accuracy',\n",
       "                      'balanced_accuracy': 'balanced_accuracy',\n",
       "                      'f1': 'f1_macro'},\n",
       "             verbose=1)"
      ]
     },
     "execution_count": 62,
     "metadata": {},
     "output_type": "execute_result"
    }
   ],
   "source": [
    "pas_clf = BaggingClassifier(DecisionTreeClassifier(max_depth=10), random_state=RANDOM_STATE, bootstrap=False, max_samples=2000)\n",
    "\n",
    "# Create the parameter grids\n",
    "parameter_grid = {\n",
    "    \"n_estimators\": [50,100,200],\n",
    "}\n",
    "\n",
    "# Create Stratified folds\n",
    "cross_validation = StratifiedKFold(n_splits=10)\n",
    "\n",
    "# Create the scoring dictionary\n",
    "SCORING = {\n",
    "    \"accuracy\": \"accuracy\",\n",
    "    \"balanced_accuracy\": \"balanced_accuracy\",\n",
    "    \"f1\": \"f1_macro\",\n",
    "}\n",
    "\n",
    "# Create and fit the GridSearchCV\n",
    "grid_search = GridSearchCV(\n",
    "    estimator=pas_clf,\n",
    "    param_grid=parameter_grid,\n",
    "    cv=cross_validation,\n",
    "    verbose=1,\n",
    "    scoring=SCORING,\n",
    "    return_train_score=True,\n",
    "    refit=\"accuracy\",\n",
    ")\n",
    "\n",
    "grid_search.fit(ens_dataset, target)"
   ]
  },
  {
   "cell_type": "markdown",
   "metadata": {
    "id": "ibYZ-AqjPHRS",
    "pycharm": {
     "name": "#%% md\n"
    }
   },
   "source": [
    "```\n",
    "BaggingClassifier(n_estimators=100, random_state=3993)\n",
    "```"
   ]
  },
  {
   "cell_type": "code",
   "execution_count": null,
   "metadata": {
    "colab": {
     "base_uri": "https://localhost:8080/"
    },
    "id": "WZL2-OJWG6yz",
    "outputId": "ce92edde-7291-476d-9faa-2a0829e625d8",
    "pycharm": {
     "name": "#%%\n"
    }
   },
   "outputs": [
    {
     "name": "stdout",
     "output_type": "stream",
     "text": [
      "Best score: 0.7805207465312223\n",
      "Best parameters: {'n_estimators': 100}\n"
     ]
    },
    {
     "data": {
      "text/plain": [
       "BaggingClassifier(base_estimator=DecisionTreeClassifier(max_depth=10),\n",
       "                  bootstrap=False, max_samples=2000, n_estimators=100,\n",
       "                  random_state=3993)"
      ]
     },
     "execution_count": 64,
     "metadata": {},
     "output_type": "execute_result"
    }
   ],
   "source": [
    "print(\"Best score: {}\".format(grid_search.best_score_))\n",
    "print(\"Best parameters: {}\".format(grid_search.best_params_))\n",
    "\n",
    "best_pas = grid_search.best_estimator_\n",
    "best_pas"
   ]
  },
  {
   "cell_type": "code",
   "execution_count": null,
   "metadata": {
    "colab": {
     "base_uri": "https://localhost:8080/"
    },
    "id": "UP9HRA0tG7M5",
    "outputId": "01caee8c-5a4a-45d0-ed5e-093684a1afbc",
    "pycharm": {
     "name": "#%%\n"
    }
   },
   "outputs": [
    {
     "name": "stdout",
     "output_type": "stream",
     "text": [
      "Confusion Matrix:\n",
      "[[3687  628]\n",
      " [ 662 3716]]\n",
      "Classification Report:\n",
      "              precision    recall  f1-score   support\n",
      "\n",
      "       False       0.85      0.85      0.85      4315\n",
      "        True       0.86      0.85      0.85      4378\n",
      "\n",
      "    accuracy                           0.85      8693\n",
      "   macro avg       0.85      0.85      0.85      8693\n",
      "weighted avg       0.85      0.85      0.85      8693\n",
      "\n"
     ]
    }
   ],
   "source": [
    "y_pred = best_pas.predict(ens_dataset)\n",
    "print(\"Confusion Matrix:\")\n",
    "print(confusion_matrix(target, y_pred))\n",
    "\n",
    "print(\"Classification Report:\")\n",
    "print(classification_report(target, y_pred))"
   ]
  },
  {
   "cell_type": "markdown",
   "metadata": {
    "id": "pvaXg3K83ZLt",
    "pycharm": {
     "name": "#%% md\n"
    }
   },
   "source": [
    "Random Forest"
   ]
  },
  {
   "cell_type": "code",
   "execution_count": null,
   "metadata": {
    "colab": {
     "base_uri": "https://localhost:8080/"
    },
    "id": "P31sBT6LOnPQ",
    "outputId": "a3056cb5-a382-4925-9b76-d27bea24c4bf",
    "pycharm": {
     "name": "#%%\n"
    }
   },
   "outputs": [
    {
     "name": "stdout",
     "output_type": "stream",
     "text": [
      "Fitting 10 folds for each of 12 candidates, totalling 120 fits\n"
     ]
    },
    {
     "data": {
      "text/plain": [
       "GridSearchCV(cv=StratifiedKFold(n_splits=10, random_state=None, shuffle=False),\n",
       "             estimator=RandomForestClassifier(random_state=3993),\n",
       "             param_grid={'criterion': ['gini', 'entropy'],\n",
       "                         'max_features': ['sqrt', 'log2'],\n",
       "                         'n_estimators': [100, 200, 500]},\n",
       "             refit='accuracy', return_train_score=True,\n",
       "             scoring={'accuracy': 'accuracy',\n",
       "                      'balanced_accuracy': 'balanced_accuracy',\n",
       "                      'f1': 'f1_macro'},\n",
       "             verbose=1)"
      ]
     },
     "execution_count": 38,
     "metadata": {},
     "output_type": "execute_result"
    }
   ],
   "source": [
    "from sklearn.ensemble import RandomForestClassifier\n",
    "\n",
    "rnd_clf = RandomForestClassifier(random_state=RANDOM_STATE)\n",
    "\n",
    "# Create the parameter grids\n",
    "parameter_grid = {\n",
    "    \"n_estimators\": [100,200,500],\n",
    "    \"criterion\": [\"gini\", \"entropy\"],\n",
    "    \"max_features\": [\"sqrt\", \"log2\"]\n",
    "}\n",
    "\n",
    "# Create Stratified folds\n",
    "cross_validation = StratifiedKFold(n_splits=10)\n",
    "\n",
    "# Create the scoring dictionary\n",
    "SCORING = {\n",
    "    \"accuracy\": \"accuracy\",\n",
    "    \"balanced_accuracy\": \"balanced_accuracy\",\n",
    "    \"f1\": \"f1_macro\",\n",
    "}\n",
    "\n",
    "# Create and fit the GridSearchCV\n",
    "grid_search = GridSearchCV(\n",
    "    estimator=rnd_clf,\n",
    "    param_grid=parameter_grid,\n",
    "    cv=cross_validation,\n",
    "    verbose=1,\n",
    "    scoring=SCORING,\n",
    "    return_train_score=True,\n",
    "    refit=\"accuracy\",\n",
    ")\n",
    "\n",
    "grid_search.fit(ens_dataset, target)"
   ]
  },
  {
   "cell_type": "markdown",
   "metadata": {
    "id": "LuQHEn6WQpVn",
    "pycharm": {
     "name": "#%% md\n"
    }
   },
   "source": [
    "```\n",
    "RandomForestClassifier(criterion='entropy', n_estimators=500, max_features=\"sqrt\", random_state=3993)\n",
    "```"
   ]
  },
  {
   "cell_type": "code",
   "execution_count": null,
   "metadata": {
    "colab": {
     "base_uri": "https://localhost:8080/"
    },
    "id": "UwvOk3MJQZbw",
    "outputId": "0605b8e5-c8d4-43eb-b805-727af979ed67",
    "pycharm": {
     "name": "#%%\n"
    }
   },
   "outputs": [
    {
     "name": "stdout",
     "output_type": "stream",
     "text": [
      "Best score: 0.790870864912768\n",
      "Best parameters: {'criterion': 'entropy', 'max_features': 'sqrt', 'n_estimators': 500}\n"
     ]
    },
    {
     "data": {
      "text/plain": [
       "RandomForestClassifier(criterion='entropy', max_features='sqrt',\n",
       "                       n_estimators=500, random_state=3993)"
      ]
     },
     "execution_count": 39,
     "metadata": {},
     "output_type": "execute_result"
    }
   ],
   "source": [
    "print(\"Best score: {}\".format(grid_search.best_score_))\n",
    "print(\"Best parameters: {}\".format(grid_search.best_params_))\n",
    "\n",
    "best_rnd = grid_search.best_estimator_\n",
    "best_rnd"
   ]
  },
  {
   "cell_type": "code",
   "execution_count": null,
   "metadata": {
    "colab": {
     "base_uri": "https://localhost:8080/"
    },
    "id": "tWZrZgPsQdAQ",
    "outputId": "705b3f3c-58b4-4d07-e6be-8e370c7beb77",
    "pycharm": {
     "name": "#%%\n"
    }
   },
   "outputs": [
    {
     "name": "stdout",
     "output_type": "stream",
     "text": [
      "Confusion Matrix:\n",
      "[[4310    5]\n",
      " [   1 4377]]\n",
      "Classification Report:\n",
      "              precision    recall  f1-score   support\n",
      "\n",
      "       False       1.00      1.00      1.00      4315\n",
      "        True       1.00      1.00      1.00      4378\n",
      "\n",
      "    accuracy                           1.00      8693\n",
      "   macro avg       1.00      1.00      1.00      8693\n",
      "weighted avg       1.00      1.00      1.00      8693\n",
      "\n"
     ]
    }
   ],
   "source": [
    "y_pred = best_rnd.predict(ens_dataset)\n",
    "print(\"Confusion Matrix:\")\n",
    "print(confusion_matrix(target, y_pred))\n",
    "\n",
    "print(\"Classification Report:\")\n",
    "print(classification_report(target, y_pred))"
   ]
  },
  {
   "cell_type": "markdown",
   "metadata": {
    "id": "JFiIrHXVEvFx",
    "pycharm": {
     "name": "#%% md\n"
    }
   },
   "source": [
    "Extra Trees"
   ]
  },
  {
   "cell_type": "code",
   "execution_count": null,
   "metadata": {
    "colab": {
     "base_uri": "https://localhost:8080/"
    },
    "id": "Y__9cS3dVmVH",
    "outputId": "55189cc2-ef7a-4726-b5a6-b4f37779dd1a",
    "pycharm": {
     "name": "#%%\n"
    }
   },
   "outputs": [
    {
     "name": "stdout",
     "output_type": "stream",
     "text": [
      "Fitting 10 folds for each of 20 candidates, totalling 200 fits\n"
     ]
    },
    {
     "data": {
      "text/plain": [
       "GridSearchCV(cv=StratifiedKFold(n_splits=10, random_state=None, shuffle=False),\n",
       "             estimator=ExtraTreesClassifier(random_state=3993),\n",
       "             param_grid={'criterion': ['gini', 'entropy'],\n",
       "                         'max_features': ['sqrt', 'log2'],\n",
       "                         'n_estimators': [100, 200, 500, 700, 1000]},\n",
       "             refit='accuracy', return_train_score=True,\n",
       "             scoring={'accuracy': 'accuracy',\n",
       "                      'balanced_accuracy': 'balanced_accuracy',\n",
       "                      'f1': 'f1_macro'},\n",
       "             verbose=1)"
      ]
     },
     "execution_count": 66,
     "metadata": {},
     "output_type": "execute_result"
    }
   ],
   "source": [
    "from sklearn.ensemble import ExtraTreesClassifier\n",
    "\n",
    "ext_clf = ExtraTreesClassifier(random_state=RANDOM_STATE)\n",
    "\n",
    "# Create the parameter grids\n",
    "parameter_grid = {\n",
    "    \"n_estimators\": [100,200,500, 700, 1000],\n",
    "    \"criterion\": [\"gini\", \"entropy\"],\n",
    "    \"max_features\": [\"sqrt\", \"log2\"]\n",
    "}\n",
    "\n",
    "# Create Stratified folds\n",
    "cross_validation = StratifiedKFold(n_splits=10)\n",
    "\n",
    "# Create the scoring dictionary\n",
    "SCORING = {\n",
    "    \"accuracy\": \"accuracy\",\n",
    "    \"balanced_accuracy\": \"balanced_accuracy\",\n",
    "    \"f1\": \"f1_macro\",\n",
    "}\n",
    "\n",
    "# Create and fit the GridSearchCV\n",
    "grid_search = GridSearchCV(\n",
    "    estimator=ext_clf,\n",
    "    param_grid=parameter_grid,\n",
    "    cv=cross_validation,\n",
    "    verbose=1,\n",
    "    scoring=SCORING,\n",
    "    return_train_score=True,\n",
    "    refit=\"accuracy\",\n",
    ")\n",
    "\n",
    "grid_search.fit(ens_dataset, target)"
   ]
  },
  {
   "cell_type": "markdown",
   "metadata": {
    "id": "v3F-LL3VX6nH",
    "pycharm": {
     "name": "#%% md\n"
    }
   },
   "source": [
    "```\n",
    "ExtraTreesClassifier(criterion='entropy', max_features='sqrt', n_estimators=200, random_state=3993)\n",
    "```"
   ]
  },
  {
   "cell_type": "code",
   "execution_count": null,
   "metadata": {
    "colab": {
     "base_uri": "https://localhost:8080/"
    },
    "id": "dYIIBmWuXknn",
    "outputId": "86401549-4885-4203-c2a6-07c57afb8619",
    "pycharm": {
     "name": "#%%\n"
    }
   },
   "outputs": [
    {
     "name": "stdout",
     "output_type": "stream",
     "text": [
      "Best score: 0.7882244090842956\n",
      "Best parameters: {'criterion': 'entropy', 'max_features': 'sqrt', 'n_estimators': 200}\n"
     ]
    },
    {
     "data": {
      "text/plain": [
       "ExtraTreesClassifier(criterion='entropy', max_features='sqrt', n_estimators=200,\n",
       "                     random_state=3993)"
      ]
     },
     "execution_count": 67,
     "metadata": {},
     "output_type": "execute_result"
    }
   ],
   "source": [
    "print(\"Best score: {}\".format(grid_search.best_score_))\n",
    "print(\"Best parameters: {}\".format(grid_search.best_params_))\n",
    "\n",
    "best_ext = grid_search.best_estimator_\n",
    "best_ext"
   ]
  },
  {
   "cell_type": "code",
   "execution_count": null,
   "metadata": {
    "colab": {
     "base_uri": "https://localhost:8080/"
    },
    "id": "MKRF2w-iXsgn",
    "outputId": "33bdd4f6-003c-4b79-fa7b-11b0ad01b245",
    "pycharm": {
     "name": "#%%\n"
    }
   },
   "outputs": [
    {
     "name": "stdout",
     "output_type": "stream",
     "text": [
      "Confusion Matrix:\n",
      "[[4314    1]\n",
      " [   5 4373]]\n",
      "Classification Report:\n",
      "              precision    recall  f1-score   support\n",
      "\n",
      "       False       1.00      1.00      1.00      4315\n",
      "        True       1.00      1.00      1.00      4378\n",
      "\n",
      "    accuracy                           1.00      8693\n",
      "   macro avg       1.00      1.00      1.00      8693\n",
      "weighted avg       1.00      1.00      1.00      8693\n",
      "\n"
     ]
    }
   ],
   "source": [
    "y_pred = best_ext.predict(ens_dataset)\n",
    "print(\"Confusion Matrix:\")\n",
    "print(confusion_matrix(target, y_pred))\n",
    "\n",
    "print(\"Classification Report:\")\n",
    "print(classification_report(target, y_pred))"
   ]
  },
  {
   "cell_type": "markdown",
   "metadata": {
    "id": "2AFAKMEeRpht",
    "pycharm": {
     "name": "#%% md\n"
    }
   },
   "source": [
    "Adaboost"
   ]
  },
  {
   "cell_type": "code",
   "execution_count": null,
   "metadata": {
    "colab": {
     "base_uri": "https://localhost:8080/"
    },
    "id": "oV-Vp5YMYcxf",
    "outputId": "bcc42145-ffc3-47a5-b44e-421874e7e8e9",
    "pycharm": {
     "name": "#%%\n"
    }
   },
   "outputs": [
    {
     "name": "stdout",
     "output_type": "stream",
     "text": [
      "Fitting 10 folds for each of 12 candidates, totalling 120 fits\n"
     ]
    },
    {
     "data": {
      "text/plain": [
       "GridSearchCV(cv=StratifiedKFold(n_splits=10, random_state=None, shuffle=False),\n",
       "             estimator=AdaBoostClassifier(base_estimator=DecisionTreeClassifier(),\n",
       "                                          random_state=3993),\n",
       "             param_grid={'algorithm': ['SAMME.R'],\n",
       "                         'base_estimator__max_depth': [1, 5],\n",
       "                         'learning_rate': [0.2, 0.5, 1],\n",
       "                         'n_estimators': [50, 100]},\n",
       "             refit='accuracy', return_train_score=True,\n",
       "             scoring={'accuracy': 'accuracy',\n",
       "                      'balanced_accuracy': 'balanced_accuracy',\n",
       "                      'f1': 'f1_macro'},\n",
       "             verbose=1)"
      ]
     },
     "execution_count": 53,
     "metadata": {},
     "output_type": "execute_result"
    }
   ],
   "source": [
    "from sklearn.ensemble import AdaBoostClassifier\n",
    "\n",
    "ada_clf = AdaBoostClassifier(DecisionTreeClassifier(max_depth=1),random_state=RANDOM_STATE)\n",
    "\n",
    "# Create the parameter grids\n",
    "parameter_grid = {\n",
    "    \"n_estimators\": [50,100,500],\n",
    "    \"learning_rate\": [0.2, 0.5, 1],\n",
    "    \"algorithm\": [\"SAMME\", \"SAMME.R\"]\n",
    "    \n",
    "}\n",
    "\n",
    "# Create Stratified folds\n",
    "cross_validation = StratifiedKFold(n_splits=10)\n",
    "\n",
    "# Create the scoring dictionary\n",
    "SCORING = {\n",
    "    \"accuracy\": \"accuracy\",\n",
    "    \"balanced_accuracy\": \"balanced_accuracy\",\n",
    "    \"f1\": \"f1_macro\",\n",
    "}\n",
    "\n",
    "# Create and fit the GridSearchCV\n",
    "grid_search = GridSearchCV(\n",
    "    estimator=ada_clf,\n",
    "    param_grid=parameter_grid,\n",
    "    cv=cross_validation,\n",
    "    verbose=1,\n",
    "    scoring=SCORING,\n",
    "    return_train_score=True,\n",
    "    refit=\"accuracy\",\n",
    ")\n",
    "\n",
    "grid_search.fit(ens_dataset, target)"
   ]
  },
  {
   "cell_type": "markdown",
   "metadata": {
    "id": "fPthHlbaoF06",
    "pycharm": {
     "name": "#%% md\n"
    }
   },
   "source": [
    "```\n",
    "AdaBoostClassifier(base_estimator=DecisionTreeClassifier(max_depth=1),\n",
    "                   learning_rate=0.5, n_estimators=50, algorithm=\"SAMME.R\", random_state=3993)\n",
    "\n",
    "```"
   ]
  },
  {
   "cell_type": "code",
   "execution_count": null,
   "metadata": {
    "colab": {
     "base_uri": "https://localhost:8080/"
    },
    "id": "ec9wVIHbn7XO",
    "outputId": "ba092aad-5e03-401d-989f-575f41af2312",
    "pycharm": {
     "name": "#%%\n"
    }
   },
   "outputs": [
    {
     "name": "stdout",
     "output_type": "stream",
     "text": [
      "Best score: 0.7936319987302092\n",
      "Best parameters: {'algorithm': 'SAMME.R', 'base_estimator__max_depth': 1, 'learning_rate': 0.5, 'n_estimators': 50}\n"
     ]
    },
    {
     "data": {
      "text/plain": [
       "AdaBoostClassifier(base_estimator=DecisionTreeClassifier(max_depth=1),\n",
       "                   learning_rate=0.5, random_state=3993)"
      ]
     },
     "execution_count": 55,
     "metadata": {},
     "output_type": "execute_result"
    }
   ],
   "source": [
    "print(\"Best score: {}\".format(grid_search.best_score_))\n",
    "print(\"Best parameters: {}\".format(grid_search.best_params_))\n",
    "\n",
    "best_ada = grid_search.best_estimator_\n",
    "best_ada"
   ]
  },
  {
   "cell_type": "code",
   "execution_count": null,
   "metadata": {
    "colab": {
     "base_uri": "https://localhost:8080/"
    },
    "id": "sP6jmH91ovG2",
    "outputId": "d0648d16-6447-447b-9a50-d728c3e701b1",
    "pycharm": {
     "name": "#%%\n"
    }
   },
   "outputs": [
    {
     "name": "stdout",
     "output_type": "stream",
     "text": [
      "Confusion Matrix:\n",
      "[[4314    1]\n",
      " [   5 4373]]\n",
      "Classification Report:\n",
      "              precision    recall  f1-score   support\n",
      "\n",
      "       False       1.00      1.00      1.00      4315\n",
      "        True       1.00      1.00      1.00      4378\n",
      "\n",
      "    accuracy                           1.00      8693\n",
      "   macro avg       1.00      1.00      1.00      8693\n",
      "weighted avg       1.00      1.00      1.00      8693\n",
      "\n"
     ]
    }
   ],
   "source": [
    "y_pred = best_ext.predict(ens_dataset)\n",
    "print(\"Confusion Matrix:\")\n",
    "print(confusion_matrix(target, y_pred))\n",
    "\n",
    "print(\"Classification Report:\")\n",
    "print(classification_report(target, y_pred))"
   ]
  },
  {
   "cell_type": "markdown",
   "metadata": {
    "id": "igyL3tg6Rqjy",
    "pycharm": {
     "name": "#%% md\n"
    }
   },
   "source": [
    "XGBoost"
   ]
  },
  {
   "cell_type": "code",
   "execution_count": null,
   "metadata": {
    "colab": {
     "base_uri": "https://localhost:8080/"
    },
    "id": "k1SnLSBRRP2P",
    "outputId": "e467bab7-05f4-4ee7-a5c0-3006ca785a9f",
    "pycharm": {
     "name": "#%%\n"
    }
   },
   "outputs": [
    {
     "name": "stdout",
     "output_type": "stream",
     "text": [
      "Fitting 10 folds for each of 80 candidates, totalling 800 fits\n"
     ]
    },
    {
     "data": {
      "text/plain": [
       "GridSearchCV(cv=StratifiedKFold(n_splits=10, random_state=None, shuffle=False),\n",
       "             estimator=XGBClassifier(),\n",
       "             param_grid={'eta': [0.01, 0.1, 0.3, 0.5], 'gamma': [0, 0.1, 1, 10],\n",
       "                         'max_depth': [1, 2, 4, 6, 8]},\n",
       "             refit='accuracy', return_train_score=True,\n",
       "             scoring={'accuracy': 'accuracy',\n",
       "                      'balanced_accuracy': 'balanced_accuracy',\n",
       "                      'f1': 'f1_macro'},\n",
       "             verbose=1)"
      ]
     },
     "execution_count": 45,
     "metadata": {},
     "output_type": "execute_result"
    }
   ],
   "source": [
    "import xgboost as xgb\n",
    "\n",
    "xgb_clf = xgb.XGBClassifier()\n",
    "\n",
    "# Create the parameter grids\n",
    "parameter_grid = {\n",
    "    \"eta\": [0.01,0.1,0.3,0.5],\n",
    "    \"gamma\": [0, 0.1, 1, 10],\n",
    "    \"max_depth\": [1, 2, 4, 6, 8]\n",
    "    \n",
    "}\n",
    "\n",
    "# Create Stratified folds\n",
    "cross_validation = StratifiedKFold(n_splits=10)\n",
    "\n",
    "# Create the scoring dictionary\n",
    "SCORING = {\n",
    "    \"accuracy\": \"accuracy\",\n",
    "    \"balanced_accuracy\": \"balanced_accuracy\",\n",
    "    \"f1\": \"f1_macro\",\n",
    "}\n",
    "\n",
    "# Create and fit the GridSearchCV\n",
    "grid_search = GridSearchCV(\n",
    "    estimator=xgb_clf,\n",
    "    param_grid=parameter_grid,\n",
    "    cv=cross_validation,\n",
    "    verbose=1,\n",
    "    scoring=SCORING,\n",
    "    return_train_score=True,\n",
    "    refit=\"accuracy\",\n",
    ")\n",
    "\n",
    "grid_search.fit(ens_dataset, target)"
   ]
  },
  {
   "cell_type": "markdown",
   "metadata": {
    "id": "0rolytE13Nxu",
    "pycharm": {
     "name": "#%% md\n"
    }
   },
   "source": [
    "```\n",
    "XGBClassifier(eta=0.01, gamma=10, max_depth=4)\n",
    "\n",
    "```"
   ]
  },
  {
   "cell_type": "code",
   "execution_count": null,
   "metadata": {
    "colab": {
     "base_uri": "https://localhost:8080/"
    },
    "id": "MmdWUPqrziPf",
    "outputId": "4a248602-1b6c-46ed-eb3d-c43d0868d6a8",
    "pycharm": {
     "name": "#%%\n"
    }
   },
   "outputs": [
    {
     "name": "stdout",
     "output_type": "stream",
     "text": [
      "Best score: 0.797546922741161\n",
      "Best parameters: {'eta': 0.01, 'gamma': 10, 'max_depth': 4}\n"
     ]
    },
    {
     "data": {
      "text/plain": [
       "XGBClassifier(eta=0.01, gamma=10, max_depth=4)"
      ]
     },
     "execution_count": 46,
     "metadata": {},
     "output_type": "execute_result"
    }
   ],
   "source": [
    "print(\"Best score: {}\".format(grid_search.best_score_))\n",
    "print(\"Best parameters: {}\".format(grid_search.best_params_))\n",
    "\n",
    "best_xgb = grid_search.best_estimator_\n",
    "best_xgb"
   ]
  },
  {
   "cell_type": "code",
   "execution_count": null,
   "metadata": {
    "colab": {
     "base_uri": "https://localhost:8080/"
    },
    "id": "i-daP3063YEb",
    "outputId": "b39bf2fa-2c6c-4ca0-c359-834072c94c00",
    "pycharm": {
     "name": "#%%\n"
    }
   },
   "outputs": [
    {
     "name": "stdout",
     "output_type": "stream",
     "text": [
      "Confusion Matrix:\n",
      "[[3359  956]\n",
      " [ 627 3751]]\n",
      "Classification Report:\n",
      "              precision    recall  f1-score   support\n",
      "\n",
      "       False       0.84      0.78      0.81      4315\n",
      "        True       0.80      0.86      0.83      4378\n",
      "\n",
      "    accuracy                           0.82      8693\n",
      "   macro avg       0.82      0.82      0.82      8693\n",
      "weighted avg       0.82      0.82      0.82      8693\n",
      "\n"
     ]
    }
   ],
   "source": [
    "y_pred = best_xgb.predict(ens_dataset)\n",
    "print(\"Confusion Matrix:\")\n",
    "print(confusion_matrix(target, y_pred))\n",
    "\n",
    "print(\"Classification Report:\")\n",
    "print(classification_report(target, y_pred))"
   ]
  },
  {
   "cell_type": "code",
   "execution_count": null,
   "metadata": {
    "colab": {
     "base_uri": "https://localhost:8080/"
    },
    "id": "HkiC_yvNXTgP",
    "outputId": "0cca62a8-67f1-49cb-e4d3-61b785d6c1c3",
    "pycharm": {
     "name": "#%%\n"
    }
   },
   "outputs": [
    {
     "name": "stdout",
     "output_type": "stream",
     "text": [
      "     PassengerId  transported\n",
      "0        0013_01         True\n",
      "1        0018_01        False\n",
      "2        0019_01         True\n",
      "3        0021_01         True\n",
      "4        0023_01         True\n",
      "...          ...          ...\n",
      "4272     9266_02         True\n",
      "4273     9269_01        False\n",
      "4274     9271_01         True\n",
      "4275     9273_01         True\n",
      "4276     9277_01         True\n",
      "\n",
      "[4277 rows x 2 columns]\n"
     ]
    }
   ],
   "source": [
    "generateSubmission(\n",
    "    best_xgb,\n",
    "    model_preprocessor = ens_preprocessor,\n",
    "    file_name=\"xgboost.csv\",\n",
    "    direct_submit_to_kaggle=False    \n",
    ")"
   ]
  },
  {
   "cell_type": "markdown",
   "metadata": {
    "id": "K3tdNX5xlSAv",
    "pycharm": {
     "name": "#%% md\n"
    }
   },
   "source": [
    "Stacking ensemble"
   ]
  },
  {
   "cell_type": "code",
   "execution_count": null,
   "metadata": {
    "colab": {
     "base_uri": "https://localhost:8080/"
    },
    "id": "p_-0YmXTleTt",
    "outputId": "a2889f6e-4fd1-4700-b5fe-94028589abc3",
    "pycharm": {
     "name": "#%%\n"
    }
   },
   "outputs": [
    {
     "data": {
      "text/plain": [
       "0.783"
      ]
     },
     "execution_count": 56,
     "metadata": {},
     "output_type": "execute_result"
    }
   ],
   "source": [
    "from sklearn.model_selection import train_test_split\n",
    "from sklearn.ensemble import RandomForestClassifier, ExtraTreesClassifier, AdaBoostClassifier\n",
    "from sklearn.svm import SVC\n",
    "import xgboost as xgb\n",
    "\n",
    "best_svmc = SVC(C=10, kernel='linear', random_state=RANDOM_STATE)\n",
    "best_rnd = RandomForestClassifier(criterion='entropy', n_estimators=500, max_features=\"sqrt\", random_state=RANDOM_STATE)\n",
    "best_ext = ExtraTreesClassifier(criterion='entropy', max_features='sqrt', n_estimators=200, random_state=RANDOM_STATE)\n",
    "best_ada = AdaBoostClassifier(base_estimator=DecisionTreeClassifier(max_depth=1),\n",
    "                   learning_rate=0.5, n_estimators=50, algorithm=\"SAMME.R\", random_state=RANDOM_STATE)\n",
    "xgb_clf = xgb.XGBClassifier()\n",
    "estimators = [best_rnd, best_ext, best_ada, best_svmc, best_xgb]\n",
    "\n",
    "X_train_val, X_test, y_train_val, y_test = train_test_split(\n",
    "    ens_dataset, target, test_size=1000, random_state=RANDOM_STATE)\n",
    "X_train, X_val, y_train, y_val = train_test_split(\n",
    "    X_train_val, y_train_val, test_size=1000, random_state=RANDOM_STATE)\n",
    "\n",
    "for estimator in estimators:\n",
    "  estimator.fit(X_train, y_train)\n",
    "\n",
    "X_val_predictions = np.empty((len(X_val), len(estimators)), dtype=np.float32)\n",
    "\n",
    "for index, estimator in enumerate(estimators):\n",
    "    X_val_predictions[:, index] = estimator.predict(X_val)\n",
    "\n",
    "rnd_forest_blender = RandomForestClassifier(n_estimators=200, oob_score=True, random_state=RANDOM_STATE)\n",
    "rnd_forest_blender.fit(X_val_predictions, y_val)\n",
    "\n",
    "rnd_forest_blender.oob_score_\n"
   ]
  },
  {
   "cell_type": "code",
   "execution_count": null,
   "metadata": {
    "colab": {
     "base_uri": "https://localhost:8080/"
    },
    "id": "x0IDcH14sZ1P",
    "outputId": "0bbf22b5-8cf9-43d0-e2a4-44f072c2c42a",
    "pycharm": {
     "name": "#%%\n"
    }
   },
   "outputs": [
    {
     "data": {
      "text/plain": [
       "0.81"
      ]
     },
     "execution_count": 57,
     "metadata": {},
     "output_type": "execute_result"
    }
   ],
   "source": [
    "from sklearn.metrics import accuracy_score\n",
    "\n",
    "X_test_predictions = np.empty((len(X_test), len(estimators)), dtype=np.float32)\n",
    "\n",
    "for index, estimator in enumerate(estimators):\n",
    "    X_test_predictions[:, index] = estimator.predict(X_test)\n",
    "y_pred = rnd_forest_blender.predict(X_test_predictions)\n",
    "\n",
    "accuracy_score(y_test, y_pred)"
   ]
  },
  {
   "cell_type": "markdown",
   "metadata": {
    "id": "qp8-40QITW8y",
    "pycharm": {
     "name": "#%% md\n"
    }
   },
   "source": [
    "---\n",
    "# Auto Sklearn"
   ]
  },
  {
   "cell_type": "markdown",
   "metadata": {
    "id": "-zgfhw4tF-Ld",
    "pycharm": {
     "name": "#%% md\n"
    }
   },
   "source": [
    "## Imports"
   ]
  },
  {
   "cell_type": "code",
   "execution_count": null,
   "metadata": {
    "id": "1x1vOcc5_dHe",
    "pycharm": {
     "name": "#%%\n"
    }
   },
   "outputs": [],
   "source": [
    "# sometimes you have to run this cell twice on colab\n",
    "# !apt-get install swig -y\n",
    "# !pip install Cython numpy\n",
    "# !pip install scikit-learn --upgrade\n",
    "!pip install auto-sklearn --upgrade\n",
    "!pip install dask distributed --upgrade\n",
    "# !pip install pipelineprofiler\n",
    "\n",
    "#restart runtime\n",
    "import os\n",
    "os.kill(os.getpid(), 9)"
   ]
  },
  {
   "cell_type": "markdown",
   "metadata": {
    "id": "PQeDqeyUGDHv",
    "pycharm": {
     "name": "#%% md\n"
    }
   },
   "source": [
    "## Dataset Preprocessing (just using the same as NN)"
   ]
  },
  {
   "cell_type": "code",
   "execution_count": null,
   "metadata": {
    "id": "i2baEX5rGJW1",
    "pycharm": {
     "name": "#%%\n"
    }
   },
   "outputs": [],
   "source": [
    "auto_preprocessor = nn_preprocessor\n",
    "auto_dataset = nn_dataset"
   ]
  },
  {
   "cell_type": "markdown",
   "metadata": {
    "id": "51maPDhBGRy6",
    "pycharm": {
     "name": "#%% md\n"
    }
   },
   "source": [
    "## Training"
   ]
  },
  {
   "cell_type": "code",
   "execution_count": null,
   "metadata": {
    "id": "9YnV-d6REfnZ",
    "pycharm": {
     "name": "#%%\n"
    }
   },
   "outputs": [],
   "source": [
    "from autosklearn.classification import AutoSklearnClassifier\n",
    "import sklearn.model_selection\n",
    "import sklearn.datasets\n",
    "import sklearn.metrics\n",
    "\n",
    "X_train, X_test, y_train, y_test = \\\n",
    "        sklearn.model_selection.train_test_split(auto_dataset, target, random_state=1)\n",
    "\n",
    "automl = AutoSklearnClassifier(time_left_for_this_task=60*5) #Auto-sklearn searches pipelines for 5 minutes; use ensemble_size=1 for a single model\n",
    "\n",
    "automl.fit(X_train, y_train)\n",
    "\n",
    "y_hat = automl.predict(X_test)\n",
    "\n",
    "print(\"Accuracy score\", sklearn.metrics.accuracy_score(y_test, y_hat))"
   ]
  },
  {
   "cell_type": "code",
   "execution_count": null,
   "metadata": {
    "id": "aXv63F61vy0C",
    "pycharm": {
     "name": "#%%\n"
    }
   },
   "outputs": [],
   "source": [
    "print(automl.sprint_statistics())"
   ]
  },
  {
   "cell_type": "code",
   "execution_count": null,
   "metadata": {
    "id": "oEblUohc35yO",
    "pycharm": {
     "name": "#%%\n"
    }
   },
   "outputs": [],
   "source": [
    "print(automl.leaderboard())"
   ]
  },
  {
   "cell_type": "code",
   "execution_count": null,
   "metadata": {
    "id": "pbrEiR4UwjNj",
    "pycharm": {
     "name": "#%%\n"
    }
   },
   "outputs": [],
   "source": [
    "automl.show_models()"
   ]
  },
  {
   "cell_type": "code",
   "execution_count": null,
   "metadata": {
    "id": "-39UX3jjj4NL",
    "pycharm": {
     "name": "#%%\n"
    }
   },
   "outputs": [],
   "source": [
    "# import PipelineProfiler\n",
    "\n",
    "# data = PipelineProfiler.import_autosklearn(automl)\n",
    "# PipelineProfiler.plot_pipeline_matrix(data)"
   ]
  },
  {
   "cell_type": "markdown",
   "metadata": {
    "id": "VIRiYyBYGfWe",
    "pycharm": {
     "name": "#%% md\n"
    }
   },
   "source": [
    "## Submission"
   ]
  },
  {
   "cell_type": "code",
   "execution_count": null,
   "metadata": {
    "id": "Yza6EN4NTbE-",
    "pycharm": {
     "name": "#%%\n"
    }
   },
   "outputs": [],
   "source": [
    "# generate a submission file\n",
    "generateSubmission(\n",
    "    model=automl,\n",
    "    model_preprocessor = auto_preprocessor,\n",
    "    model_postprocessor = FunctionTransformer(lambda y: np.round(y).astype(bool)),\n",
    "    file_name=\"automl.csv\",\n",
    "    direct_submit_to_kaggle=False\n",
    ")"
   ]
  },
  {
   "cell_type": "code",
   "execution_count": null,
   "metadata": {
    "id": "BD6rsn5mruDo",
    "pycharm": {
     "name": "#%%\n"
    }
   },
   "outputs": [],
   "source": [
    "from sklearn.preprocessing import MinMaxScaler\n",
    "dataset[numeric_columns] =  MinMaxScaler().fit_transform(dataset[numeric_columns])"
   ]
  }
 ],
 "metadata": {
  "colab": {
   "collapsed_sections": [
    "e09a1b81",
    "e1693a1a",
    "edfa17bf",
    "P1BSFuiQZYoL",
    "b2d22e5d",
    "kInmyHv4tPr3",
    "8e617d1d",
    "RryPV1ik62GS",
    "zQJ2w34G-wqg",
    "kwR97enV4VVy",
    "DZqHS-H23_YP",
    "cCQiyfGNDGlz",
    "2R-Uvje-RI2u",
    "SUesGYEYUVKW",
    "wrK4RxylcQzy",
    "M030PZlkTJMg",
    "NQq9WoIRTKyq",
    "JCv1nSvbqei7",
    "qp8-40QITW8y",
    "-zgfhw4tF-Ld",
    "PQeDqeyUGDHv",
    "51maPDhBGRy6",
    "VIRiYyBYGfWe"
   ],
   "name": "spaceship_titanic.ipynb",
   "provenance": []
  },
  "gpuClass": "standard",
  "kernelspec": {
   "display_name": "Python 3",
   "language": "python",
   "name": "python3"
  },
  "language_info": {
   "codemirror_mode": {
    "name": "ipython",
    "version": 2
   },
   "file_extension": ".py",
   "mimetype": "text/x-python",
   "name": "python",
   "nbconvert_exporter": "python",
   "pygments_lexer": "ipython2",
   "version": "2.7.6"
  }
 },
 "nbformat": 4,
 "nbformat_minor": 0
}